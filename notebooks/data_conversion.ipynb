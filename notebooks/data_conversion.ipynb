{
  "nbformat": 4,
  "nbformat_minor": 0,
  "metadata": {
    "colab": {
      "provenance": []
    },
    "kernelspec": {
      "name": "python3",
      "display_name": "Python 3"
    },
    "language_info": {
      "name": "python"
    }
  },
  "cells": [
    {
      "cell_type": "code",
      "execution_count": null,
      "metadata": {
        "id": "Uxl6w149OoXP"
      },
      "outputs": [],
      "source": [
        "# Install the spss-converter library\n",
        "!pip install spss-converter > /dev/null 2>&1\n",
        "!pip install pyreadstat > /dev/null 2>&1"
      ]
    },
    {
      "cell_type": "code",
      "source": [
        "# Mount Google Drive\n",
        "import os\n",
        "from google.colab import drive\n",
        "\n",
        "drive.mount('/content/drive')"
      ],
      "metadata": {
        "colab": {
          "base_uri": "https://localhost:8080/"
        },
        "id": "dNxDf_l5PsD0",
        "outputId": "f9b49e05-b395-4e17-c2e2-2404b9b59249"
      },
      "execution_count": null,
      "outputs": [
        {
          "output_type": "stream",
          "name": "stdout",
          "text": [
            "Mounted at /content/drive\n"
          ]
        }
      ]
    },
    {
      "cell_type": "code",
      "source": [
        "# Import the necessary libraries\n",
        "import pandas as pd\n",
        "import pyreadstat\n",
        "import spss_converter\n",
        "import os  # Import the os module for file system operations"
      ],
      "metadata": {
        "id": "MQxh_1LKUeZl"
      },
      "execution_count": null,
      "outputs": []
    },
    {
      "cell_type": "code",
      "source": [
        "# Specify the directory containing your .sav files in Google Drive\n",
        "sav_directory = '/content/drive/MyDrive/HIV-Exp-Project/Data'\n",
        "\n",
        "# Specify the directory to save the output CSV files\n",
        "csv_directory = '/content/drive/MyDrive/HIV-Exp-Project/Data/'\n",
        "\n",
        "# Check if the directory exists and list its contents\n",
        "if os.path.exists(sav_directory):\n",
        "    print(f\"Listing files in '{sav_directory}':\")\n",
        "    try:\n",
        "        files = os.listdir(sav_directory)\n",
        "        if files:\n",
        "            for f in files:\n",
        "                print(f)\n",
        "        else:\n",
        "            print(\"The directory is empty.\")\n",
        "    except Exception as e:\n",
        "        print(f\"An error occurred while listing files: {e}\")\n",
        "else:\n",
        "    print(f\"Error: The directory '{sav_directory}' does not exist or is not accessible.\")\n",
        "    print(\"Please ensure Google Drive is mounted and the path is correct.\")"
      ],
      "metadata": {
        "id": "qYfOQ9mJUwkc",
        "colab": {
          "base_uri": "https://localhost:8080/"
        },
        "outputId": "76a378e2-598b-4d6f-f5d2-a0e2d2f870ec"
      },
      "execution_count": null,
      "outputs": [
        {
          "output_type": "stream",
          "name": "stdout",
          "text": [
            "Listing files in '/content/drive/MyDrive/HIV-Exp-Project/Data':\n",
            "HCP Data _ GGHN-AHFID.xlsx\n",
            "hiv_exp.csv\n",
            "HCP222 Data _ GGHN-AHFID.csv\n",
            "client_data1.sav\n",
            "client_data0.sav\n",
            "providers_data0.sav\n",
            "providers_data1.sav\n"
          ]
        }
      ]
    },
    {
      "cell_type": "code",
      "source": [
        "# Read client_data0.sav\n",
        "file_path_client0 = os.path.join(sav_directory, 'client_data0.sav')\n",
        "try:\n",
        "    df_client0 = pd.read_spss(file_path_client0)\n",
        "    print(\"Successfully loaded client_data0.sav\")\n",
        "    print(df_client0.head())\n",
        "except FileNotFoundError:\n",
        "    print(f\"Error: File not found at '{file_path_client0}'.\")\n",
        "except Exception as e:\n",
        "    print(f\"An error occurred while trying to open client_data0.sav: {e}\")"
      ],
      "metadata": {
        "colab": {
          "base_uri": "https://localhost:8080/"
        },
        "id": "6BKorq5jeH75",
        "outputId": "a9e62671-48e2-48e4-abc9-2c1d17bc63f8"
      },
      "execution_count": null,
      "outputs": [
        {
          "output_type": "stream",
          "name": "stdout",
          "text": [
            "Successfully loaded client_data0.sav\n",
            "       SubmissionDate           starttime             endtime  \\\n",
            "0 2025-04-10 10:29:07 2025-04-10 10:07:03 2025-04-10 10:28:59   \n",
            "1 2025-04-10 10:47:35 2025-04-10 10:34:52 2025-04-10 10:47:18   \n",
            "2 2025-04-10 11:06:35 2025-04-10 10:52:39 2025-04-10 11:04:45   \n",
            "3 2025-04-10 12:49:41 2025-04-10 11:22:32 2025-04-10 11:27:47   \n",
            "4 2025-04-10 12:49:41 2025-04-10 11:52:13 2025-04-10 12:00:33   \n",
            "\n",
            "           deviceid devicephonenum                   username  \\\n",
            "0  7ad982f38c9b734b            NaN  uyinaneemmanuel@gmail.com   \n",
            "1  7ad982f38c9b734b            NaN  uyinaneemmanuel@gmail.com   \n",
            "2  7ad982f38c9b734b            NaN  uyinaneemmanuel@gmail.com   \n",
            "3  7ad982f38c9b734b            NaN  uyinaneemmanuel@gmail.com   \n",
            "4  7ad982f38c9b734b            NaN  uyinaneemmanuel@gmail.com   \n",
            "\n",
            "                                         device_info  duration caseid EnumID  \\\n",
            "0  TECNO|TECNO CK7n|14|SurveyCTO Collect 2.81.3 (...    1149.0    NaN  JG019   \n",
            "1  TECNO|TECNO CK7n|14|SurveyCTO Collect 2.81.3 (...     745.0    NaN  JG019   \n",
            "2  TECNO|TECNO CK7n|14|SurveyCTO Collect 2.81.3 (...     726.0    NaN  JG019   \n",
            "3  TECNO|TECNO CK7n|14|SurveyCTO Collect 2.81.3 (...     315.0    NaN  JG019   \n",
            "4  TECNO|TECNO CK7n|14|SurveyCTO Collect 2.81.3 (...     500.0    NaN  JG019   \n",
            "\n",
            "   ... comfortability_copy6 comfortability_copy5 comfortability_copy4  \\\n",
            "0  ...       Strongly Agree       Strongly Agree       Strongly Agree   \n",
            "1  ...                Agree       Strongly Agree       Strongly Agree   \n",
            "2  ...                Agree                Agree                Agree   \n",
            "3  ...       Strongly Agree       Strongly Agree       Strongly Agree   \n",
            "4  ...                Agree                Agree                Agree   \n",
            "\n",
            "  comfortability_copy3 comfortability_copy2 comfortability_copy1  \\\n",
            "0       Strongly Agree       Strongly Agree       Strongly Agree   \n",
            "1       Strongly Agree       Strongly Agree                Agree   \n",
            "2                Agree                Agree                Agree   \n",
            "3       Strongly Agree       Strongly Agree       Strongly Agree   \n",
            "4                Agree                Agree                Agree   \n",
            "\n",
            "  comfortability_copy                                 instanceID  \\\n",
            "0      Strongly Agree  uuid:d7e0b329-c6d0-4376-92d1-bd453452deb6   \n",
            "1      Strongly Agree  uuid:15d28e1f-1e3f-49cf-8439-17d439ef4d79   \n",
            "2               Agree  uuid:303b298e-ff27-41df-8c11-51534a36be8b   \n",
            "3      Strongly Agree  uuid:638668f4-8f40-4107-b93d-6d80c38cddf7   \n",
            "4      Strongly Agree  uuid:dd71304d-654b-4d1f-94f6-39e787eccb75   \n",
            "\n",
            "  formdef_version                                        KEY  \n",
            "0    2.504082e+09  uuid:d7e0b329-c6d0-4376-92d1-bd453452deb6  \n",
            "1    2.504082e+09  uuid:15d28e1f-1e3f-49cf-8439-17d439ef4d79  \n",
            "2    2.504082e+09  uuid:303b298e-ff27-41df-8c11-51534a36be8b  \n",
            "3    2.504082e+09  uuid:638668f4-8f40-4107-b93d-6d80c38cddf7  \n",
            "4    2.504082e+09  uuid:dd71304d-654b-4d1f-94f6-39e787eccb75  \n",
            "\n",
            "[5 rows x 51 columns]\n"
          ]
        }
      ]
    },
    {
      "cell_type": "code",
      "source": [
        "# Read client_data1.sav\n",
        "file_path_client1 = os.path.join(sav_directory, 'client_data1.sav')\n",
        "try:\n",
        "    df_client1 = pd.read_spss(file_path_client1)\n",
        "    print(\"\\nSuccessfully loaded client_data1.sav\")\n",
        "    print(df_client1.head())\n",
        "except FileNotFoundError:\n",
        "    print(f\"Error: File not found at '{file_path_client1}'.\")\n",
        "except Exception as e:\n",
        "    print(f\"An error occurred while trying to open client_data1.sav: {e}\")"
      ],
      "metadata": {
        "colab": {
          "base_uri": "https://localhost:8080/"
        },
        "id": "flweQzUrfZk9",
        "outputId": "49b9921e-9b81-4a06-d51b-00f58ea444ad"
      },
      "execution_count": null,
      "outputs": [
        {
          "output_type": "stream",
          "name": "stdout",
          "text": [
            "\n",
            "Successfully loaded client_data1.sav\n",
            "       SubmissionDate           starttime             endtime  \\\n",
            "0 2025-05-07 12:55:29 2025-04-15 10:04:07 2025-04-15 15:31:19   \n",
            "1 2025-05-07 12:55:30 2025-04-15 10:25:08 2025-04-15 15:31:26   \n",
            "2 2025-05-07 12:55:31 2025-04-15 10:53:16 2025-04-15 15:31:36   \n",
            "3 2025-05-07 12:55:31 2025-04-15 11:01:51 2025-04-15 15:32:01   \n",
            "4 2025-05-07 12:55:32 2025-04-15 11:44:44 2025-04-15 15:32:08   \n",
            "\n",
            "           deviceid devicephonenum              username  \\\n",
            "0  9e2fdc7d146194fd            NaN  ajjiliyasu@gmail.com   \n",
            "1  9e2fdc7d146194fd            NaN  ajjiliyasu@gmail.com   \n",
            "2  9e2fdc7d146194fd            NaN  ajjiliyasu@gmail.com   \n",
            "3  9e2fdc7d146194fd            NaN  ajjiliyasu@gmail.com   \n",
            "4  9e2fdc7d146194fd            NaN  ajjiliyasu@gmail.com   \n",
            "\n",
            "                                         device_info  duration caseid EnumID  \\\n",
            "0  Infinix|Infinix X669C|12|SurveyCTO Collect 2.8...    1096.0    NaN  BC024   \n",
            "1  Infinix|Infinix X669C|12|SurveyCTO Collect 2.8...     655.0    NaN  BC024   \n",
            "2  Infinix|Infinix X669C|12|SurveyCTO Collect 2.8...     395.0    NaN  BC024   \n",
            "3  Infinix|Infinix X669C|12|SurveyCTO Collect 2.8...     402.0    NaN  BC024   \n",
            "4  Infinix|Infinix X669C|12|SurveyCTO Collect 2.8...     340.0    NaN  BC024   \n",
            "\n",
            "   ... comfortability_copy6 comfortability_copy5 comfortability_copy4  \\\n",
            "0  ...       Strongly Agree       Strongly Agree       Strongly Agree   \n",
            "1  ...       Strongly Agree       Strongly Agree       Strongly Agree   \n",
            "2  ...       Strongly Agree       Strongly Agree       Strongly Agree   \n",
            "3  ...       Strongly Agree       Strongly Agree       Strongly Agree   \n",
            "4  ...       Strongly Agree       Strongly Agree       Strongly Agree   \n",
            "\n",
            "  comfortability_copy3 comfortability_copy2 comfortability_copy1  \\\n",
            "0       Strongly Agree       Strongly Agree       Strongly Agree   \n",
            "1       Strongly Agree       Strongly Agree       Strongly Agree   \n",
            "2       Strongly Agree       Strongly Agree       Strongly Agree   \n",
            "3       Strongly Agree       Strongly Agree       Strongly Agree   \n",
            "4       Strongly Agree       Strongly Agree       Strongly Agree   \n",
            "\n",
            "  comfortability_copy                                 instanceID  \\\n",
            "0      Strongly Agree  uuid:99dea9ab-dbcd-4be7-8c7f-caef5cb630ab   \n",
            "1      Strongly Agree  uuid:4a78906f-76f2-4f90-b4d0-dae14ccc7ff4   \n",
            "2      Strongly Agree  uuid:56eecff2-3124-4b5d-a41d-52494a1ad0f1   \n",
            "3      Strongly Agree  uuid:3de2e244-39a2-43fa-873b-65390a0522c5   \n",
            "4      Strongly Agree  uuid:b6a25136-c3db-42c1-822a-80f700ca1e29   \n",
            "\n",
            "  formdef_version                                        KEY  \n",
            "0    2.504082e+09  uuid:99dea9ab-dbcd-4be7-8c7f-caef5cb630ab  \n",
            "1    2.504082e+09  uuid:4a78906f-76f2-4f90-b4d0-dae14ccc7ff4  \n",
            "2    2.504082e+09  uuid:56eecff2-3124-4b5d-a41d-52494a1ad0f1  \n",
            "3    2.504082e+09  uuid:3de2e244-39a2-43fa-873b-65390a0522c5  \n",
            "4    2.504082e+09  uuid:b6a25136-c3db-42c1-822a-80f700ca1e29  \n",
            "\n",
            "[5 rows x 51 columns]\n"
          ]
        }
      ]
    },
    {
      "cell_type": "code",
      "source": [
        "# Read providers_data0.sav\n",
        "file_path_provider0 = os.path.join(sav_directory, 'providers_data0.sav')\n",
        "try:\n",
        "    df_provider0 = pd.read_spss(file_path_provider0)\n",
        "    print(\"\\nSuccessfully loaded providers_data0.sav\")\n",
        "    print(df_provider0.head())\n",
        "except FileNotFoundError:\n",
        "    print(f\"Error: File not found at '{file_path_provider0}'.\")\n",
        "except Exception as e:\n",
        "    print(f\"An error occurred while trying to open providers_data0.sav: {e}\")"
      ],
      "metadata": {
        "colab": {
          "base_uri": "https://localhost:8080/"
        },
        "id": "DsY8RlQzhdd2",
        "outputId": "f52a7a6d-dbab-483c-f7d0-8511f76d9bb8"
      },
      "execution_count": null,
      "outputs": [
        {
          "output_type": "stream",
          "name": "stdout",
          "text": [
            "\n",
            "Successfully loaded providers_data0.sav\n",
            "       SubmissionDate           starttime             endtime  \\\n",
            "0 2025-04-10 12:49:16 2025-04-10 12:39:55 2025-04-10 12:46:42   \n",
            "1 2025-04-10 12:49:42 2025-04-10 12:22:36 2025-04-10 12:29:41   \n",
            "2 2025-04-10 12:49:42 2025-04-10 12:32:31 2025-04-10 12:38:07   \n",
            "3 2025-04-10 13:27:31 2025-04-10 12:50:37 2025-04-10 12:59:14   \n",
            "4 2025-04-10 13:27:31 2025-04-10 13:00:23 2025-04-10 13:07:31   \n",
            "\n",
            "           deviceid devicephonenum                   username  \\\n",
            "0  7ad982f38c9b734b            NaN  uyinaneemmanuel@gmail.com   \n",
            "1  7ad982f38c9b734b            NaN  uyinaneemmanuel@gmail.com   \n",
            "2  7ad982f38c9b734b            NaN  uyinaneemmanuel@gmail.com   \n",
            "3  7ad982f38c9b734b            NaN  uyinaneemmanuel@gmail.com   \n",
            "4  7ad982f38c9b734b            NaN  uyinaneemmanuel@gmail.com   \n",
            "\n",
            "                                         device_info  duration caseid enumid  \\\n",
            "0  TECNO|TECNO CK7n|14|SurveyCTO Collect 2.81.3 (...     407.0    NaN  JG019   \n",
            "1  TECNO|TECNO CK7n|14|SurveyCTO Collect 2.81.3 (...     425.0    NaN  JG019   \n",
            "2  TECNO|TECNO CK7n|14|SurveyCTO Collect 2.81.3 (...     335.0    NaN  JG019   \n",
            "3  TECNO|TECNO CK7n|14|SurveyCTO Collect 2.81.3 (...     517.0    NaN    019   \n",
            "4  TECNO|TECNO CK7n|14|SurveyCTO Collect 2.81.3 (...     427.0    NaN  JG019   \n",
            "\n",
            "   ...        statement_7        statement_8        statement_9  \\\n",
            "0  ...           Disagree           Disagree              Agree   \n",
            "1  ...  Strongly Disagree           Disagree  Strongly Disagree   \n",
            "2  ...  Strongly Disagree  Strongly Disagree     Strongly Agree   \n",
            "3  ...  Strongly Disagree  Strongly Disagree              Agree   \n",
            "4  ...  Strongly Disagree              Agree           Disagree   \n",
            "\n",
            "        statement_10    statement_11       statement_12       statement_13  \\\n",
            "0  Strongly Disagree  Strongly Agree  Strongly Disagree     Strongly Agree   \n",
            "1  Strongly Disagree           Agree  Strongly Disagree  Strongly Disagree   \n",
            "2     Strongly Agree  Strongly Agree  Strongly Disagree     Strongly Agree   \n",
            "3  Strongly Disagree  Strongly Agree  Strongly Disagree     Strongly Agree   \n",
            "4  Strongly Disagree           Agree  Strongly Disagree              Agree   \n",
            "\n",
            "                                  instanceID formdef_version  \\\n",
            "0  uuid:0c1dcd62-6bd1-4968-a962-36b4016426fc    2.504091e+09   \n",
            "1  uuid:daf5a633-0a1f-4c61-9a1e-05643b28dd10    2.504091e+09   \n",
            "2  uuid:ca60777b-8c72-43ee-b1bb-5e006418e7c2    2.504091e+09   \n",
            "3  uuid:6c1ec9c9-b351-407f-a247-c2b15c3eb3da    2.504091e+09   \n",
            "4  uuid:dfea2ad2-ffcc-4236-a2bb-3966b5722294    2.504091e+09   \n",
            "\n",
            "                                         KEY  \n",
            "0  uuid:0c1dcd62-6bd1-4968-a962-36b4016426fc  \n",
            "1  uuid:daf5a633-0a1f-4c61-9a1e-05643b28dd10  \n",
            "2  uuid:ca60777b-8c72-43ee-b1bb-5e006418e7c2  \n",
            "3  uuid:6c1ec9c9-b351-407f-a247-c2b15c3eb3da  \n",
            "4  uuid:dfea2ad2-ffcc-4236-a2bb-3966b5722294  \n",
            "\n",
            "[5 rows x 37 columns]\n"
          ]
        }
      ]
    },
    {
      "cell_type": "code",
      "source": [
        "# Read providers_data1.sav\n",
        "file_path_provider1 = os.path.join(sav_directory, 'providers_data1.sav')\n",
        "try:\n",
        "    df_provider1 = pd.read_spss(file_path_provider1)\n",
        "    print(\"\\nSuccessfully loaded providers_data1.sav\")\n",
        "    print(df_provider1.head())\n",
        "except FileNotFoundError:\n",
        "    print(f\"Error: File not found at '{file_path_provider1}'.\")\n",
        "except Exception as e:\n",
        "    print(f\"An error occurred while trying to open providers_data1.sav: {e}\")"
      ],
      "metadata": {
        "colab": {
          "base_uri": "https://localhost:8080/"
        },
        "id": "5uSaPHghhudX",
        "outputId": "712fb19d-d778-402c-b52d-dd8b6678167a"
      },
      "execution_count": null,
      "outputs": [
        {
          "output_type": "stream",
          "name": "stdout",
          "text": [
            "\n",
            "Successfully loaded providers_data1.sav\n",
            "       SubmissionDate           starttime             endtime  \\\n",
            "0 2025-05-07 12:55:32 2025-04-15 11:17:23 2025-04-15 15:32:15   \n",
            "1 2025-05-07 12:55:32 2025-04-15 11:57:05 2025-04-15 15:32:22   \n",
            "2 2025-05-07 12:55:32 2025-04-15 12:13:05 2025-04-15 12:18:44   \n",
            "3 2025-05-07 12:55:33 2025-04-15 12:20:48 2025-04-15 12:26:42   \n",
            "4 2025-05-07 12:55:33 2025-04-15 13:28:13 2025-04-15 13:35:48   \n",
            "\n",
            "           deviceid devicephonenum              username  \\\n",
            "0  9e2fdc7d146194fd            NaN  ajjiliyasu@gmail.com   \n",
            "1  9e2fdc7d146194fd            NaN  ajjiliyasu@gmail.com   \n",
            "2  9e2fdc7d146194fd            NaN  ajjiliyasu@gmail.com   \n",
            "3  9e2fdc7d146194fd            NaN  ajjiliyasu@gmail.com   \n",
            "4  9e2fdc7d146194fd            NaN  ajjiliyasu@gmail.com   \n",
            "\n",
            "                                         device_info  duration caseid enumid  \\\n",
            "0  Infinix|Infinix X669C|12|SurveyCTO Collect 2.8...     431.0    NaN  BC024   \n",
            "1  Infinix|Infinix X669C|12|SurveyCTO Collect 2.8...     308.0    NaN  BC024   \n",
            "2  Infinix|Infinix X669C|12|SurveyCTO Collect 2.8...     338.0    NaN  BC024   \n",
            "3  Infinix|Infinix X669C|12|SurveyCTO Collect 2.8...     354.0    NaN  BC024   \n",
            "4  Infinix|Infinix X669C|12|SurveyCTO Collect 2.8...     456.0    NaN  BC024   \n",
            "\n",
            "   ...        statement_7        statement_8     statement_9  \\\n",
            "0  ...  Strongly Disagree              Agree           Agree   \n",
            "1  ...  Strongly Disagree           Disagree  Strongly Agree   \n",
            "2  ...  Strongly Disagree           Disagree  Strongly Agree   \n",
            "3  ...  Strongly Disagree           Disagree           Agree   \n",
            "4  ...  Strongly Disagree  Strongly Disagree        Disagree   \n",
            "\n",
            "        statement_10    statement_11       statement_12    statement_13  \\\n",
            "0  Strongly Disagree           Agree              Agree  Strongly Agree   \n",
            "1  Strongly Disagree  Strongly Agree  Strongly Disagree  Strongly Agree   \n",
            "2  Strongly Disagree           Agree  Strongly Disagree  Strongly Agree   \n",
            "3  Strongly Disagree           Agree  Strongly Disagree  Strongly Agree   \n",
            "4  Strongly Disagree  Strongly Agree     Strongly Agree  Strongly Agree   \n",
            "\n",
            "                                  instanceID formdef_version  \\\n",
            "0  uuid:c157c5f4-98f9-4a70-8180-338595b7b631    2.504101e+09   \n",
            "1  uuid:85c9ac07-fb2b-4225-813c-e43c1cb38f0f    2.504101e+09   \n",
            "2  uuid:c1d2bc38-f947-4764-b2d8-3421314e0f61    2.504101e+09   \n",
            "3  uuid:5902f8c1-c460-4dd5-9d12-103a0817b9a8    2.504101e+09   \n",
            "4  uuid:6a37a37f-89c7-49a5-8bbf-6d59ca8134ba    2.504101e+09   \n",
            "\n",
            "                                         KEY  \n",
            "0  uuid:c157c5f4-98f9-4a70-8180-338595b7b631  \n",
            "1  uuid:85c9ac07-fb2b-4225-813c-e43c1cb38f0f  \n",
            "2  uuid:c1d2bc38-f947-4764-b2d8-3421314e0f61  \n",
            "3  uuid:5902f8c1-c460-4dd5-9d12-103a0817b9a8  \n",
            "4  uuid:6a37a37f-89c7-49a5-8bbf-6d59ca8134ba  \n",
            "\n",
            "[5 rows x 37 columns]\n"
          ]
        }
      ]
    },
    {
      "cell_type": "code",
      "source": [
        "# List columns in df_client0\n",
        "print(\"\\nColumns in df_client0 after dropping:\")\n",
        "print(df_client0.columns.tolist())"
      ],
      "metadata": {
        "colab": {
          "base_uri": "https://localhost:8080/"
        },
        "id": "fKVCkQgYnk8j",
        "outputId": "45152557-9b34-490c-fd41-6acee0bc2b29"
      },
      "execution_count": null,
      "outputs": [
        {
          "output_type": "stream",
          "name": "stdout",
          "text": [
            "\n",
            "Columns in df_client0 after dropping:\n",
            "['SubmissionDate', 'starttime', 'endtime', 'deviceid', 'devicephonenum', 'username', 'device_info', 'duration', 'caseid', 'EnumID', 'Permission', 'years', 'gender', 'GenOthers', 'Mstatus', 'fam', 'numb', 'Edulevel', 'EduLevel', 'empstatus', 'OtherEmp', 'monthIncome', 'treatmentreg', 'oth_treatment', 'durationTLHIV', 'durRecCare', 'TimRecCare', 'Satisfaction', 'HIVdiag', 'comfortability', 'comfortability_copy17', 'comfortability_copy16', 'comfortability_copy15', 'comfortability_copy14', 'comfortability_copy13', 'comfortability_copy12', 'comfortability_copy11', 'comfortability_copy10', 'comfortability_copy9', 'comfortability_copy8', 'comfortability_copy7', 'comfortability_copy6', 'comfortability_copy5', 'comfortability_copy4', 'comfortability_copy3', 'comfortability_copy2', 'comfortability_copy1', 'comfortability_copy', 'instanceID', 'formdef_version', 'KEY']\n"
          ]
        }
      ]
    },
    {
      "cell_type": "code",
      "source": [
        "# List columns in df_provider0\n",
        "print(\"\\nColumns in df_provider0 after dropping:\")\n",
        "print(df_provider0.columns.tolist())"
      ],
      "metadata": {
        "colab": {
          "base_uri": "https://localhost:8080/"
        },
        "id": "0qamVL3OoxCx",
        "outputId": "88387403-3aff-4b9a-8b84-69d58404d515"
      },
      "execution_count": null,
      "outputs": [
        {
          "output_type": "stream",
          "name": "stdout",
          "text": [
            "\n",
            "Columns in df_provider0 after dropping:\n",
            "['SubmissionDate', 'starttime', 'endtime', 'deviceid', 'devicephonenum', 'username', 'device_info', 'duration', 'caseid', 'enumid', 'cons', 'age', 'gend', 'education', 'otherspec', 'profrole', 'prof_other', 'experienceinHIV', 'employment', 'spectraining', 'agegroup', 'statement', 'statement_2', 'statement_3', 'statement_4', 'statement_5', 'statement_6', 'statement_7', 'statement_8', 'statement_9', 'statement_10', 'statement_11', 'statement_12', 'statement_13', 'instanceID', 'formdef_version', 'KEY']\n"
          ]
        }
      ]
    },
    {
      "cell_type": "code",
      "source": [
        "# List of columns to drop\n",
        "client_columns_to_drop = ['SubmissionDate', 'starttime', 'endtime','deviceid',\n",
        "                          'devicephonenum', 'username', 'device_info', 'duration',\n",
        "                          'caseid', 'Permission','GenOthers', 'OtherEmp', 'instanceID',\n",
        "                          'formdef_version', 'KEY']"
      ],
      "metadata": {
        "id": "cDvH775El69G"
      },
      "execution_count": null,
      "outputs": []
    },
    {
      "cell_type": "code",
      "source": [
        "# List of columns to drop\n",
        "providers_columns_to_drop = ['SubmissionDate', 'starttime', 'endtime','deviceid',\n",
        "                          'devicephonenum', 'username', 'device_info', 'duration',\n",
        "                          'caseid', 'Permission','GenOthers', 'OtherEmp', 'instanceID',\n",
        "                          'formdef_version', 'KEY']"
      ],
      "metadata": {
        "id": "GocJfLAbmOTD"
      },
      "execution_count": null,
      "outputs": []
    },
    {
      "cell_type": "code",
      "source": [
        "# Drop the specified columns from df_client0\n",
        "# errors='ignore' will prevent an error if a column doesn't exist\n",
        "if 'df_client0' in locals(): # Check if df_client0 exists\n",
        "    df_client0 = df_client0.drop(columns=client_columns_to_drop, errors='ignore')\n",
        "    print(\"Dropped specified columns from df_client0\")\n",
        "    print(df_client0.head())\n",
        "else:\n",
        "    print(\"df_client0 not found. Please ensure it is loaded before dropping columns.\")"
      ],
      "metadata": {
        "colab": {
          "base_uri": "https://localhost:8080/"
        },
        "id": "-f6P0RkAmG-7",
        "outputId": "6bf41c2a-ea80-4b71-b32b-87e479335f79"
      },
      "execution_count": null,
      "outputs": [
        {
          "output_type": "stream",
          "name": "stdout",
          "text": [
            "Dropped specified columns from df_client0\n",
            "  EnumID               years  gender  Mstatus       fam            numb  \\\n",
            "0  JG019               45–54    Male  Married  Polygamy  Greater than 4   \n",
            "1  JG019               35–44  Female  Widowed  Polygamy  Greater than 4   \n",
            "2  JG019               25-34  Female   Single  Monogamy  Greater than 4   \n",
            "3  JG019               35–44  Female  Married  Monogamy  Greater than 4   \n",
            "4  JG019  55 years and above    Male  Married  Polygamy  Greater than 4   \n",
            "\n",
            "                                         Edulevel EduLevel  \\\n",
            "0  Tertiary education (e.g., University, college)      NaN   \n",
            "1                             Secondary education      NaN   \n",
            "2                             No formal education      NaN   \n",
            "3  Tertiary education (e.g., University, college)      NaN   \n",
            "4                             Secondary education      NaN   \n",
            "\n",
            "            empstatus             monthIncome  ... comfortability_copy9  \\\n",
            "0  Employed part-time  Less than 20,000 Naira  ...       Strongly Agree   \n",
            "1       Self-employed  Less than 20,000 Naira  ...       Strongly Agree   \n",
            "2          Unemployed  Less than 20,000 Naira  ...                Agree   \n",
            "3  Employed full-time   101,000–200,000 Naira  ...       Strongly Agree   \n",
            "4  Employed full-time    51,000–100,000 Naira  ...                Agree   \n",
            "\n",
            "  comfortability_copy8 comfortability_copy7 comfortability_copy6  \\\n",
            "0       Strongly Agree       Strongly Agree       Strongly Agree   \n",
            "1       Strongly Agree       Strongly Agree                Agree   \n",
            "2                Agree                Agree                Agree   \n",
            "3       Strongly Agree       Strongly Agree       Strongly Agree   \n",
            "4                Agree                Agree                Agree   \n",
            "\n",
            "  comfortability_copy5 comfortability_copy4 comfortability_copy3  \\\n",
            "0       Strongly Agree       Strongly Agree       Strongly Agree   \n",
            "1       Strongly Agree       Strongly Agree       Strongly Agree   \n",
            "2                Agree                Agree                Agree   \n",
            "3       Strongly Agree       Strongly Agree       Strongly Agree   \n",
            "4                Agree                Agree                Agree   \n",
            "\n",
            "  comfortability_copy2 comfortability_copy1 comfortability_copy  \n",
            "0       Strongly Agree       Strongly Agree      Strongly Agree  \n",
            "1       Strongly Agree                Agree      Strongly Agree  \n",
            "2                Agree                Agree               Agree  \n",
            "3       Strongly Agree       Strongly Agree      Strongly Agree  \n",
            "4                Agree                Agree      Strongly Agree  \n",
            "\n",
            "[5 rows x 36 columns]\n"
          ]
        }
      ]
    },
    {
      "cell_type": "code",
      "source": [
        "# Drop the specified columns from df_client1\n",
        "if 'df_client1' in locals(): # Check if df_client1 exists\n",
        "    df_client1 = df_client1.drop(columns=client_columns_to_drop, errors='ignore')\n",
        "    print(\"Dropped specified columns from df_client1\")\n",
        "    print(df_client1.head())\n",
        "else:\n",
        "    print(\"df_client1 not found. Please ensure it is loaded before dropping columns.\")"
      ],
      "metadata": {
        "colab": {
          "base_uri": "https://localhost:8080/"
        },
        "id": "ID-P2Waptxlp",
        "outputId": "d575675a-3a0a-4806-c278-cd269818ad56"
      },
      "execution_count": null,
      "outputs": [
        {
          "output_type": "stream",
          "name": "stdout",
          "text": [
            "Dropped specified columns from df_client1\n",
            "  EnumID  years  gender  Mstatus       fam            numb  \\\n",
            "0  BC024  35–44  Female  Widowed  Polygamy  Greater than 4   \n",
            "1  BC024  35–44  Female  Married  Monogamy  Greater than 4   \n",
            "2  BC024  45–54  Female  Married  Polygamy  Greater than 4   \n",
            "3  BC024  25-34  Female   Single  Monogamy            None   \n",
            "4  BC024  45–54    Male  Married  Monogamy             3-4   \n",
            "\n",
            "                                         Edulevel EduLevel  \\\n",
            "0                             No formal education      NaN   \n",
            "1                             Secondary education      NaN   \n",
            "2                               Primary education      NaN   \n",
            "3  Tertiary education (e.g., University, college)      NaN   \n",
            "4                             Secondary education      NaN   \n",
            "\n",
            "                empstatus             monthIncome  ... comfortability_copy9  \\\n",
            "0           Self-employed     20,000–50,000 Naira  ...       Strongly Agree   \n",
            "1  Other (please specify)  Less than 20,000 Naira  ...       Strongly Agree   \n",
            "2  Other (please specify)  Less than 20,000 Naira  ...       Strongly Agree   \n",
            "3           Self-employed  Less than 20,000 Naira  ...       Strongly Agree   \n",
            "4      Employed full-time     20,000–50,000 Naira  ...       Strongly Agree   \n",
            "\n",
            "  comfortability_copy8 comfortability_copy7 comfortability_copy6  \\\n",
            "0       Strongly Agree       Strongly Agree       Strongly Agree   \n",
            "1       Strongly Agree       Strongly Agree       Strongly Agree   \n",
            "2       Strongly Agree       Strongly Agree       Strongly Agree   \n",
            "3       Strongly Agree       Strongly Agree       Strongly Agree   \n",
            "4       Strongly Agree       Strongly Agree       Strongly Agree   \n",
            "\n",
            "  comfortability_copy5 comfortability_copy4 comfortability_copy3  \\\n",
            "0       Strongly Agree       Strongly Agree       Strongly Agree   \n",
            "1       Strongly Agree       Strongly Agree       Strongly Agree   \n",
            "2       Strongly Agree       Strongly Agree       Strongly Agree   \n",
            "3       Strongly Agree       Strongly Agree       Strongly Agree   \n",
            "4       Strongly Agree       Strongly Agree       Strongly Agree   \n",
            "\n",
            "  comfortability_copy2 comfortability_copy1 comfortability_copy  \n",
            "0       Strongly Agree       Strongly Agree      Strongly Agree  \n",
            "1       Strongly Agree       Strongly Agree      Strongly Agree  \n",
            "2       Strongly Agree       Strongly Agree      Strongly Agree  \n",
            "3       Strongly Agree       Strongly Agree      Strongly Agree  \n",
            "4       Strongly Agree       Strongly Agree      Strongly Agree  \n",
            "\n",
            "[5 rows x 36 columns]\n"
          ]
        }
      ]
    },
    {
      "cell_type": "code",
      "source": [
        "# Drop the specified columns from df_provider0\n",
        "if 'df_provider0' in locals(): # Check if df_provider0 exists\n",
        "    df_provider0 = df_provider0.drop(columns=providers_columns_to_drop, errors='ignore')\n",
        "    print(\"Dropped specified columns from df_provider0\")\n",
        "    print(df_provider0.head())\n",
        "else:\n",
        "    print(\"df_provider0 not found. Please ensure it is loaded before dropping columns.\")"
      ],
      "metadata": {
        "colab": {
          "base_uri": "https://localhost:8080/"
        },
        "id": "Eagpz7qpt1f3",
        "outputId": "7c9abe02-2054-409b-d801-b263eef745ad"
      },
      "execution_count": null,
      "outputs": [
        {
          "output_type": "stream",
          "name": "stdout",
          "text": [
            "Dropped specified columns from df_provider0\n",
            "  enumid cons                 age    gend               education  \\\n",
            "0  JG019  Yes  55 years and above    Male  Other (please specify)   \n",
            "1  JG019  Yes               35–44    Male       Bachelor’s Degree   \n",
            "2  JG019  Yes  55 years and above    Male       Bachelor’s Degree   \n",
            "3    019  Yes               45–54    Male       Bachelor’s Degree   \n",
            "4  JG019  Yes               35–44  Female                 Diploma   \n",
            "\n",
            "          otherspec                profrole prof_other experienceinHIV  \\\n",
            "0  CHIPS PHARM TECH              Pharmacist        NaN    More than 10   \n",
            "1               NaN  Other (please specify)        NaN             4–7   \n",
            "2               NaN                   Nurse        NaN    More than 10   \n",
            "3               NaN               Physician        NaN             1–3   \n",
            "4               NaN           Social Worker        NaN            8–10   \n",
            "\n",
            "                employment  ...     statement_4     statement_5  \\\n",
            "0                      1–3  ...           Agree           Agree   \n",
            "1                      1–3  ...  Strongly Agree  Strongly Agree   \n",
            "2                      1–3  ...  Strongly Agree  Strongly Agree   \n",
            "3  Not an employee of GGHN  ...           Agree           Agree   \n",
            "4                      1–3  ...  Strongly Agree           Agree   \n",
            "\n",
            "      statement_6        statement_7        statement_8        statement_9  \\\n",
            "0           Agree           Disagree           Disagree              Agree   \n",
            "1  Strongly Agree  Strongly Disagree           Disagree  Strongly Disagree   \n",
            "2  Strongly Agree  Strongly Disagree  Strongly Disagree     Strongly Agree   \n",
            "3           Agree  Strongly Disagree  Strongly Disagree              Agree   \n",
            "4           Agree  Strongly Disagree              Agree           Disagree   \n",
            "\n",
            "        statement_10    statement_11       statement_12       statement_13  \n",
            "0  Strongly Disagree  Strongly Agree  Strongly Disagree     Strongly Agree  \n",
            "1  Strongly Disagree           Agree  Strongly Disagree  Strongly Disagree  \n",
            "2     Strongly Agree  Strongly Agree  Strongly Disagree     Strongly Agree  \n",
            "3  Strongly Disagree  Strongly Agree  Strongly Disagree     Strongly Agree  \n",
            "4  Strongly Disagree           Agree  Strongly Disagree              Agree  \n",
            "\n",
            "[5 rows x 25 columns]\n"
          ]
        }
      ]
    },
    {
      "cell_type": "code",
      "source": [
        "# Drop the specified columns from df_provider1\n",
        "if 'df_provider1' in locals(): # Check if df_provider1 exists\n",
        "    df_provider1 = df_provider1.drop(columns=providers_columns_to_drop, errors='ignore')\n",
        "    print(\"Dropped specified columns from df_provider1\")\n",
        "    print(df_provider1.head())\n",
        "else:\n",
        "     print(\"df_provider1 not found. Please ensure it is loaded before dropping columns.\")"
      ],
      "metadata": {
        "colab": {
          "base_uri": "https://localhost:8080/"
        },
        "id": "EFzqA3lGuJrp",
        "outputId": "4f6005b9-2caa-4743-9bcb-b4dec75e09f3"
      },
      "execution_count": null,
      "outputs": [
        {
          "output_type": "stream",
          "name": "stdout",
          "text": [
            "Dropped specified columns from df_provider1\n",
            "  enumid cons    age    gend               education otherspec  \\\n",
            "0  BC024  Yes  35–44    Male       Bachelor’s Degree       NaN   \n",
            "1  BC024  Yes  25–34    Male  Other (please specify)       PGD   \n",
            "2  BC024  Yes  25–34  Female                 Diploma       NaN   \n",
            "3  BC024  Yes  25–34    Male                 Diploma       NaN   \n",
            "4  BC024  Yes  25–34    Male                 Diploma       NaN   \n",
            "\n",
            "                 profrole     prof_other experienceinHIV employment  ...  \\\n",
            "0  Other (please specify)  Public Health            8–10       8–10  ...   \n",
            "1  Other (please specify)   Case Manager             1–3        1–3  ...   \n",
            "2  Other (please specify)   Case Manager             1–3        1–3  ...   \n",
            "3  Other (please specify)   Case Manager             4–7        4–7  ...   \n",
            "4  Other (please specify)   Case Manager             4–7        4–7  ...   \n",
            "\n",
            "      statement_4     statement_5     statement_6        statement_7  \\\n",
            "0  Strongly Agree  Strongly Agree  Strongly Agree  Strongly Disagree   \n",
            "1           Agree           Agree           Agree  Strongly Disagree   \n",
            "2  Strongly Agree  Strongly Agree  Strongly Agree  Strongly Disagree   \n",
            "3  Strongly Agree  Strongly Agree           Agree  Strongly Disagree   \n",
            "4  Strongly Agree  Strongly Agree  Strongly Agree  Strongly Disagree   \n",
            "\n",
            "         statement_8     statement_9       statement_10    statement_11  \\\n",
            "0              Agree           Agree  Strongly Disagree           Agree   \n",
            "1           Disagree  Strongly Agree  Strongly Disagree  Strongly Agree   \n",
            "2           Disagree  Strongly Agree  Strongly Disagree           Agree   \n",
            "3           Disagree           Agree  Strongly Disagree           Agree   \n",
            "4  Strongly Disagree        Disagree  Strongly Disagree  Strongly Agree   \n",
            "\n",
            "        statement_12    statement_13  \n",
            "0              Agree  Strongly Agree  \n",
            "1  Strongly Disagree  Strongly Agree  \n",
            "2  Strongly Disagree  Strongly Agree  \n",
            "3  Strongly Disagree  Strongly Agree  \n",
            "4     Strongly Agree  Strongly Agree  \n",
            "\n",
            "[5 rows x 25 columns]\n"
          ]
        }
      ]
    },
    {
      "cell_type": "code",
      "source": [
        "# Convert df_client0 to CSV\n",
        "if 'df_client0' in locals(): # Check if df_client0 exists\n",
        "    csv_file_path_client0 = os.path.join(csv_directory, 'df_client0.csv')\n",
        "    try:\n",
        "        df_client0.to_csv(csv_file_path_client0, index=False)\n",
        "        # index=False prevents writing the DataFrame index as a column\n",
        "        print(f\"Successfully converted df_client0 to '{csv_file_path_client0}'\")\n",
        "    except Exception as e:\n",
        "        print(f\"An error occurred while converting df_client0 to CSV: {e}\")\n",
        "else:\n",
        "    print(\"df_client0 not found. Cannot convert to CSV.\")"
      ],
      "metadata": {
        "colab": {
          "base_uri": "https://localhost:8080/"
        },
        "id": "UvvCo8BhvB2B",
        "outputId": "7611ab41-3559-4346-fca8-540a3112c504"
      },
      "execution_count": null,
      "outputs": [
        {
          "output_type": "stream",
          "name": "stdout",
          "text": [
            "Successfully converted df_client0 to '/content/drive/MyDrive/HIV-Exp-Project/Data/df_client0.csv'\n"
          ]
        }
      ]
    },
    {
      "cell_type": "code",
      "source": [
        "# Convert df_client1 to CSV\n",
        "if 'df_client1' in locals(): # Check if df_client1 exists\n",
        "    csv_file_path_client1 = os.path.join(csv_directory, 'df_client1.csv')\n",
        "    try:\n",
        "        df_client1.to_csv(csv_file_path_client1, index=False)\n",
        "        print(f\"Successfully converted df_client1 to '{csv_file_path_client1}'\")\n",
        "    except Exception as e:\n",
        "        print(f\"An error occurred while converting df_client1 to CSV: {e}\")\n",
        "else:\n",
        "    print(\"df_client1 not found. Cannot convert to CSV.\")"
      ],
      "metadata": {
        "id": "i5Qr2pHRVjzC",
        "colab": {
          "base_uri": "https://localhost:8080/"
        },
        "outputId": "2e36f7ae-f7ee-4029-fef0-8361f1546636"
      },
      "execution_count": null,
      "outputs": [
        {
          "output_type": "stream",
          "name": "stdout",
          "text": [
            "Successfully converted df_client1 to '/content/drive/MyDrive/HIV-Exp-Project/Data/df_client1.csv'\n"
          ]
        }
      ]
    },
    {
      "cell_type": "code",
      "source": [
        "# Convert df_provider0 to CSV\n",
        "if 'df_provider0' in locals(): # Check if df_provider0 exists\n",
        "    csv_file_path_provider0 = os.path.join(csv_directory, 'df_provider0.csv')\n",
        "    try:\n",
        "        df_provider0.to_csv(csv_file_path_provider0, index=False)\n",
        "        print(f\"Successfully converted df_provider0 to '{csv_file_path_provider0}'\")\n",
        "    except Exception as e:\n",
        "        print(f\"An error occurred while converting df_provider0 to CSV: {e}\")\n",
        "else:\n",
        "    print(\"df_provider0 not found. Cannot convert to CSV.\")"
      ],
      "metadata": {
        "colab": {
          "base_uri": "https://localhost:8080/"
        },
        "id": "ptFkJAwavrGY",
        "outputId": "cf84156b-1306-4c6c-accb-402dc72792d3"
      },
      "execution_count": null,
      "outputs": [
        {
          "output_type": "stream",
          "name": "stdout",
          "text": [
            "Successfully converted df_provider0 to '/content/drive/MyDrive/HIV-Exp-Project/Data/df_provider0.csv'\n"
          ]
        }
      ]
    },
    {
      "cell_type": "code",
      "source": [
        "# Convert df_provider1 to CSV\n",
        "if 'df_provider1' in locals(): # Check if df_provider1 exists\n",
        "    csv_file_path_provider1 = os.path.join(csv_directory, 'df_provider1.csv')\n",
        "    try:\n",
        "        df_provider1.to_csv(csv_file_path_provider1, index=False)\n",
        "        print(f\"Successfully converted df_provider1 to '{csv_file_path_provider1}'\")\n",
        "    except Exception as e:\n",
        "        print(f\"An error occurred while converting df_provider1 to CSV: {e}\")\n",
        "else:\n",
        "    print(\"df_provider1 not found. Cannot convert to CSV.\")"
      ],
      "metadata": {
        "id": "if6O0fU7v3LF",
        "outputId": "12062049-cd09-42cf-8c2d-60fdf010acfb",
        "colab": {
          "base_uri": "https://localhost:8080/"
        }
      },
      "execution_count": null,
      "outputs": [
        {
          "output_type": "stream",
          "name": "stdout",
          "text": [
            "Successfully converted df_provider1 to '/content/drive/MyDrive/HIV-Exp-Project/Data/df_provider1.csv'\n"
          ]
        }
      ]
    }
  ]
}
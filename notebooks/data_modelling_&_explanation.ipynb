{
  "cells": [
    {
      "cell_type": "markdown",
      "metadata": {
        "id": "OBOQyX_Nctjo"
      },
      "source": [
        "## **Install Catboost, Mount Google Drive, and Import libraries**"
      ]
    },
    {
      "cell_type": "code",
      "execution_count": null,
      "metadata": {
        "id": "8DLUF4Poa684"
      },
      "outputs": [],
      "source": [
        "#@title ✅ Install libraries\n",
        "%pip install catboost > /dev/null 2>&1\n",
        "%pip install --upgrade scikit-learn > /dev/null 2>&1"
      ]
    },
    {
      "cell_type": "code",
      "execution_count": null,
      "metadata": {
        "colab": {
          "base_uri": "https://localhost:8080/"
        },
        "id": "8-mqj2x8uL6t",
        "outputId": "b1f0a68a-7fe3-461e-cdee-9f5032d4222d"
      },
      "outputs": [
        {
          "output_type": "stream",
          "name": "stdout",
          "text": [
            "FutureWarnings are now ignored.\n",
            "Mounted at /content/drive\n"
          ]
        }
      ],
      "source": [
        "# -------------------------------------------------------------------\n",
        "#@title ✅ Initialize Environment: Mount Drive, Suppress Warnings, & Load Modules\n",
        "# -------------------------------------------------------------------\n",
        "# Standard Library Imports\n",
        "import os\n",
        "import re\n",
        "import json\n",
        "import joblib\n",
        "import warnings\n",
        "\n",
        "# Third-party Library Imports\n",
        "import numpy as np\n",
        "import pandas as pd\n",
        "import matplotlib.pyplot as plt\n",
        "import requests\n",
        "from scipy.stats import zscore # For calculating Z-scores\n",
        "\n",
        "# Google Colab Specific Imports\n",
        "from google.colab import drive, userdata\n",
        "\n",
        "# Machine Learning Imports - Scikit-learn\n",
        "from sklearn.base import clone\n",
        "from sklearn.compose import ColumnTransformer\n",
        "from sklearn.ensemble import RandomForestClassifier\n",
        "from sklearn.metrics import make_scorer, accuracy_score, f1_score, log_loss\n",
        "from sklearn.model_selection import (\n",
        "    train_test_split,\n",
        "    StratifiedKFold,\n",
        "    RandomizedSearchCV,\n",
        "    GridSearchCV,\n",
        "    cross_validate\n",
        ")\n",
        "from sklearn.pipeline import Pipeline\n",
        "from sklearn.preprocessing import OrdinalEncoder, LabelEncoder, StandardScaler\n",
        "from sklearn.utils.class_weight import compute_class_weight\n",
        "\n",
        "# Machine Learning Imports - Other Libraries\n",
        "import shap\n",
        "from xgboost import XGBClassifier\n",
        "from lightgbm import LGBMClassifier\n",
        "from catboost import CatBoostClassifier\n",
        "\n",
        "# Configuration/Setup\n",
        "# Ignore all FutureWarnings globally\n",
        "warnings.simplefilter(action='ignore', category=FutureWarning)\n",
        "\n",
        "print(\"FutureWarnings are now ignored.\")\n",
        "drive.mount('/content/drive')"
      ]
    },
    {
      "cell_type": "markdown",
      "metadata": {
        "id": "b_VEhRzec_Wj"
      },
      "source": [
        "## **Load and Read Data**"
      ]
    },
    {
      "cell_type": "code",
      "execution_count": null,
      "metadata": {
        "colab": {
          "base_uri": "https://localhost:8080/",
          "height": 517
        },
        "id": "jOvZuFWGubv1",
        "outputId": "3376aed6-6a65-485b-a8b8-9cee70dea515"
      },
      "outputs": [
        {
          "output_type": "stream",
          "name": "stdout",
          "text": [
            "\n",
            "First 5 rows of df:\n"
          ]
        },
        {
          "output_type": "execute_result",
          "data": {
            "text/plain": [
              "          EnumID   State                 Age  Gender Marital Status  \\\n",
              "0  SYNTH-NEU-628  Bauchi               25-34  Female         Single   \n",
              "1  SYNTH-SAT-154    Kano  55 years and above  Female         Single   \n",
              "2          BC023  Bauchi               35–44  Female        Married   \n",
              "3           KN27    Kano  55 years and above  Female       Divorced   \n",
              "4          BC023  Bauchi               35–44    Male        Married   \n",
              "\n",
              "  Family Setting Num of Children   Educational Status       Employment Status  \\\n",
              "0       Monogamy             3-4    Primary education           Self-employed   \n",
              "1       Monogamy  Greater than 4  No formal education           Self-employed   \n",
              "2       Monogamy             1-2  Secondary education              Unemployed   \n",
              "3       Monogamy  Greater than 4  No formal education              Unemployed   \n",
              "4       Monogamy             3-4  Secondary education  Other (please specify)   \n",
              "\n",
              "          Monthly Income  ... Meds_Explained_SideFX  \\\n",
              "0  101,000–200,000 Naira  ...                 Agree   \n",
              "1   51,000–100,000 Naira  ...        Strongly Agree   \n",
              "2      Prefer not to say  ...                 Agree   \n",
              "3      Prefer not to say  ...        Strongly Agree   \n",
              "4   51,000–100,000 Naira  ...                 Agree   \n",
              "\n",
              "         Encourage_Questions Respond_Q_Concerns    Showed_Personal_Concern  \\\n",
              "0                      Agree              Agree  Neither Agree or Disagree   \n",
              "1                      Agree              Agree                   Disagree   \n",
              "2                      Agree           Disagree                   Disagree   \n",
              "3                   Disagree     Strongly Agree             Strongly Agree   \n",
              "4  Neither Agree or Disagree              Agree                      Agree   \n",
              "\n",
              "  Involved_In_Decisions          Discuss_NextSteps Checked_Understanding  \\\n",
              "0                 Agree  Neither Agree or Disagree        Strongly Agree   \n",
              "1        Strongly Agree                      Agree                 Agree   \n",
              "2        Strongly Agree             Strongly Agree        Strongly Agree   \n",
              "3        Strongly Agree             Strongly Agree        Strongly Agree   \n",
              "4                 Agree             Strongly Agree                 Agree   \n",
              "\n",
              "  Time_Spent_Adequate Visit_Satisfaction     Source  \n",
              "0               Agree            Neutral  Synthetic  \n",
              "1               Agree          Satisfied  Synthetic  \n",
              "2               Agree     Very satisfied   Original  \n",
              "3      Strongly Agree     Very satisfied   Original  \n",
              "4               Agree     Very satisfied   Original  \n",
              "\n",
              "[5 rows x 35 columns]"
            ],
            "text/html": [
              "\n",
              "  <div id=\"df-251a17b1-fcbd-46c9-9d23-858d5cd40b7b\" class=\"colab-df-container\">\n",
              "    <div>\n",
              "<style scoped>\n",
              "    .dataframe tbody tr th:only-of-type {\n",
              "        vertical-align: middle;\n",
              "    }\n",
              "\n",
              "    .dataframe tbody tr th {\n",
              "        vertical-align: top;\n",
              "    }\n",
              "\n",
              "    .dataframe thead th {\n",
              "        text-align: right;\n",
              "    }\n",
              "</style>\n",
              "<table border=\"1\" class=\"dataframe\">\n",
              "  <thead>\n",
              "    <tr style=\"text-align: right;\">\n",
              "      <th></th>\n",
              "      <th>EnumID</th>\n",
              "      <th>State</th>\n",
              "      <th>Age</th>\n",
              "      <th>Gender</th>\n",
              "      <th>Marital Status</th>\n",
              "      <th>Family Setting</th>\n",
              "      <th>Num of Children</th>\n",
              "      <th>Educational Status</th>\n",
              "      <th>Employment Status</th>\n",
              "      <th>Monthly Income</th>\n",
              "      <th>...</th>\n",
              "      <th>Meds_Explained_SideFX</th>\n",
              "      <th>Encourage_Questions</th>\n",
              "      <th>Respond_Q_Concerns</th>\n",
              "      <th>Showed_Personal_Concern</th>\n",
              "      <th>Involved_In_Decisions</th>\n",
              "      <th>Discuss_NextSteps</th>\n",
              "      <th>Checked_Understanding</th>\n",
              "      <th>Time_Spent_Adequate</th>\n",
              "      <th>Visit_Satisfaction</th>\n",
              "      <th>Source</th>\n",
              "    </tr>\n",
              "  </thead>\n",
              "  <tbody>\n",
              "    <tr>\n",
              "      <th>0</th>\n",
              "      <td>SYNTH-NEU-628</td>\n",
              "      <td>Bauchi</td>\n",
              "      <td>25-34</td>\n",
              "      <td>Female</td>\n",
              "      <td>Single</td>\n",
              "      <td>Monogamy</td>\n",
              "      <td>3-4</td>\n",
              "      <td>Primary education</td>\n",
              "      <td>Self-employed</td>\n",
              "      <td>101,000–200,000 Naira</td>\n",
              "      <td>...</td>\n",
              "      <td>Agree</td>\n",
              "      <td>Agree</td>\n",
              "      <td>Agree</td>\n",
              "      <td>Neither Agree or Disagree</td>\n",
              "      <td>Agree</td>\n",
              "      <td>Neither Agree or Disagree</td>\n",
              "      <td>Strongly Agree</td>\n",
              "      <td>Agree</td>\n",
              "      <td>Neutral</td>\n",
              "      <td>Synthetic</td>\n",
              "    </tr>\n",
              "    <tr>\n",
              "      <th>1</th>\n",
              "      <td>SYNTH-SAT-154</td>\n",
              "      <td>Kano</td>\n",
              "      <td>55 years and above</td>\n",
              "      <td>Female</td>\n",
              "      <td>Single</td>\n",
              "      <td>Monogamy</td>\n",
              "      <td>Greater than 4</td>\n",
              "      <td>No formal education</td>\n",
              "      <td>Self-employed</td>\n",
              "      <td>51,000–100,000 Naira</td>\n",
              "      <td>...</td>\n",
              "      <td>Strongly Agree</td>\n",
              "      <td>Agree</td>\n",
              "      <td>Agree</td>\n",
              "      <td>Disagree</td>\n",
              "      <td>Strongly Agree</td>\n",
              "      <td>Agree</td>\n",
              "      <td>Agree</td>\n",
              "      <td>Agree</td>\n",
              "      <td>Satisfied</td>\n",
              "      <td>Synthetic</td>\n",
              "    </tr>\n",
              "    <tr>\n",
              "      <th>2</th>\n",
              "      <td>BC023</td>\n",
              "      <td>Bauchi</td>\n",
              "      <td>35–44</td>\n",
              "      <td>Female</td>\n",
              "      <td>Married</td>\n",
              "      <td>Monogamy</td>\n",
              "      <td>1-2</td>\n",
              "      <td>Secondary education</td>\n",
              "      <td>Unemployed</td>\n",
              "      <td>Prefer not to say</td>\n",
              "      <td>...</td>\n",
              "      <td>Agree</td>\n",
              "      <td>Agree</td>\n",
              "      <td>Disagree</td>\n",
              "      <td>Disagree</td>\n",
              "      <td>Strongly Agree</td>\n",
              "      <td>Strongly Agree</td>\n",
              "      <td>Strongly Agree</td>\n",
              "      <td>Agree</td>\n",
              "      <td>Very satisfied</td>\n",
              "      <td>Original</td>\n",
              "    </tr>\n",
              "    <tr>\n",
              "      <th>3</th>\n",
              "      <td>KN27</td>\n",
              "      <td>Kano</td>\n",
              "      <td>55 years and above</td>\n",
              "      <td>Female</td>\n",
              "      <td>Divorced</td>\n",
              "      <td>Monogamy</td>\n",
              "      <td>Greater than 4</td>\n",
              "      <td>No formal education</td>\n",
              "      <td>Unemployed</td>\n",
              "      <td>Prefer not to say</td>\n",
              "      <td>...</td>\n",
              "      <td>Strongly Agree</td>\n",
              "      <td>Disagree</td>\n",
              "      <td>Strongly Agree</td>\n",
              "      <td>Strongly Agree</td>\n",
              "      <td>Strongly Agree</td>\n",
              "      <td>Strongly Agree</td>\n",
              "      <td>Strongly Agree</td>\n",
              "      <td>Strongly Agree</td>\n",
              "      <td>Very satisfied</td>\n",
              "      <td>Original</td>\n",
              "    </tr>\n",
              "    <tr>\n",
              "      <th>4</th>\n",
              "      <td>BC023</td>\n",
              "      <td>Bauchi</td>\n",
              "      <td>35–44</td>\n",
              "      <td>Male</td>\n",
              "      <td>Married</td>\n",
              "      <td>Monogamy</td>\n",
              "      <td>3-4</td>\n",
              "      <td>Secondary education</td>\n",
              "      <td>Other (please specify)</td>\n",
              "      <td>51,000–100,000 Naira</td>\n",
              "      <td>...</td>\n",
              "      <td>Agree</td>\n",
              "      <td>Neither Agree or Disagree</td>\n",
              "      <td>Agree</td>\n",
              "      <td>Agree</td>\n",
              "      <td>Agree</td>\n",
              "      <td>Strongly Agree</td>\n",
              "      <td>Agree</td>\n",
              "      <td>Agree</td>\n",
              "      <td>Very satisfied</td>\n",
              "      <td>Original</td>\n",
              "    </tr>\n",
              "  </tbody>\n",
              "</table>\n",
              "<p>5 rows × 35 columns</p>\n",
              "</div>\n",
              "    <div class=\"colab-df-buttons\">\n",
              "\n",
              "  <div class=\"colab-df-container\">\n",
              "    <button class=\"colab-df-convert\" onclick=\"convertToInteractive('df-251a17b1-fcbd-46c9-9d23-858d5cd40b7b')\"\n",
              "            title=\"Convert this dataframe to an interactive table.\"\n",
              "            style=\"display:none;\">\n",
              "\n",
              "  <svg xmlns=\"http://www.w3.org/2000/svg\" height=\"24px\" viewBox=\"0 -960 960 960\">\n",
              "    <path d=\"M120-120v-720h720v720H120Zm60-500h600v-160H180v160Zm220 220h160v-160H400v160Zm0 220h160v-160H400v160ZM180-400h160v-160H180v160Zm440 0h160v-160H620v160ZM180-180h160v-160H180v160Zm440 0h160v-160H620v160Z\"/>\n",
              "  </svg>\n",
              "    </button>\n",
              "\n",
              "  <style>\n",
              "    .colab-df-container {\n",
              "      display:flex;\n",
              "      gap: 12px;\n",
              "    }\n",
              "\n",
              "    .colab-df-convert {\n",
              "      background-color: #E8F0FE;\n",
              "      border: none;\n",
              "      border-radius: 50%;\n",
              "      cursor: pointer;\n",
              "      display: none;\n",
              "      fill: #1967D2;\n",
              "      height: 32px;\n",
              "      padding: 0 0 0 0;\n",
              "      width: 32px;\n",
              "    }\n",
              "\n",
              "    .colab-df-convert:hover {\n",
              "      background-color: #E2EBFA;\n",
              "      box-shadow: 0px 1px 2px rgba(60, 64, 67, 0.3), 0px 1px 3px 1px rgba(60, 64, 67, 0.15);\n",
              "      fill: #174EA6;\n",
              "    }\n",
              "\n",
              "    .colab-df-buttons div {\n",
              "      margin-bottom: 4px;\n",
              "    }\n",
              "\n",
              "    [theme=dark] .colab-df-convert {\n",
              "      background-color: #3B4455;\n",
              "      fill: #D2E3FC;\n",
              "    }\n",
              "\n",
              "    [theme=dark] .colab-df-convert:hover {\n",
              "      background-color: #434B5C;\n",
              "      box-shadow: 0px 1px 3px 1px rgba(0, 0, 0, 0.15);\n",
              "      filter: drop-shadow(0px 1px 2px rgba(0, 0, 0, 0.3));\n",
              "      fill: #FFFFFF;\n",
              "    }\n",
              "  </style>\n",
              "\n",
              "    <script>\n",
              "      const buttonEl =\n",
              "        document.querySelector('#df-251a17b1-fcbd-46c9-9d23-858d5cd40b7b button.colab-df-convert');\n",
              "      buttonEl.style.display =\n",
              "        google.colab.kernel.accessAllowed ? 'block' : 'none';\n",
              "\n",
              "      async function convertToInteractive(key) {\n",
              "        const element = document.querySelector('#df-251a17b1-fcbd-46c9-9d23-858d5cd40b7b');\n",
              "        const dataTable =\n",
              "          await google.colab.kernel.invokeFunction('convertToInteractive',\n",
              "                                                    [key], {});\n",
              "        if (!dataTable) return;\n",
              "\n",
              "        const docLinkHtml = 'Like what you see? Visit the ' +\n",
              "          '<a target=\"_blank\" href=https://colab.research.google.com/notebooks/data_table.ipynb>data table notebook</a>'\n",
              "          + ' to learn more about interactive tables.';\n",
              "        element.innerHTML = '';\n",
              "        dataTable['output_type'] = 'display_data';\n",
              "        await google.colab.output.renderOutput(dataTable, element);\n",
              "        const docLink = document.createElement('div');\n",
              "        docLink.innerHTML = docLinkHtml;\n",
              "        element.appendChild(docLink);\n",
              "      }\n",
              "    </script>\n",
              "  </div>\n",
              "\n",
              "\n",
              "    <div id=\"df-7d4ebabc-076c-4bdd-8dab-988633c8f4e9\">\n",
              "      <button class=\"colab-df-quickchart\" onclick=\"quickchart('df-7d4ebabc-076c-4bdd-8dab-988633c8f4e9')\"\n",
              "                title=\"Suggest charts\"\n",
              "                style=\"display:none;\">\n",
              "\n",
              "<svg xmlns=\"http://www.w3.org/2000/svg\" height=\"24px\"viewBox=\"0 0 24 24\"\n",
              "     width=\"24px\">\n",
              "    <g>\n",
              "        <path d=\"M19 3H5c-1.1 0-2 .9-2 2v14c0 1.1.9 2 2 2h14c1.1 0 2-.9 2-2V5c0-1.1-.9-2-2-2zM9 17H7v-7h2v7zm4 0h-2V7h2v10zm4 0h-2v-4h2v4z\"/>\n",
              "    </g>\n",
              "</svg>\n",
              "      </button>\n",
              "\n",
              "<style>\n",
              "  .colab-df-quickchart {\n",
              "      --bg-color: #E8F0FE;\n",
              "      --fill-color: #1967D2;\n",
              "      --hover-bg-color: #E2EBFA;\n",
              "      --hover-fill-color: #174EA6;\n",
              "      --disabled-fill-color: #AAA;\n",
              "      --disabled-bg-color: #DDD;\n",
              "  }\n",
              "\n",
              "  [theme=dark] .colab-df-quickchart {\n",
              "      --bg-color: #3B4455;\n",
              "      --fill-color: #D2E3FC;\n",
              "      --hover-bg-color: #434B5C;\n",
              "      --hover-fill-color: #FFFFFF;\n",
              "      --disabled-bg-color: #3B4455;\n",
              "      --disabled-fill-color: #666;\n",
              "  }\n",
              "\n",
              "  .colab-df-quickchart {\n",
              "    background-color: var(--bg-color);\n",
              "    border: none;\n",
              "    border-radius: 50%;\n",
              "    cursor: pointer;\n",
              "    display: none;\n",
              "    fill: var(--fill-color);\n",
              "    height: 32px;\n",
              "    padding: 0;\n",
              "    width: 32px;\n",
              "  }\n",
              "\n",
              "  .colab-df-quickchart:hover {\n",
              "    background-color: var(--hover-bg-color);\n",
              "    box-shadow: 0 1px 2px rgba(60, 64, 67, 0.3), 0 1px 3px 1px rgba(60, 64, 67, 0.15);\n",
              "    fill: var(--button-hover-fill-color);\n",
              "  }\n",
              "\n",
              "  .colab-df-quickchart-complete:disabled,\n",
              "  .colab-df-quickchart-complete:disabled:hover {\n",
              "    background-color: var(--disabled-bg-color);\n",
              "    fill: var(--disabled-fill-color);\n",
              "    box-shadow: none;\n",
              "  }\n",
              "\n",
              "  .colab-df-spinner {\n",
              "    border: 2px solid var(--fill-color);\n",
              "    border-color: transparent;\n",
              "    border-bottom-color: var(--fill-color);\n",
              "    animation:\n",
              "      spin 1s steps(1) infinite;\n",
              "  }\n",
              "\n",
              "  @keyframes spin {\n",
              "    0% {\n",
              "      border-color: transparent;\n",
              "      border-bottom-color: var(--fill-color);\n",
              "      border-left-color: var(--fill-color);\n",
              "    }\n",
              "    20% {\n",
              "      border-color: transparent;\n",
              "      border-left-color: var(--fill-color);\n",
              "      border-top-color: var(--fill-color);\n",
              "    }\n",
              "    30% {\n",
              "      border-color: transparent;\n",
              "      border-left-color: var(--fill-color);\n",
              "      border-top-color: var(--fill-color);\n",
              "      border-right-color: var(--fill-color);\n",
              "    }\n",
              "    40% {\n",
              "      border-color: transparent;\n",
              "      border-right-color: var(--fill-color);\n",
              "      border-top-color: var(--fill-color);\n",
              "    }\n",
              "    60% {\n",
              "      border-color: transparent;\n",
              "      border-right-color: var(--fill-color);\n",
              "    }\n",
              "    80% {\n",
              "      border-color: transparent;\n",
              "      border-right-color: var(--fill-color);\n",
              "      border-bottom-color: var(--fill-color);\n",
              "    }\n",
              "    90% {\n",
              "      border-color: transparent;\n",
              "      border-bottom-color: var(--fill-color);\n",
              "    }\n",
              "  }\n",
              "</style>\n",
              "\n",
              "      <script>\n",
              "        async function quickchart(key) {\n",
              "          const quickchartButtonEl =\n",
              "            document.querySelector('#' + key + ' button');\n",
              "          quickchartButtonEl.disabled = true;  // To prevent multiple clicks.\n",
              "          quickchartButtonEl.classList.add('colab-df-spinner');\n",
              "          try {\n",
              "            const charts = await google.colab.kernel.invokeFunction(\n",
              "                'suggestCharts', [key], {});\n",
              "          } catch (error) {\n",
              "            console.error('Error during call to suggestCharts:', error);\n",
              "          }\n",
              "          quickchartButtonEl.classList.remove('colab-df-spinner');\n",
              "          quickchartButtonEl.classList.add('colab-df-quickchart-complete');\n",
              "        }\n",
              "        (() => {\n",
              "          let quickchartButtonEl =\n",
              "            document.querySelector('#df-7d4ebabc-076c-4bdd-8dab-988633c8f4e9 button');\n",
              "          quickchartButtonEl.style.display =\n",
              "            google.colab.kernel.accessAllowed ? 'block' : 'none';\n",
              "        })();\n",
              "      </script>\n",
              "    </div>\n",
              "\n",
              "    </div>\n",
              "  </div>\n"
            ],
            "application/vnd.google.colaboratory.intrinsic+json": {
              "type": "dataframe",
              "variable_name": "df"
            }
          },
          "metadata": {},
          "execution_count": 3
        }
      ],
      "source": [
        "# --------------------------------------------------------------\n",
        "#@title ✅ Load and read data, and first 5 rows of a DataFrame.\n",
        "# --------------------------------------------------------------\n",
        "\n",
        "# Specify the base directory where your data files are located in Google Drive\n",
        "data_dir = '/content/drive/MyDrive/HIV-Exp-Project/Data'\n",
        "\n",
        "# Define the full path to the CSV file you want to read\n",
        "csv_filename = \"balanced.csv\"\n",
        "file_path_to_read = os.path.join(data_dir, csv_filename)\n",
        "\n",
        "# Read the data from the specified CSV file\n",
        "df = pd.read_csv(file_path_to_read)\n",
        "\n",
        "print(\"\\nFirst 5 rows of df:\")\n",
        "df.head()"
      ]
    },
    {
      "cell_type": "code",
      "execution_count": null,
      "metadata": {
        "colab": {
          "base_uri": "https://localhost:8080/"
        },
        "id": "MM3I5J1-xe_r",
        "outputId": "93a8b48b-2d28-49d1-a70c-a7f88d2ddd7f"
      },
      "outputs": [
        {
          "output_type": "stream",
          "name": "stdout",
          "text": [
            "<class 'pandas.core.frame.DataFrame'>\n",
            "RangeIndex: 1501 entries, 0 to 1500\n",
            "Data columns (total 35 columns):\n",
            " #   Column                    Non-Null Count  Dtype \n",
            "---  ------                    --------------  ----- \n",
            " 0   EnumID                    1501 non-null   object\n",
            " 1   State                     1501 non-null   object\n",
            " 2   Age                       1501 non-null   object\n",
            " 3   Gender                    1501 non-null   object\n",
            " 4   Marital Status            1501 non-null   object\n",
            " 5   Family Setting            1501 non-null   object\n",
            " 6   Num of Children           1501 non-null   object\n",
            " 7   Educational Status        1501 non-null   object\n",
            " 8   Employment Status         1501 non-null   object\n",
            " 9   Monthly Income            1501 non-null   object\n",
            " 10  Treatment Regimen         1501 non-null   object\n",
            " 11  HIV_Duration_Years        1501 non-null   object\n",
            " 12  Care_Duration_Years       1501 non-null   object\n",
            " 13  Facility_Care_Dur_Years   1501 non-null   object\n",
            " 14  HIV_Diag_Type             1501 non-null   object\n",
            " 15  Greet_Comfort             1501 non-null   object\n",
            " 16  Discuss_VisitReason       1501 non-null   object\n",
            " 17  Encourage_Thoughts        1501 non-null   object\n",
            " 18  Listen_Careful            1501 non-null   object\n",
            " 19  Understood_You            1501 non-null   object\n",
            " 20  Exam_Explained            1501 non-null   object\n",
            " 21  LabTests_Explained        1501 non-null   object\n",
            " 22  Discuss_TreatOptions      1501 non-null   object\n",
            " 23  Info_AsDesired            1501 non-null   object\n",
            " 24  Plan_Acceptability_Check  1501 non-null   object\n",
            " 25  Meds_Explained_SideFX     1501 non-null   object\n",
            " 26  Encourage_Questions       1501 non-null   object\n",
            " 27  Respond_Q_Concerns        1501 non-null   object\n",
            " 28  Showed_Personal_Concern   1501 non-null   object\n",
            " 29  Involved_In_Decisions     1501 non-null   object\n",
            " 30  Discuss_NextSteps         1501 non-null   object\n",
            " 31  Checked_Understanding     1501 non-null   object\n",
            " 32  Time_Spent_Adequate       1501 non-null   object\n",
            " 33  Visit_Satisfaction        1501 non-null   object\n",
            " 34  Source                    1501 non-null   object\n",
            "dtypes: object(35)\n",
            "memory usage: 410.6+ KB\n"
          ]
        }
      ],
      "source": [
        "# -----------------------------------------------------------\n",
        "#@title ✅ Overview of the DataFrame's structure and content.\n",
        "# -----------------------------------------------------------\n",
        "df.info()"
      ]
    },
    {
      "cell_type": "markdown",
      "metadata": {
        "id": "WV3yjIHecjSD"
      },
      "source": [
        "## **Data Preprocessing**\n",
        "\n",
        "### *   **Transformation of Continuous Variables (Currently Categorical Ranges)**\n",
        "\n",
        "\n"
      ]
    },
    {
      "cell_type": "code",
      "execution_count": null,
      "metadata": {
        "colab": {
          "base_uri": "https://localhost:8080/"
        },
        "id": "t46QB1Q0cfpJ",
        "outputId": "8b3615e6-d9ea-435d-d374-63e32d85837a"
      },
      "outputs": [
        {
          "output_type": "stream",
          "name": "stdout",
          "text": [
            "--- Transformed 'Age' ---\n",
            "[29.5 65.  39.5 21.  49.5]\n"
          ]
        }
      ],
      "source": [
        "#------------------------------------------\n",
        "#@title ✅ 1. Transform 'Age'\n",
        "#------------------------------------------\n",
        "\n",
        "age_mapping = {\n",
        "    '18–24': 21,\n",
        "    '25-34': 29.5,\n",
        "    '35–44': 39.5,\n",
        "    '45–54': 49.5,\n",
        "    '55 years and above': 65 # Estimating 65 as a reasonable midpoint for an open-ended \"above 55\"\n",
        "}\n",
        "df['Age'] = df['Age'].replace(age_mapping).astype(float) # Convert to float\n",
        "\n",
        "print(\"--- Transformed 'Age' ---\")\n",
        "print(df['Age'].unique())\n",
        "#print(df[['Age']].head())\n",
        "#print(\"-\" * 30)"
      ]
    },
    {
      "cell_type": "code",
      "execution_count": null,
      "metadata": {
        "colab": {
          "base_uri": "https://localhost:8080/"
        },
        "id": "dBtBAcz-dh0w",
        "outputId": "17619e81-9052-45f0-f63e-b1a6a631ed1b"
      },
      "outputs": [
        {
          "output_type": "stream",
          "name": "stdout",
          "text": [
            "--- Transformed 'Num of Children' ---\n",
            "[3.5 5.  1.5]\n"
          ]
        }
      ],
      "source": [
        "#------------------------------------------\n",
        "#@title ✅ 2. Transform 'Num of Children'\n",
        "#------------------------------------------\n",
        "\n",
        "children_mapping = {\n",
        "    '1-2': 1.5,\n",
        "    '3-4': 3.5,\n",
        "    'Greater than 4': 5 # Estimating 5 as a reasonable value for \"Greater than 4\"\n",
        "}\n",
        "df['Num of Children'] = df['Num of Children'].replace(children_mapping).astype(float)\n",
        "\n",
        "print(\"--- Transformed 'Num of Children' ---\")\n",
        "print(df['Num of Children'].unique())\n",
        "#print(df[['Num of Children']].head())\n",
        "#print(\"-\" * 30)"
      ]
    },
    {
      "cell_type": "code",
      "execution_count": null,
      "metadata": {
        "colab": {
          "base_uri": "https://localhost:8080/"
        },
        "id": "MkbpD3iPdyor",
        "outputId": "2fc8dec3-7bc8-4a81-c5f9-6692496a7dd2"
      },
      "outputs": [
        {
          "output_type": "stream",
          "name": "stdout",
          "text": [
            "--- Transformed 'Monthly Income' ---\n",
            "[150500.  75500.     nan  10000.  35000. 250000.]\n"
          ]
        }
      ],
      "source": [
        "#------------------------------------------\n",
        "#@title ✅ 3. Transform 'Monthly Income'\n",
        "#------------------------------------------\n",
        "\n",
        "income_mapping = {\n",
        "    'Less than 20,000 Naira': 10000,\n",
        "    '20,000–50,000 Naira': 35000,\n",
        "    '51,000–100,000 Naira': 75500,\n",
        "    '101,000–200,000 Naira': 150500,\n",
        "    'More than 200,000 Naira': 250000, # Estimating 250,000 as a reasonable value\n",
        "    'Prefer not to say': np.nan # Map 'Prefer not to say' to NaN\n",
        "}\n",
        "df['Monthly Income'] = df['Monthly Income'].replace(income_mapping).astype(float)\n",
        "\n",
        "print(\"--- Transformed 'Monthly Income' ---\")\n",
        "print(df['Monthly Income'].unique())\n",
        "#print(df[['Monthly Income']].head())\n",
        "#print(\"-\" * 30)"
      ]
    },
    {
      "cell_type": "code",
      "execution_count": null,
      "metadata": {
        "colab": {
          "base_uri": "https://localhost:8080/"
        },
        "id": "YZmfxa87d6fp",
        "outputId": "35265ea9-4930-487d-d9f8-3587bc712e5b"
      },
      "outputs": [
        {
          "output_type": "stream",
          "name": "stdout",
          "text": [
            "Monthly Income after imputation and adding missing indicator:\n",
            "      Monthly Income  Monthly_Income_Missing\n",
            "1328         75500.0                       0\n",
            "\n",
            "Value counts for Monthly_Income_Missing:\n",
            "Monthly_Income_Missing\n",
            "0    1319\n",
            "1     182\n",
            "Name: count, dtype: int64\n",
            "\n",
            "Value counts for Monthly_Income:\n",
            "Monthly Income\n",
            "10000.0     874\n",
            "75500.0     275\n",
            "35000.0     240\n",
            "150500.0    100\n",
            "250000.0     12\n",
            "Name: count, dtype: int64\n"
          ]
        }
      ],
      "source": [
        "#--------------------------------------------------------------------------------------------------------------\n",
        "#@title Fill the missing data points in Monthly Income with Imputation with a Missing Indicator (using Median)\n",
        "#--------------------------------------------------------------------------------------------------------------\n",
        "\n",
        "# Create the missing indicator column\n",
        "df['Monthly_Income_Missing'] = df['Monthly Income'].isna().astype(int)\n",
        "\n",
        "# Then, fill the NaNs in the original column using median imputation\n",
        "median_income = df['Monthly Income'].median()\n",
        "df['Monthly Income'].fillna(median_income, inplace=True)\n",
        "\n",
        "print(\"Monthly Income after imputation and adding missing indicator:\")\n",
        "print(df[['Monthly Income', 'Monthly_Income_Missing']].sample())\n",
        "print(\"\\nValue counts for Monthly_Income_Missing:\")\n",
        "print(df['Monthly_Income_Missing'].value_counts())\n",
        "print(\"\\nValue counts for Monthly_Income:\")\n",
        "print(df['Monthly Income'].value_counts())"
      ]
    },
    {
      "cell_type": "code",
      "execution_count": null,
      "metadata": {
        "colab": {
          "base_uri": "https://localhost:8080/"
        },
        "id": "Tc9HBximeDwn",
        "outputId": "3b6ef1db-c391-459b-ff47-a2419d774dd8"
      },
      "outputs": [
        {
          "output_type": "stream",
          "name": "stdout",
          "text": [
            "------Transformed---'HIV_Duration_Years'------\n",
            "[12.5  2.   5.5  9.   0.5]\n",
            "------Transformed---'Care_Duration_Years'------\n",
            "[ 2.   0.5 12.5  5.5  9. ]\n",
            "------Transformed---'Facility_Care_Dur_Years'------\n",
            "[ 5.5 12.5  2.   9.   0.5]\n"
          ]
        }
      ],
      "source": [
        "#----------------------------------------------------------------------------------------------------------\n",
        "#@title ✅ 4. Transform Duration Columns (HIV_Duration_Years, Care_Duration_Years, Facility_Care_Dur_Years)\n",
        "#-----------------------------------------------------------------------------------------------------------\n",
        "\n",
        "# Note: Pay attention to different hyphens (en-dash vs. hyphen)\n",
        "duration_mapping = {\n",
        "    'Less than 1 year': 0.5,\n",
        "    '1-3 years': 2,\n",
        "    '1–3 years': 2, # Handle en-dash variation\n",
        "    '4-7 years': 5.5,\n",
        "    '4–7 years': 5.5, # Handle en-dash variation\n",
        "    '8-10 years': 9,\n",
        "    '8–10 years': 9, # Handle en-dash variation\n",
        "    'More than 10 years': 12.5 # Estimating 12.5 as a reasonable value\n",
        "}\n",
        "\n",
        "for col in ['HIV_Duration_Years', 'Care_Duration_Years', 'Facility_Care_Dur_Years']:\n",
        "    df[col] = df[col].replace(duration_mapping).astype(float)\n",
        "    print(f\"------Transformed---'{col}'------\")\n",
        "    print(df[col].unique())\n",
        "    #print(df[[col]].head())\n",
        "    #print(\"-\" * 30)"
      ]
    },
    {
      "cell_type": "markdown",
      "metadata": {
        "id": "O8vGgGpHeh_9"
      },
      "source": [
        "\n",
        "### *  **Identify outlier with Z-score and treat the identified outlier with Log Transformation**\n",
        "\n"
      ]
    },
    {
      "cell_type": "code",
      "execution_count": null,
      "metadata": {
        "colab": {
          "base_uri": "https://localhost:8080/"
        },
        "id": "D1AFGyZwep0Q",
        "outputId": "c6c7777b-2bbf-482a-cb14-27f8d47f241d"
      },
      "outputs": [
        {
          "output_type": "stream",
          "name": "stdout",
          "text": [
            "--- Outlier Identification (Z-score) ---\n",
            "Column: 'Age'\n",
            "  No potential outliers found with |Z-score| > 3 for 'Age'.\n",
            "--------------------------------------------------------------------------------\n",
            "Column: 'Num of Children'\n",
            "  No potential outliers found with |Z-score| > 3 for 'Num of Children'.\n",
            "--------------------------------------------------------------------------------\n",
            "Column: 'Monthly Income'\n",
            "  12 potential outlier(s) with |Z-score| > 3:\n",
            "      Monthly Income  Monthly Income_zscore\n",
            "58          250000.0               4.857804\n",
            "206         250000.0               4.857804\n",
            "231         250000.0               4.857804\n",
            "337         250000.0               4.857804\n",
            "379         250000.0               4.857804\n",
            "888         250000.0               4.857804\n",
            "906         250000.0               4.857804\n",
            "1001        250000.0               4.857804\n",
            "1037        250000.0               4.857804\n",
            "1202        250000.0               4.857804\n",
            "1377        250000.0               4.857804\n",
            "1448        250000.0               4.857804\n",
            "--------------------------------------------------------------------------------\n",
            "Column: 'HIV_Duration_Years'\n",
            "  No potential outliers found with |Z-score| > 3 for 'HIV_Duration_Years'.\n",
            "--------------------------------------------------------------------------------\n",
            "Column: 'Care_Duration_Years'\n",
            "  No potential outliers found with |Z-score| > 3 for 'Care_Duration_Years'.\n",
            "--------------------------------------------------------------------------------\n",
            "Column: 'Facility_Care_Dur_Years'\n",
            "  No potential outliers found with |Z-score| > 3 for 'Facility_Care_Dur_Years'.\n",
            "--------------------------------------------------------------------------------\n",
            "\n",
            "Columns identified for log transformation (with outliers): ['Monthly Income']\n",
            "\n",
            "================================================================================\n",
            "\n"
          ]
        }
      ],
      "source": [
        "#----------------------------------------------\n",
        "#@title ✅ 1. Identify outlier with Z-score\n",
        "#----------------------------------------------\n",
        "\n",
        "# List of continuous numerical columns to process\n",
        "continuous_cols = [\n",
        "    'Age',\n",
        "    'Num of Children',\n",
        "    'Monthly Income',\n",
        "    'HIV_Duration_Years',\n",
        "    'Care_Duration_Years',\n",
        "    'Facility_Care_Dur_Years'\n",
        "]\n",
        "\n",
        "# --- Outlier Identification using Z-score ---\n",
        "# This loop both IDENTIFIES and POPULATES the list of outlier columns.\n",
        "# It MUST be run before the log transformation loop.\n",
        "cols_with_outliers_for_transform = []\n",
        "print(\"--- Outlier Identification (Z-score) ---\")\n",
        "for col in continuous_cols:\n",
        "    df[f'{col}_zscore'] = np.abs(zscore(df[col]))\n",
        "    outliers = df[df[f'{col}_zscore'] > 3]\n",
        "    print(f\"Column: '{col}'\")\n",
        "    if not outliers.empty:\n",
        "        print(f\"  {len(outliers)} potential outlier(s) with |Z-score| > 3:\")\n",
        "        print(outliers[[col, f'{col}_zscore']])\n",
        "        cols_with_outliers_for_transform.append(col)\n",
        "    else:\n",
        "        print(f\"  No potential outliers found with |Z-score| > 3 for '{col}'.\")\n",
        "    print(\"-\" * 80)\n",
        "\n",
        "print(f\"\\nColumns identified for log transformation (with outliers): {cols_with_outliers_for_transform}\")\n",
        "print(\"\\n\" + \"=\"*80 + \"\\n\")"
      ]
    },
    {
      "cell_type": "code",
      "execution_count": null,
      "metadata": {
        "colab": {
          "base_uri": "https://localhost:8080/"
        },
        "id": "PJCFd_BCe8HI",
        "outputId": "7f68d2f2-29f9-482d-9c0d-b19c85bd289f"
      },
      "outputs": [
        {
          "output_type": "stream",
          "name": "stdout",
          "text": [
            "--- Applying Log Transformation (np.log1p) to identified outlier columns ---\n",
            "'Age' not transformed (no significant outliers detected).\n",
            "'Num of Children' not transformed (no significant outliers detected).\n",
            "'Monthly Income' transformed to 'Monthly Income_log' (due to outliers).\n",
            "'HIV_Duration_Years' not transformed (no significant outliers detected).\n",
            "'Care_Duration_Years' not transformed (no significant outliers detected).\n",
            "'Facility_Care_Dur_Years' not transformed (no significant outliers detected).\n",
            "\n",
            "================================================================================\n",
            "\n"
          ]
        }
      ],
      "source": [
        "#---------------------------------------------------------------------\n",
        "#@title ✅ 2. Treat the identified outlier with Log Transformation\n",
        "#---------------------------------------------------------------------\n",
        "\n",
        "# --- Outlier Treatment with Log Transformation (Conditional) ---\n",
        "# This loop depends on the list created above.\n",
        "print(\"--- Applying Log Transformation (np.log1p) to identified outlier columns ---\")\n",
        "transformed_cols_display = []\n",
        "for col in continuous_cols:\n",
        "    if col in cols_with_outliers_for_transform: # The variable must be defined by now\n",
        "        df[f'{col}_log'] = np.log1p(df[col])\n",
        "        print(f\"'{col}' transformed to '{col}_log' (due to outliers).\")\n",
        "        transformed_cols_display.append(col)\n",
        "    else:\n",
        "        print(f\"'{col}' not transformed (no significant outliers detected).\")\n",
        "print(\"\\n\" + \"=\"*80 + \"\\n\")"
      ]
    },
    {
      "cell_type": "code",
      "execution_count": null,
      "metadata": {
        "colab": {
          "base_uri": "https://localhost:8080/"
        },
        "id": "MiosH0iAfiSx",
        "outputId": "a0d16c8b-2fbf-40cf-fdfe-5ae3ca70995d"
      },
      "outputs": [
        {
          "output_type": "stream",
          "name": "stdout",
          "text": [
            "\n",
            "--- Final DataFrame head with original, Z-score, and conditionally log-transformed columns ---\n",
            "    Age  Age_zscore  Num of Children  Num of Children_zscore  Monthly Income  \\\n",
            "0  29.5    0.723740              3.5                0.045697        150500.0   \n",
            "1  65.0    2.519594              5.0                1.123054         75500.0   \n",
            "2  39.5    0.189875              1.5                1.390778         10000.0   \n",
            "3  65.0    2.519594              5.0                1.123054         10000.0   \n",
            "4  39.5    0.189875              3.5                0.045697         75500.0   \n",
            "\n",
            "   Monthly Income_zscore  Monthly Income_log  HIV_Duration_Years  \\\n",
            "0               2.585595           11.921725                12.5   \n",
            "1               0.872875           11.231901                12.5   \n",
            "2               0.622901            9.210440                12.5   \n",
            "3               0.622901            9.210440                 2.0   \n",
            "4               0.872875           11.231901                 5.5   \n",
            "\n",
            "   HIV_Duration_Years_zscore  Care_Duration_Years  Care_Duration_Years_zscore  \\\n",
            "0                   0.950814                  2.0                    1.363721   \n",
            "1                   0.950814                  0.5                    1.710152   \n",
            "2                   0.950814                 12.5                    1.061296   \n",
            "3                   1.510433                  2.0                    1.363721   \n",
            "4                   0.690018                  5.5                    0.555382   \n",
            "\n",
            "   Facility_Care_Dur_Years  Facility_Care_Dur_Years_zscore  \n",
            "0                      5.5                        0.408077  \n",
            "1                     12.5                        1.271386  \n",
            "2                      5.5                        0.408077  \n",
            "3                      2.0                        1.247809  \n",
            "4                      5.5                        0.408077  \n",
            "\n",
            "DataFrame Info (check dtypes and new columns):\n",
            "<class 'pandas.core.frame.DataFrame'>\n",
            "RangeIndex: 1501 entries, 0 to 1500\n",
            "Data columns (total 43 columns):\n",
            " #   Column                          Non-Null Count  Dtype  \n",
            "---  ------                          --------------  -----  \n",
            " 0   EnumID                          1501 non-null   object \n",
            " 1   State                           1501 non-null   object \n",
            " 2   Age                             1501 non-null   float64\n",
            " 3   Gender                          1501 non-null   object \n",
            " 4   Marital Status                  1501 non-null   object \n",
            " 5   Family Setting                  1501 non-null   object \n",
            " 6   Num of Children                 1501 non-null   float64\n",
            " 7   Educational Status              1501 non-null   object \n",
            " 8   Employment Status               1501 non-null   object \n",
            " 9   Monthly Income                  1501 non-null   float64\n",
            " 10  Treatment Regimen               1501 non-null   object \n",
            " 11  HIV_Duration_Years              1501 non-null   float64\n",
            " 12  Care_Duration_Years             1501 non-null   float64\n",
            " 13  Facility_Care_Dur_Years         1501 non-null   float64\n",
            " 14  HIV_Diag_Type                   1501 non-null   object \n",
            " 15  Greet_Comfort                   1501 non-null   object \n",
            " 16  Discuss_VisitReason             1501 non-null   object \n",
            " 17  Encourage_Thoughts              1501 non-null   object \n",
            " 18  Listen_Careful                  1501 non-null   object \n",
            " 19  Understood_You                  1501 non-null   object \n",
            " 20  Exam_Explained                  1501 non-null   object \n",
            " 21  LabTests_Explained              1501 non-null   object \n",
            " 22  Discuss_TreatOptions            1501 non-null   object \n",
            " 23  Info_AsDesired                  1501 non-null   object \n",
            " 24  Plan_Acceptability_Check        1501 non-null   object \n",
            " 25  Meds_Explained_SideFX           1501 non-null   object \n",
            " 26  Encourage_Questions             1501 non-null   object \n",
            " 27  Respond_Q_Concerns              1501 non-null   object \n",
            " 28  Showed_Personal_Concern         1501 non-null   object \n",
            " 29  Involved_In_Decisions           1501 non-null   object \n",
            " 30  Discuss_NextSteps               1501 non-null   object \n",
            " 31  Checked_Understanding           1501 non-null   object \n",
            " 32  Time_Spent_Adequate             1501 non-null   object \n",
            " 33  Visit_Satisfaction              1501 non-null   object \n",
            " 34  Source                          1501 non-null   object \n",
            " 35  Monthly_Income_Missing          1501 non-null   int64  \n",
            " 36  Age_zscore                      1501 non-null   float64\n",
            " 37  Num of Children_zscore          1501 non-null   float64\n",
            " 38  Monthly Income_zscore           1501 non-null   float64\n",
            " 39  HIV_Duration_Years_zscore       1501 non-null   float64\n",
            " 40  Care_Duration_Years_zscore      1501 non-null   float64\n",
            " 41  Facility_Care_Dur_Years_zscore  1501 non-null   float64\n",
            " 42  Monthly Income_log              1501 non-null   float64\n",
            "dtypes: float64(13), int64(1), object(29)\n",
            "memory usage: 504.4+ KB\n"
          ]
        }
      ],
      "source": [
        "#-----------------------------------------\n",
        "#@title ✅ DataFrame display and overview\n",
        "#-----------------------------------------\n",
        "display_cols_final = []\n",
        "for col in continuous_cols:\n",
        "    display_cols_final.append(col)\n",
        "    display_cols_final.append(f'{col}_zscore')\n",
        "    if col in transformed_cols_display:\n",
        "        display_cols_final.append(f'{col}_log')\n",
        "\n",
        "print(\"\\n--- Final DataFrame head with original, Z-score, and conditionally log-transformed columns ---\")\n",
        "print(df[display_cols_final].head())\n",
        "\n",
        "print(\"\\nDataFrame Info (check dtypes and new columns):\")\n",
        "df.info()"
      ]
    },
    {
      "cell_type": "markdown",
      "metadata": {
        "id": "eL67yTiYiHLD"
      },
      "source": [
        "\n",
        "### *  **Standardize Likert Columns, Check for Misspellings, and Unexpected Categories\n",
        "**\n",
        "\n"
      ]
    },
    {
      "cell_type": "code",
      "execution_count": null,
      "metadata": {
        "id": "pwP761G0gK41"
      },
      "outputs": [],
      "source": [
        "#-----------------------------------------\n",
        "#@title ✅ 1.  Define Likert columns\n",
        "#-----------------------------------------\n",
        "\n",
        "likert_columns = [\n",
        "       'Greet_Comfort', 'Discuss_VisitReason', 'Encourage_Thoughts',\n",
        "       'Listen_Careful', 'Understood_You', 'Exam_Explained',\n",
        "       'LabTests_Explained', 'Discuss_TreatOptions', 'Info_AsDesired',\n",
        "       'Plan_Acceptability_Check', 'Meds_Explained_SideFX',\n",
        "       'Encourage_Questions', 'Respond_Q_Concerns', 'Showed_Personal_Concern',\n",
        "       'Involved_In_Decisions', 'Discuss_NextSteps', 'Checked_Understanding',\n",
        "       'Time_Spent_Adequate', 'Visit_Satisfaction'\n",
        "]"
      ]
    },
    {
      "cell_type": "code",
      "execution_count": null,
      "metadata": {
        "id": "8TSju-jAiqO3"
      },
      "outputs": [],
      "source": [
        "#------------------------------------------------------\n",
        "#@title ✅ 2. Strip whitespace and standardize casing\n",
        "#------------------------------------------------------\n",
        "\n",
        "for col in likert_columns:\n",
        "    df[col] = df[col].astype(str).str.strip().str.title()"
      ]
    },
    {
      "cell_type": "code",
      "execution_count": null,
      "metadata": {
        "colab": {
          "base_uri": "https://localhost:8080/"
        },
        "id": "XO1GMmEaiyOE",
        "outputId": "e9436726-e33c-4779-e7bc-2c2321d60ac5"
      },
      "outputs": [
        {
          "output_type": "stream",
          "name": "stdout",
          "text": [
            "Greet_Comfort: ['Agree' 'Strongly Agree' 'Strongly Disagree' 'Disagree'\n",
            " 'Neither Agree Or Disagree']\n",
            "------------------------------------------------------------------------------------------\n",
            "Discuss_VisitReason: ['Strongly Disagree' 'Strongly Agree' 'Agree' 'Neither Agree Or Disagree'\n",
            " 'Disagree']\n",
            "------------------------------------------------------------------------------------------\n",
            "Encourage_Thoughts: ['Agree' 'Neither Agree Or Disagree' 'Strongly Agree' 'Disagree']\n",
            "------------------------------------------------------------------------------------------\n",
            "Listen_Careful: ['Agree' 'Strongly Agree' 'Disagree' 'Neither Agree Or Disagree']\n",
            "------------------------------------------------------------------------------------------\n",
            "Understood_You: ['Agree' 'Disagree' 'Strongly Agree' 'Neither Agree Or Disagree'\n",
            " 'Strongly Disagree']\n",
            "------------------------------------------------------------------------------------------\n",
            "Exam_Explained: ['Agree' 'Strongly Agree' 'Disagree' 'Neither Agree Or Disagree']\n",
            "------------------------------------------------------------------------------------------\n",
            "LabTests_Explained: ['Strongly Agree' 'Agree' 'Disagree' 'Neither Agree Or Disagree']\n",
            "------------------------------------------------------------------------------------------\n",
            "Discuss_TreatOptions: ['Agree' 'Strongly Agree' 'Neither Agree Or Disagree' 'Disagree']\n",
            "------------------------------------------------------------------------------------------\n",
            "Info_AsDesired: ['Strongly Agree' 'Disagree' 'Agree' 'Neither Agree Or Disagree']\n",
            "------------------------------------------------------------------------------------------\n",
            "Plan_Acceptability_Check: ['Agree' 'Strongly Agree' 'Neither Agree Or Disagree' 'Disagree'\n",
            " 'Strongly Disagree']\n",
            "------------------------------------------------------------------------------------------\n",
            "Meds_Explained_SideFX: ['Agree' 'Strongly Agree' 'Neither Agree Or Disagree' 'Disagree'\n",
            " 'Strongly Disagree']\n",
            "------------------------------------------------------------------------------------------\n",
            "Encourage_Questions: ['Agree' 'Disagree' 'Neither Agree Or Disagree' 'Strongly Agree'\n",
            " 'Strongly Disagree']\n",
            "------------------------------------------------------------------------------------------\n",
            "Respond_Q_Concerns: ['Agree' 'Disagree' 'Strongly Agree' 'Neither Agree Or Disagree'\n",
            " 'Strongly Disagree']\n",
            "------------------------------------------------------------------------------------------\n",
            "Showed_Personal_Concern: ['Neither Agree Or Disagree' 'Disagree' 'Strongly Agree' 'Agree'\n",
            " 'Strongly Disagree']\n",
            "------------------------------------------------------------------------------------------\n",
            "Involved_In_Decisions: ['Agree' 'Strongly Agree' 'Neither Agree Or Disagree' 'Disagree']\n",
            "------------------------------------------------------------------------------------------\n",
            "Discuss_NextSteps: ['Neither Agree Or Disagree' 'Agree' 'Strongly Agree']\n",
            "------------------------------------------------------------------------------------------\n",
            "Checked_Understanding: ['Strongly Agree' 'Agree' 'Neither Agree Or Disagree' 'Disagree'\n",
            " 'Strongly Disagree']\n",
            "------------------------------------------------------------------------------------------\n",
            "Time_Spent_Adequate: ['Agree' 'Strongly Agree' 'Neither Agree Or Disagree' 'Disagree']\n",
            "------------------------------------------------------------------------------------------\n",
            "Visit_Satisfaction: ['Neutral' 'Satisfied' 'Very Satisfied' 'Very Dissatisfied']\n",
            "------------------------------------------------------------------------------------------\n"
          ]
        }
      ],
      "source": [
        "#----------------------------------------------------------------\n",
        "#@title ✅ 3. Check unique values post-cleanup with dotted lines\n",
        "#----------------------------------------------------------------\n",
        "\n",
        "for col in likert_columns:\n",
        "    print(f\"{col}: {df[col].unique()}\")\n",
        "    print(\"-\" * 90) # Prints a dotted line"
      ]
    },
    {
      "cell_type": "code",
      "execution_count": null,
      "metadata": {
        "colab": {
          "base_uri": "https://localhost:8080/"
        },
        "id": "KcCx1wERi-Pk",
        "outputId": "c78799fd-17d0-46dd-d55c-238073958b39"
      },
      "outputs": [
        {
          "output_type": "stream",
          "name": "stdout",
          "text": [
            "\n",
            "Greet_Comfort value counts:\n",
            "Greet_Comfort\n",
            "Strongly Agree               786\n",
            "Agree                        584\n",
            "Strongly Disagree            106\n",
            "Neither Agree Or Disagree     14\n",
            "Disagree                      11\n",
            "Name: count, dtype: int64\n",
            "----------------------------------------\n",
            "\n",
            "Discuss_VisitReason value counts:\n",
            "Discuss_VisitReason\n",
            "Strongly Agree               758\n",
            "Agree                        636\n",
            "Strongly Disagree             51\n",
            "Neither Agree Or Disagree     35\n",
            "Disagree                      21\n",
            "Name: count, dtype: int64\n",
            "----------------------------------------\n",
            "\n",
            "Encourage_Thoughts value counts:\n",
            "Encourage_Thoughts\n",
            "Strongly Agree               903\n",
            "Agree                        511\n",
            "Neither Agree Or Disagree     72\n",
            "Disagree                      15\n",
            "Name: count, dtype: int64\n",
            "----------------------------------------\n",
            "\n",
            "Listen_Careful value counts:\n",
            "Listen_Careful\n",
            "Agree                        783\n",
            "Strongly Agree               674\n",
            "Neither Agree Or Disagree     26\n",
            "Disagree                      18\n",
            "Name: count, dtype: int64\n",
            "----------------------------------------\n",
            "\n",
            "Understood_You value counts:\n",
            "Understood_You\n",
            "Strongly Agree               713\n",
            "Agree                        570\n",
            "Neither Agree Or Disagree    158\n",
            "Disagree                      50\n",
            "Strongly Disagree             10\n",
            "Name: count, dtype: int64\n",
            "----------------------------------------\n",
            "\n",
            "Exam_Explained value counts:\n",
            "Exam_Explained\n",
            "Strongly Agree               807\n",
            "Agree                        619\n",
            "Disagree                      64\n",
            "Neither Agree Or Disagree     11\n",
            "Name: count, dtype: int64\n",
            "----------------------------------------\n",
            "\n",
            "LabTests_Explained value counts:\n",
            "LabTests_Explained\n",
            "Agree                        833\n",
            "Strongly Agree               643\n",
            "Neither Agree Or Disagree     13\n",
            "Disagree                      12\n",
            "Name: count, dtype: int64\n",
            "----------------------------------------\n",
            "\n",
            "Discuss_TreatOptions value counts:\n",
            "Discuss_TreatOptions\n",
            "Agree                        814\n",
            "Strongly Agree               658\n",
            "Neither Agree Or Disagree     20\n",
            "Disagree                       9\n",
            "Name: count, dtype: int64\n",
            "----------------------------------------\n",
            "\n",
            "Info_AsDesired value counts:\n",
            "Info_AsDesired\n",
            "Agree                        729\n",
            "Strongly Agree               639\n",
            "Disagree                     119\n",
            "Neither Agree Or Disagree     14\n",
            "Name: count, dtype: int64\n",
            "----------------------------------------\n",
            "\n",
            "Plan_Acceptability_Check value counts:\n",
            "Plan_Acceptability_Check\n",
            "Strongly Agree               717\n",
            "Agree                        628\n",
            "Neither Agree Or Disagree    137\n",
            "Disagree                      17\n",
            "Strongly Disagree              2\n",
            "Name: count, dtype: int64\n",
            "----------------------------------------\n",
            "\n",
            "Meds_Explained_SideFX value counts:\n",
            "Meds_Explained_SideFX\n",
            "Strongly Agree               825\n",
            "Agree                        547\n",
            "Neither Agree Or Disagree     93\n",
            "Disagree                      26\n",
            "Strongly Disagree             10\n",
            "Name: count, dtype: int64\n",
            "----------------------------------------\n",
            "\n",
            "Encourage_Questions value counts:\n",
            "Encourage_Questions\n",
            "Strongly Agree               695\n",
            "Agree                        623\n",
            "Disagree                     106\n",
            "Neither Agree Or Disagree     73\n",
            "Strongly Disagree              4\n",
            "Name: count, dtype: int64\n",
            "----------------------------------------\n",
            "\n",
            "Respond_Q_Concerns value counts:\n",
            "Respond_Q_Concerns\n",
            "Strongly Agree               826\n",
            "Agree                        403\n",
            "Disagree                     177\n",
            "Neither Agree Or Disagree     89\n",
            "Strongly Disagree              6\n",
            "Name: count, dtype: int64\n",
            "----------------------------------------\n",
            "\n",
            "Showed_Personal_Concern value counts:\n",
            "Showed_Personal_Concern\n",
            "Strongly Agree               783\n",
            "Agree                        468\n",
            "Disagree                     133\n",
            "Neither Agree Or Disagree     96\n",
            "Strongly Disagree             21\n",
            "Name: count, dtype: int64\n",
            "----------------------------------------\n",
            "\n",
            "Involved_In_Decisions value counts:\n",
            "Involved_In_Decisions\n",
            "Strongly Agree               707\n",
            "Agree                        705\n",
            "Neither Agree Or Disagree     81\n",
            "Disagree                       8\n",
            "Name: count, dtype: int64\n",
            "----------------------------------------\n",
            "\n",
            "Discuss_NextSteps value counts:\n",
            "Discuss_NextSteps\n",
            "Strongly Agree               717\n",
            "Agree                        694\n",
            "Neither Agree Or Disagree     90\n",
            "Name: count, dtype: int64\n",
            "----------------------------------------\n",
            "\n",
            "Checked_Understanding value counts:\n",
            "Checked_Understanding\n",
            "Strongly Agree               955\n",
            "Agree                        539\n",
            "Neither Agree Or Disagree      4\n",
            "Disagree                       2\n",
            "Strongly Disagree              1\n",
            "Name: count, dtype: int64\n",
            "----------------------------------------\n",
            "\n",
            "Time_Spent_Adequate value counts:\n",
            "Time_Spent_Adequate\n",
            "Strongly Agree               701\n",
            "Agree                        690\n",
            "Neither Agree Or Disagree     68\n",
            "Disagree                      42\n",
            "Name: count, dtype: int64\n",
            "----------------------------------------\n",
            "\n",
            "Visit_Satisfaction value counts:\n",
            "Visit_Satisfaction\n",
            "Neutral              376\n",
            "Satisfied            376\n",
            "Very Satisfied       375\n",
            "Very Dissatisfied    374\n",
            "Name: count, dtype: int64\n",
            "----------------------------------------\n"
          ]
        }
      ],
      "source": [
        "#-----------------------------------------\n",
        "#@title ✅ 4. Quick Frequency Check\n",
        "#-----------------------------------------\n",
        "for col in likert_columns:\n",
        "    print(f\"\\n{col} value counts:\")\n",
        "    print(df[col].value_counts(dropna=False))\n",
        "    print(\"-\" * 40)"
      ]
    },
    {
      "cell_type": "markdown",
      "metadata": {
        "id": "nGQ_HbslkLa6"
      },
      "source": [
        "## **Feature Engineering**\n",
        "\n",
        "### 1.  **Grouped Categorical Variables**"
      ]
    },
    {
      "cell_type": "code",
      "execution_count": null,
      "metadata": {
        "colab": {
          "base_uri": "https://localhost:8080/"
        },
        "id": "I5GvsWFGkWpI",
        "outputId": "3343ae1e-7d9c-4e94-c9f6-eb50dd006ac2"
      },
      "outputs": [
        {
          "output_type": "stream",
          "name": "stdout",
          "text": [
            "['Primary/Secondary' 'No formal' 'Tertiary+']\n"
          ]
        }
      ],
      "source": [
        "#-----------------------------------------\n",
        "#@title ✅ Educational Level Grouping\n",
        "#-----------------------------------------\n",
        "\n",
        "education_map = {\n",
        "    'No formal education': 'No formal',\n",
        "    'Primary education': 'Primary/Secondary',\n",
        "    'Secondary education': 'Primary/Secondary',\n",
        "    'Tertiary education (e.g., University, college)': 'Tertiary+',\n",
        "    'Postgraduate': 'Tertiary+', # If this value exists in your raw data but not unique(), keep it.\n",
        "    'Islamic education': 'No formal', # Or group as appropriate\n",
        "    'Diploma': 'Tertiary+', # Or group as appropriate\n",
        "    'Adult and non formal education': 'No formal' # Or group as appropriate\n",
        "}\n",
        "\n",
        "df['Education_Grouped'] = df['Educational Status'].map(education_map)\n",
        "\n",
        "# Now, this should show your grouped categories and potentially NaN if any new unmapped values appear\n",
        "print(df['Education_Grouped'].unique())"
      ]
    },
    {
      "cell_type": "code",
      "execution_count": null,
      "metadata": {
        "colab": {
          "base_uri": "https://localhost:8080/"
        },
        "id": "IL7WgJmykf88",
        "outputId": "a7dc22d2-ca5f-4f32-c8e8-7762dcbc2119"
      },
      "outputs": [
        {
          "output_type": "stream",
          "name": "stdout",
          "text": [
            "['Informal' 'Unemployed' 'Other' 'Formal']\n"
          ]
        }
      ],
      "source": [
        "#-----------------------------------------\n",
        "#@title ✅ Employment Grouping\n",
        "#-----------------------------------------\n",
        "\n",
        "employment_map = {\n",
        "    'Unemployed': 'Unemployed',\n",
        "    'Self-employed': 'Informal',\n",
        "    'Employed part-time': 'Formal',  # Assuming part-time employment is formal\n",
        "    'Employed full-time': 'Formal',  # Assuming full-time employment is formal\n",
        "    'Other (please specify)': 'Other', # Grouping 'Other (please specify)' into 'Other'\n",
        "    'Retired': 'Other',\n",
        "    # If 'Informal', 'Government', 'Private', 'Student' don't exist in your raw 'Employment Status' column,\n",
        "    # you can remove them from the map, or keep them if they might appear in other data.\n",
        "    # For now, let's include only the ones found in your unique list.\n",
        "}\n",
        "\n",
        "df['Employment_Grouped'] = df['Employment Status'].map(employment_map)\n",
        "\n",
        "# Now, this should show your grouped categories without NaN (unless there are new unmapped values)\n",
        "print(df['Employment_Grouped'].unique())"
      ]
    },
    {
      "cell_type": "code",
      "execution_count": null,
      "metadata": {
        "colab": {
          "base_uri": "https://localhost:8080/"
        },
        "id": "CM7pGuwyk2RR",
        "outputId": "907cdfef-e230-447d-966b-0864569c4050"
      },
      "outputs": [
        {
          "output_type": "stream",
          "name": "stdout",
          "text": [
            "['Single' 'Married' 'Separated/Widowed']\n"
          ]
        }
      ],
      "source": [
        "#-----------------------------------------\n",
        "#@title ✅ Marital Grouping\n",
        "#-----------------------------------------\n",
        "\n",
        "marital_map = {\n",
        "    'Single': 'Single',\n",
        "    'Married': 'Married',\n",
        "    'Divorced': 'Separated/Widowed',\n",
        "    'Widowed': 'Separated/Widowed',\n",
        "    'Seperated': 'Separated/Widowed' # Corrected spelling and mapping for your unique value\n",
        "}\n",
        "\n",
        "df['Marital_Grouped'] = df['Marital Status'].map(marital_map)\n",
        "\n",
        "# This should now show your grouped categories without NaN (unless new unmapped values appear)\n",
        "print(df['Marital_Grouped'].unique())"
      ]
    },
    {
      "cell_type": "markdown",
      "metadata": {
        "id": "8tkOIp3xliL4"
      },
      "source": [
        "\n",
        "### 2.  **Derive Duration and Interactive Features**"
      ]
    },
    {
      "cell_type": "code",
      "execution_count": null,
      "metadata": {
        "id": "YJ-6wIGxl1If"
      },
      "outputs": [],
      "source": [
        "#--------------------------------------------------------------\n",
        "#@title ✅ Duration Features Derivatives and Interaction Terms\n",
        "#--------------------------------------------------------------\n",
        "\n",
        "df['HIV_Care_Duration_Ratio'] = df['HIV_Duration_Years'] / (df['Care_Duration_Years'] + 0.1)\n",
        "\n",
        "# Bucket Care Duration\n",
        "df['Care_Duration_Bucket'] = pd.cut(df['Care_Duration_Years'],\n",
        "                                     bins=[-np.inf, 1, 4, np.inf],\n",
        "                                     labels=['Short-term', 'Medium-term', 'Long-term'])\n",
        "\n",
        "# Interaction Terms\n",
        "df['Age_x_HIV_Duration'] = df['Age'] * df['HIV_Duration_Years']\n",
        "df['Income_x_Education'] = df['Monthly Income'].fillna(0) * df['Educational Status'].astype('category').cat.codes\n",
        "df['Gender_x_Employment'] = df['Gender'].astype(\n",
        "    'category').cat.codes * df['Employment Status'].astype('category').cat.codes\n",
        "df['Education_x_Employment'] = df['Educational Status'].astype(\n",
        "    'category').cat.codes * df['Employment Status'].astype('category').cat.codes"
      ]
    },
    {
      "cell_type": "markdown",
      "metadata": {
        "id": "acU8HDdqmPUb"
      },
      "source": [
        "### 3. **Build Subscores for Likert-style Columns**"
      ]
    },
    {
      "cell_type": "code",
      "execution_count": null,
      "metadata": {
        "id": "nq6O50rtmOec"
      },
      "outputs": [],
      "source": [
        "# -----------------------------------------\n",
        "#@title ✅ 1. Define your Likert-style columns\n",
        "# -----------------------------------------\n",
        "\n",
        "empathy_cols = [\n",
        "    'Showed_Personal_Concern',\n",
        "    'Greet_Comfort',\n",
        "    'Respond_Q_Concerns',\n",
        "    'Time_Spent_Adequate'\n",
        "]\n",
        "\n",
        "listening_cols = [\n",
        "    'Encourage_Thoughts',\n",
        "    'Listen_Careful',\n",
        "    'Understood_You'\n",
        "]\n",
        "\n",
        "decision_share_cols = [\n",
        "    'Involved_In_Decisions',\n",
        "    'Checked_Understanding',\n",
        "    'Encourage_Questions'\n",
        "]\n",
        "\n",
        "info_delivery_cols = [\n",
        "    'Discuss_VisitReason',\n",
        "    'Exam_Explained',\n",
        "    'LabTests_Explained',\n",
        "    'Discuss_TreatOptions',\n",
        "    'Meds_Explained_SideFX',\n",
        "    'Info_AsDesired',\n",
        "    'Plan_Acceptability_Check',\n",
        "    'Discuss_NextSteps'\n",
        "]\n",
        "\n",
        "# Combine all columns\n",
        "all_subscore_columns = empathy_cols + listening_cols + decision_share_cols + info_delivery_cols\n",
        "# ----------------------------------------------------------------------------------------------"
      ]
    },
    {
      "cell_type": "code",
      "execution_count": null,
      "metadata": {
        "id": "DPpufuwFoO3R"
      },
      "outputs": [],
      "source": [
        "# -----------------------------------------\n",
        "#@title ✅ 2. Robust Likert Cleaner\n",
        "# -----------------------------------------\n",
        "\n",
        "def normalize_likert(val):\n",
        "    if pd.isnull(val):\n",
        "        return None\n",
        "    val = str(val).strip().lower()\n",
        "    # Corrected: Match against lowercase strings\n",
        "    if \"strongly agree\" in val:\n",
        "        return 5\n",
        "    elif val == \"agree\":\n",
        "        return 4\n",
        "    elif val == \"neither agree or disagree\":\n",
        "        return 3\n",
        "    elif \"strongly disagree\" in val: # Corrected: match against full phrase\n",
        "        return 1\n",
        "    elif \"disagree\" in val: # This should catch \"Disagree\" but not \"Strongly Disagree\" due to order\n",
        "        return 2\n",
        "    else:\n",
        "        return None\n",
        "\n",
        "# -----------------------------------------\n",
        "# Apply cleaning to relevant columns\n",
        "# -----------------------------------------\n",
        "\n",
        "for col in all_subscore_columns:\n",
        "    if col in df.columns:\n",
        "        df[col] = df[col].apply(normalize_likert)"
      ]
    },
    {
      "cell_type": "code",
      "execution_count": null,
      "metadata": {
        "colab": {
          "base_uri": "https://localhost:8080/"
        },
        "id": "HPMg3ZNionH2",
        "outputId": "d17531dd-0890-4f87-eae7-b92f3bcd754f"
      },
      "outputs": [
        {
          "output_type": "stream",
          "name": "stdout",
          "text": [
            "Missing values in subscores:\n",
            " Empathy_Score           0\n",
            "Listening_Score         0\n",
            "Decision_Share_Score    0\n",
            "Info_Delivery_Score     0\n",
            "dtype: int64\n",
            "\n",
            "Total rows with at least one missing subscore: 0\n"
          ]
        }
      ],
      "source": [
        "# -----------------------------------------\n",
        "#@title ✅ 3. Build subscores\n",
        "# -----------------------------------------\n",
        "df['Empathy_Score'] = df[empathy_cols].mean(axis=1)\n",
        "df['Listening_Score'] = df[listening_cols].mean(axis=1)\n",
        "df['Decision_Share_Score'] = df[decision_share_cols].mean(axis=1)\n",
        "df['Info_Delivery_Score'] = df[info_delivery_cols].mean(axis=1)\n",
        "\n",
        "# -----------------------------------------\n",
        "# Check missing values in subscores\n",
        "# -----------------------------------------\n",
        "\n",
        "missing_subscores = df[[\n",
        "    'Empathy_Score',\n",
        "    'Listening_Score',\n",
        "    'Decision_Share_Score',\n",
        "    'Info_Delivery_Score'\n",
        "]].isnull().sum()\n",
        "\n",
        "print(\"Missing values in subscores:\\n\", missing_subscores)\n",
        "\n",
        "# See how many total rows are affected\n",
        "rows_missing = df[[\n",
        "    'Empathy_Score',\n",
        "    'Listening_Score',\n",
        "    'Decision_Share_Score',\n",
        "    'Info_Delivery_Score'\n",
        "]].isnull().any(axis=1).sum()\n",
        "\n",
        "print(f\"\\nTotal rows with at least one missing subscore: {rows_missing}\")"
      ]
    },
    {
      "cell_type": "markdown",
      "metadata": {
        "id": "JNuBSMosqXjY"
      },
      "source": [
        "### 4. **Subscores Interaction Features**"
      ]
    },
    {
      "cell_type": "code",
      "execution_count": null,
      "metadata": {
        "id": "D0-lDF9Aqt0K"
      },
      "outputs": [],
      "source": [
        "# -----------------------------------------\n",
        "#@title ✅  Interaction Features\n",
        "# -----------------------------------------\n",
        "\n",
        "# Using .loc for explicit assignment\n",
        "df.loc[:, \"Empathy_Listening_Interaction\"] = df[\"Empathy_Score\"] * df[\"Listening_Score\"]\n",
        "df.loc[:, \"Empathy_DecisionShare_Interaction\"] = df[\"Empathy_Score\"] * df[\"Decision_Share_Score\"]"
      ]
    },
    {
      "cell_type": "markdown",
      "metadata": {
        "id": "yxGF2vhGrQVJ"
      },
      "source": [
        "### 5. **Aggregate Behavioral Profiles**"
      ]
    },
    {
      "cell_type": "code",
      "execution_count": null,
      "metadata": {
        "id": "T8Zyf6PmrRFI"
      },
      "outputs": [],
      "source": [
        "# --------------------------------------------------------------------\n",
        "#@title ✅ Aggregate Behavioral Profiles\n",
        "# All_High_Satisfaction: whether all Likert items were 4 or 5.\n",
        "# Any_Dissatisfaction: whether any of the core variables are below 3.\n",
        "# -------------------------------------------------------------------\n",
        "\n",
        "core_likert = ['Empathy_Score', 'Listening_Score',\n",
        "               'Decision_Share_Score', 'Info_Delivery_Score']\n",
        "df[\"All_High_Satisfaction\"] = (df[core_likert] >= 4).all(axis=1).astype(int)\n",
        "df[\"Any_Low_Score\"] = (df[core_likert] < 3).any(axis=1).astype(int)"
      ]
    },
    {
      "cell_type": "markdown",
      "metadata": {
        "id": "gX_knjSppYdq"
      },
      "source": [
        "### 6. **Check for Duplicate Patients, and Treat Accordingly**"
      ]
    },
    {
      "cell_type": "code",
      "execution_count": null,
      "metadata": {
        "colab": {
          "base_uri": "https://localhost:8080/"
        },
        "id": "eFILWw8wpxaj",
        "outputId": "bbfdcb3b-90b4-423d-8bc2-5a0d32e0dde6"
      },
      "outputs": [
        {
          "output_type": "stream",
          "name": "stdout",
          "text": [
            "## Identifying Duplicate Rows\n",
            "**Duplicate rows found (considering all columns EXCEPT 'EnumID'): 4**\n",
            "Here are the full rows from your original DataFrame that are considered duplicates:\n",
            "             EnumID   State   Age  Gender Marital Status Family Setting  \\\n",
            "80    SYNTH-VER-904  Bauchi  21.0  Female        Married       Monogamy   \n",
            "305            KN17    Kano  29.5  Female        Married       Monogamy   \n",
            "709           KN 17    Kano  29.5  Female        Married       Monogamy   \n",
            "1499  SYNTH-VER-970  Bauchi  21.0  Female        Married       Monogamy   \n",
            "\n",
            "      Num of Children   Educational Status Employment Status  Monthly Income  \\\n",
            "80                3.5    Primary education     Self-employed         10000.0   \n",
            "305               3.5  No formal education     Self-employed         35000.0   \n",
            "709               3.5  No formal education     Self-employed         35000.0   \n",
            "1499              3.5    Primary education     Self-employed         10000.0   \n",
            "\n",
            "      ... Gender_x_Employment  Education_x_Employment  Empathy_Score  \\\n",
            "80    ...                   0                      16            5.0   \n",
            "305   ...                   0                      12            5.0   \n",
            "709   ...                   0                      12            5.0   \n",
            "1499  ...                   0                      16            5.0   \n",
            "\n",
            "      Listening_Score Decision_Share_Score  Info_Delivery_Score  \\\n",
            "80                5.0             4.666667                  5.0   \n",
            "305               5.0             5.000000                  5.0   \n",
            "709               5.0             5.000000                  5.0   \n",
            "1499              5.0             4.666667                  5.0   \n",
            "\n",
            "      Empathy_Listening_Interaction  Empathy_DecisionShare_Interaction  \\\n",
            "80                             25.0                          23.333333   \n",
            "305                            25.0                          25.000000   \n",
            "709                            25.0                          25.000000   \n",
            "1499                           25.0                          23.333333   \n",
            "\n",
            "      All_High_Satisfaction  Any_Low_Score  \n",
            "80                        1              0  \n",
            "305                       1              0  \n",
            "709                       1              0  \n",
            "1499                      1              0  \n",
            "\n",
            "[4 rows x 60 columns]\n",
            "\n",
            "## DataFrame after dropping duplicates:\n",
            "Original DataFrame shape: (1501, 60)\n",
            "Cleaned DataFrame shape: (1499, 60)\n",
            "             EnumID   State   Age  Gender Marital Status Family Setting  \\\n",
            "0     SYNTH-NEU-628  Bauchi  29.5  Female         Single       Monogamy   \n",
            "1     SYNTH-SAT-154    Kano  65.0  Female         Single       Monogamy   \n",
            "2             BC023  Bauchi  39.5  Female        Married       Monogamy   \n",
            "3              KN27    Kano  65.0  Female       Divorced       Monogamy   \n",
            "4             BC023  Bauchi  39.5    Male        Married       Monogamy   \n",
            "...             ...     ...   ...     ...            ...            ...   \n",
            "1495  SYNTH-NEU-606  Jigawa  29.5  Female        Married       Monogamy   \n",
            "1496  SYNTH-NEU-641  Bauchi  29.5  Female        Married       Polygamy   \n",
            "1497  SYNTH-VER-805  Bauchi  39.5  Female        Married       Monogamy   \n",
            "1498  SYNTH-NEU-371  Jigawa  29.5  Female        Widowed       Monogamy   \n",
            "1500  SYNTH-NEU-637    Kano  39.5    Male        Married       Polygamy   \n",
            "\n",
            "      Num of Children                              Educational Status  \\\n",
            "0                 3.5                               Primary education   \n",
            "1                 5.0                             No formal education   \n",
            "2                 1.5                             Secondary education   \n",
            "3                 5.0                             No formal education   \n",
            "4                 3.5                             Secondary education   \n",
            "...               ...                                             ...   \n",
            "1495              1.5  Tertiary education (e.g., University, college)   \n",
            "1496              3.5                             No formal education   \n",
            "1497              3.5                             Secondary education   \n",
            "1498              3.5                             Secondary education   \n",
            "1500              5.0  Tertiary education (e.g., University, college)   \n",
            "\n",
            "           Employment Status  Monthly Income  ... Gender_x_Employment  \\\n",
            "0              Self-employed        150500.0  ...                   0   \n",
            "1              Self-employed         75500.0  ...                   0   \n",
            "2                 Unemployed         10000.0  ...                   0   \n",
            "3                 Unemployed         10000.0  ...                   0   \n",
            "4     Other (please specify)         75500.0  ...                   2   \n",
            "...                      ...             ...  ...                 ...   \n",
            "1495      Employed full-time        150500.0  ...                   0   \n",
            "1496              Unemployed         75500.0  ...                   0   \n",
            "1497           Self-employed         10000.0  ...                   0   \n",
            "1498              Unemployed         75500.0  ...                   0   \n",
            "1500              Unemployed         10000.0  ...                   5   \n",
            "\n",
            "      Education_x_Employment  Empathy_Score  Listening_Score  \\\n",
            "0                         16           3.75         4.000000   \n",
            "1                         12           3.50         3.333333   \n",
            "2                         25           3.25         4.000000   \n",
            "3                         15           5.00         5.000000   \n",
            "4                         10           4.00         4.666667   \n",
            "...                      ...            ...              ...   \n",
            "1495                       0           4.50         4.333333   \n",
            "1496                      15           3.00         3.666667   \n",
            "1497                      20           5.00         5.000000   \n",
            "1498                      25           3.75         4.333333   \n",
            "1500                      30           4.25         4.666667   \n",
            "\n",
            "     Decision_Share_Score  Info_Delivery_Score  Empathy_Listening_Interaction  \\\n",
            "0                4.333333                3.750                      15.000000   \n",
            "1                4.333333                4.125                      11.666667   \n",
            "2                4.666667                4.250                      13.000000   \n",
            "3                4.000000                5.000                      25.000000   \n",
            "4                3.666667                4.250                      18.666667   \n",
            "...                   ...                  ...                            ...   \n",
            "1495             4.333333                4.625                      19.500000   \n",
            "1496             4.333333                4.375                      11.000000   \n",
            "1497             5.000000                4.625                      25.000000   \n",
            "1498             4.333333                4.750                      16.250000   \n",
            "1500             3.666667                4.125                      19.833333   \n",
            "\n",
            "      Empathy_DecisionShare_Interaction  All_High_Satisfaction  Any_Low_Score  \n",
            "0                             16.250000                      0              0  \n",
            "1                             15.166667                      0              0  \n",
            "2                             15.166667                      0              0  \n",
            "3                             20.000000                      1              0  \n",
            "4                             14.666667                      0              0  \n",
            "...                                 ...                    ...            ...  \n",
            "1495                          19.500000                      1              0  \n",
            "1496                          13.000000                      0              0  \n",
            "1497                          25.000000                      1              0  \n",
            "1498                          16.250000                      0              0  \n",
            "1500                          15.583333                      0              0  \n",
            "\n",
            "[1499 rows x 60 columns]\n"
          ]
        }
      ],
      "source": [
        "# -----------------------------------------\n",
        "#@title ✅ 1. Check for duplicate patients\n",
        "# -----------------------------------------\n",
        "\n",
        "# Check if 'EnumID' column exists\n",
        "if 'EnumID' in df.columns:\n",
        "    # Create a temporary DataFrame by dropping 'EnumID' for the duplicate check\n",
        "    df_for_dup_check = df.drop(columns=['EnumID'])\n",
        "else:\n",
        "    # If 'EnumID' doesn't exist, use the entire DataFrame\n",
        "    df_for_dup_check = df.copy()\n",
        "\n",
        "## Step 1: Identify Duplicate Rows\n",
        "print(\"## Identifying Duplicate Rows\")\n",
        "# 'keep=False' marks all occurrences of a duplicate set as True\n",
        "dupes_found = df_for_dup_check[df_for_dup_check.duplicated(keep=False)]\n",
        "\n",
        "if not dupes_found.empty:\n",
        "    print(f\"**Duplicate rows found (considering all columns EXCEPT 'EnumID'): {len(dupes_found)}**\")\n",
        "    print(\"Here are the full rows from your original DataFrame that are considered duplicates:\")\n",
        "    # Use the index from 'dupes_found' to select corresponding rows from the original 'df'\n",
        "    print(df.loc[dupes_found.index])\n",
        "else:\n",
        "    print(\"**No duplicate rows found (excluding 'EnumID').**\")\n",
        "\n",
        "#-----------------------------------\n",
        "## Step 2: Drop Duplicates\n",
        "#-----------------------------------\n",
        "\n",
        "# Drop duplicates based on all columns EXCEPT 'EnumID'\n",
        "# 'keep='first'' will keep the first occurrence of each duplicate set\n",
        "if 'EnumID' in df.columns:\n",
        "    # Get columns to consider for dropping duplicates (all except 'EnumID')\n",
        "    columns_to_consider = [col for col in df.columns if col != 'EnumID']\n",
        "    df_cleaned = df.drop_duplicates(subset=columns_to_consider, keep='first')\n",
        "else:\n",
        "    # If 'EnumID' doesn't exist, drop duplicates based on all columns\n",
        "    df_cleaned = df.drop_duplicates(keep='first')\n",
        "\n",
        "print(\"\\n## DataFrame after dropping duplicates:\")\n",
        "print(f\"Original DataFrame shape: {df.shape}\")\n",
        "print(f\"Cleaned DataFrame shape: {df_cleaned.shape}\")\n",
        "print(df_cleaned)"
      ]
    },
    {
      "cell_type": "code",
      "execution_count": null,
      "metadata": {
        "colab": {
          "base_uri": "https://localhost:8080/"
        },
        "id": "_UgNrIMPqU0A",
        "outputId": "1d5fc36f-d34a-41a6-c137-95daff0abacc"
      },
      "outputs": [
        {
          "output_type": "stream",
          "name": "stderr",
          "text": [
            "/tmp/ipython-input-27-930711103.py:3: SettingWithCopyWarning: \n",
            "A value is trying to be set on a copy of a slice from a DataFrame\n",
            "\n",
            "See the caveats in the documentation: https://pandas.pydata.org/pandas-docs/stable/user_guide/indexing.html#returning-a-view-versus-a-copy\n",
            "  df_cleaned.rename(columns={'Visit_Satisfaction': 'Satisfaction'}, inplace=True)\n"
          ]
        },
        {
          "output_type": "execute_result",
          "data": {
            "text/plain": [
              "Index(['EnumID', 'State', 'Age', 'Gender', 'Marital Status', 'Family Setting',\n",
              "       'Num of Children', 'Educational Status', 'Employment Status',\n",
              "       'Monthly Income', 'Treatment Regimen', 'HIV_Duration_Years',\n",
              "       'Care_Duration_Years', 'Facility_Care_Dur_Years', 'HIV_Diag_Type',\n",
              "       'Greet_Comfort', 'Discuss_VisitReason', 'Encourage_Thoughts',\n",
              "       'Listen_Careful', 'Understood_You', 'Exam_Explained',\n",
              "       'LabTests_Explained', 'Discuss_TreatOptions', 'Info_AsDesired',\n",
              "       'Plan_Acceptability_Check', 'Meds_Explained_SideFX',\n",
              "       'Encourage_Questions', 'Respond_Q_Concerns', 'Showed_Personal_Concern',\n",
              "       'Involved_In_Decisions', 'Discuss_NextSteps', 'Checked_Understanding',\n",
              "       'Time_Spent_Adequate', 'Satisfaction', 'Source',\n",
              "       'Monthly_Income_Missing', 'Age_zscore', 'Num of Children_zscore',\n",
              "       'Monthly Income_zscore', 'HIV_Duration_Years_zscore',\n",
              "       'Care_Duration_Years_zscore', 'Facility_Care_Dur_Years_zscore',\n",
              "       'Monthly Income_log', 'Education_Grouped', 'Employment_Grouped',\n",
              "       'Marital_Grouped', 'HIV_Care_Duration_Ratio', 'Care_Duration_Bucket',\n",
              "       'Age_x_HIV_Duration', 'Income_x_Education', 'Gender_x_Employment',\n",
              "       'Education_x_Employment', 'Empathy_Score', 'Listening_Score',\n",
              "       'Decision_Share_Score', 'Info_Delivery_Score',\n",
              "       'Empathy_Listening_Interaction', 'Empathy_DecisionShare_Interaction',\n",
              "       'All_High_Satisfaction', 'Any_Low_Score'],\n",
              "      dtype='object')"
            ]
          },
          "metadata": {},
          "execution_count": 27
        }
      ],
      "source": [
        "#@title ✅ Rename the Column: 'Satisfaction' for 'Visit_Satisfaction'\n",
        "\n",
        "df_cleaned.rename(columns={'Visit_Satisfaction': 'Satisfaction'}, inplace=True)\n",
        "\n",
        "df_cleaned.columns"
      ]
    },
    {
      "cell_type": "code",
      "execution_count": null,
      "metadata": {
        "colab": {
          "base_uri": "https://localhost:8080/"
        },
        "id": "ARy1YK7Ls5Sy",
        "outputId": "d26d857e-ed5b-4b76-e1c0-e373f143631f"
      },
      "outputs": [
        {
          "output_type": "stream",
          "name": "stdout",
          "text": [
            "Remaining columns: 41\n"
          ]
        }
      ],
      "source": [
        "# ---------------------------------------------------\n",
        "#@title ✅ Remove Redundant Features to Reduce Noise\n",
        "# ---------------------------------------------------\n",
        "\n",
        "# List of features to drop\n",
        "features_to_drop = [\n",
        "    'EnumID', 'Source', 'Visit_Satisfaction', 'Monthly_Income_Missing',\n",
        "    'Age_zscore', 'Num of Children_zscore', 'Monthly Income_zscore','HIV_Duration_Years_zscore',\n",
        "    'Care_Duration_Years_zscore', 'Facility_Care_Dur_Years_zscore','Educational Status', 'Employment Status',\n",
        "    'Marital Status','Monthly Income', 'Care_Duration_Bucket','Income_x_Education',\n",
        "    'Gender_x_Employment', 'Education_x_Employment', 'All_High_Satisfaction', 'Any_Low_Score'\n",
        "]\n",
        "\n",
        "# Drop the columns\n",
        "df_engineered = df_cleaned.drop(columns=features_to_drop, errors='ignore')\n",
        "\n",
        "# Confirm shape after drop (optional)\n",
        "print(f\"Remaining columns: {df_engineered.shape[1]}\")"
      ]
    },
    {
      "cell_type": "code",
      "source": [
        "# Save the preprocessed and engineered data\n",
        "df_engineered.to_csv(os.path.join(data_dir, \"processed_data.csv\"), index=False)"
      ],
      "metadata": {
        "id": "yTtexR1dSx2s"
      },
      "execution_count": null,
      "outputs": []
    },
    {
      "cell_type": "code",
      "execution_count": null,
      "metadata": {
        "colab": {
          "base_uri": "https://localhost:8080/"
        },
        "id": "wMM2jkQXxxvw",
        "outputId": "6301728f-8d7a-4de9-ebae-372ed6c558ac"
      },
      "outputs": [
        {
          "output_type": "execute_result",
          "data": {
            "text/plain": [
              "Index(['State', 'Age', 'Gender', 'Family Setting', 'Num of Children',\n",
              "       'Treatment Regimen', 'HIV_Duration_Years', 'Care_Duration_Years',\n",
              "       'Facility_Care_Dur_Years', 'HIV_Diag_Type', 'Greet_Comfort',\n",
              "       'Discuss_VisitReason', 'Encourage_Thoughts', 'Listen_Careful',\n",
              "       'Understood_You', 'Exam_Explained', 'LabTests_Explained',\n",
              "       'Discuss_TreatOptions', 'Info_AsDesired', 'Plan_Acceptability_Check',\n",
              "       'Meds_Explained_SideFX', 'Encourage_Questions', 'Respond_Q_Concerns',\n",
              "       'Showed_Personal_Concern', 'Involved_In_Decisions', 'Discuss_NextSteps',\n",
              "       'Checked_Understanding', 'Time_Spent_Adequate', 'Satisfaction',\n",
              "       'Monthly Income_log', 'Education_Grouped', 'Employment_Grouped',\n",
              "       'Marital_Grouped', 'HIV_Care_Duration_Ratio', 'Age_x_HIV_Duration',\n",
              "       'Empathy_Score', 'Listening_Score', 'Decision_Share_Score',\n",
              "       'Info_Delivery_Score', 'Empathy_Listening_Interaction',\n",
              "       'Empathy_DecisionShare_Interaction'],\n",
              "      dtype='object')"
            ]
          },
          "metadata": {},
          "execution_count": 30
        }
      ],
      "source": [
        "df_engineered.columns"
      ]
    },
    {
      "cell_type": "code",
      "execution_count": null,
      "metadata": {
        "colab": {
          "base_uri": "https://localhost:8080/"
        },
        "id": "LNI2iYbUyIQT",
        "outputId": "873bdf2e-7c84-45dd-caa5-9a32db7e1990"
      },
      "outputs": [
        {
          "output_type": "stream",
          "name": "stdout",
          "text": [
            "<class 'pandas.core.frame.DataFrame'>\n",
            "Index: 1499 entries, 0 to 1500\n",
            "Data columns (total 41 columns):\n",
            " #   Column                             Non-Null Count  Dtype  \n",
            "---  ------                             --------------  -----  \n",
            " 0   State                              1499 non-null   object \n",
            " 1   Age                                1499 non-null   float64\n",
            " 2   Gender                             1499 non-null   object \n",
            " 3   Family Setting                     1499 non-null   object \n",
            " 4   Num of Children                    1499 non-null   float64\n",
            " 5   Treatment Regimen                  1499 non-null   object \n",
            " 6   HIV_Duration_Years                 1499 non-null   float64\n",
            " 7   Care_Duration_Years                1499 non-null   float64\n",
            " 8   Facility_Care_Dur_Years            1499 non-null   float64\n",
            " 9   HIV_Diag_Type                      1499 non-null   object \n",
            " 10  Greet_Comfort                      1499 non-null   int64  \n",
            " 11  Discuss_VisitReason                1499 non-null   int64  \n",
            " 12  Encourage_Thoughts                 1499 non-null   int64  \n",
            " 13  Listen_Careful                     1499 non-null   int64  \n",
            " 14  Understood_You                     1499 non-null   int64  \n",
            " 15  Exam_Explained                     1499 non-null   int64  \n",
            " 16  LabTests_Explained                 1499 non-null   int64  \n",
            " 17  Discuss_TreatOptions               1499 non-null   int64  \n",
            " 18  Info_AsDesired                     1499 non-null   int64  \n",
            " 19  Plan_Acceptability_Check           1499 non-null   int64  \n",
            " 20  Meds_Explained_SideFX              1499 non-null   int64  \n",
            " 21  Encourage_Questions                1499 non-null   int64  \n",
            " 22  Respond_Q_Concerns                 1499 non-null   int64  \n",
            " 23  Showed_Personal_Concern            1499 non-null   int64  \n",
            " 24  Involved_In_Decisions              1499 non-null   int64  \n",
            " 25  Discuss_NextSteps                  1499 non-null   int64  \n",
            " 26  Checked_Understanding              1499 non-null   int64  \n",
            " 27  Time_Spent_Adequate                1499 non-null   int64  \n",
            " 28  Satisfaction                       1499 non-null   object \n",
            " 29  Monthly Income_log                 1499 non-null   float64\n",
            " 30  Education_Grouped                  1499 non-null   object \n",
            " 31  Employment_Grouped                 1499 non-null   object \n",
            " 32  Marital_Grouped                    1499 non-null   object \n",
            " 33  HIV_Care_Duration_Ratio            1499 non-null   float64\n",
            " 34  Age_x_HIV_Duration                 1499 non-null   float64\n",
            " 35  Empathy_Score                      1499 non-null   float64\n",
            " 36  Listening_Score                    1499 non-null   float64\n",
            " 37  Decision_Share_Score               1499 non-null   float64\n",
            " 38  Info_Delivery_Score                1499 non-null   float64\n",
            " 39  Empathy_Listening_Interaction      1499 non-null   float64\n",
            " 40  Empathy_DecisionShare_Interaction  1499 non-null   float64\n",
            "dtypes: float64(14), int64(18), object(9)\n",
            "memory usage: 491.9+ KB\n"
          ]
        }
      ],
      "source": [
        "df_engineered.info()"
      ]
    },
    {
      "cell_type": "markdown",
      "metadata": {
        "id": "PaDC9zF5OfBq"
      },
      "source": [
        "## **Modelling**"
      ]
    },
    {
      "cell_type": "code",
      "execution_count": null,
      "metadata": {
        "colab": {
          "base_uri": "https://localhost:8080/"
        },
        "id": "sTZgW36nvcSC",
        "outputId": "e489855d-9177-4eaf-d3f0-82f58c380320"
      },
      "outputs": [
        {
          "output_type": "stream",
          "name": "stdout",
          "text": [
            "Shape of X_train: (1199, 40)\n",
            "Shape of X_test: (300, 40)\n",
            "\n",
            "================================================================================\n",
            "\n"
          ]
        }
      ],
      "source": [
        "# ---------------------------------------------------------------------------------\n",
        "# @title ✅ Split, then Preprocess\n",
        "# ---------------------------------------------------------------------------------\n",
        "\n",
        "# Step 1: Split Features and Target (on raw data)\n",
        "X = df_engineered.drop(columns=['Satisfaction'])  # Features\n",
        "y = df_engineered['Satisfaction']     # Target\n",
        "\n",
        "X_train, X_test, y_train, y_test = train_test_split(\n",
        "    X, y, stratify=y, test_size=0.2, random_state=42\n",
        ")\n",
        "print(\"Shape of X_train:\", X_train.shape)\n",
        "print(\"Shape of X_test:\", X_test.shape)\n",
        "print(\"\\n\" + \"=\"*80 + \"\\n\")"
      ]
    },
    {
      "cell_type": "code",
      "execution_count": null,
      "metadata": {
        "colab": {
          "base_uri": "https://localhost:8080/"
        },
        "id": "37TBGND0xUal",
        "outputId": "85eaebaf-cb6e-4169-ba63-7a324b708ec1"
      },
      "outputs": [
        {
          "output_type": "stream",
          "name": "stdout",
          "text": [
            "X_train with encoded categorical features (first 5 rows):\n",
            "        Age  Num of Children  HIV_Duration_Years  Care_Duration_Years  \\\n",
            "0  0.195948         0.037377           -1.538841            -1.357346   \n",
            "1  0.195948         0.037377            0.112440             1.061381   \n",
            "2  0.195948        -1.396712            0.938080            -0.551103   \n",
            "3  1.110831         0.037377           -1.538841            -1.357346   \n",
            "4  0.195948         1.112944            0.938080             0.255139   \n",
            "\n",
            "   Facility_Care_Dur_Years  Greet_Comfort  Discuss_VisitReason  \\\n",
            "0                -1.255446       0.675102             0.747798   \n",
            "1                 0.412850       0.675102             0.747798   \n",
            "2                -1.612938       0.675102             0.747798   \n",
            "3                -1.255446       0.675102            -0.390032   \n",
            "4                 0.412850       0.675102             0.747798   \n",
            "\n",
            "   Encourage_Thoughts  Listen_Careful  Understood_You  ...  \\\n",
            "0            0.752285       -4.006705        0.874168  ...   \n",
            "1            0.752285       -0.662438       -0.336141  ...   \n",
            "2            0.752285       -0.662438       -1.546449  ...   \n",
            "3           -2.385072       -2.334571        0.874168  ...   \n",
            "4            0.752285        1.009695        0.874168  ...   \n",
            "\n",
            "   Empathy_Listening_Interaction  Empathy_DecisionShare_Interaction  State  \\\n",
            "0                       0.217973                           0.948267    2.0   \n",
            "1                       0.592050                           0.948267    0.0   \n",
            "2                      -0.679814                          -0.719543    0.0   \n",
            "3                      -0.567590                           0.417601    2.0   \n",
            "4                       1.059648                           1.043029    0.0   \n",
            "\n",
            "   Gender  Family Setting  Treatment Regimen  HIV_Diag_Type  \\\n",
            "0     1.0             0.0                0.0            2.0   \n",
            "1     0.0             1.0                0.0            4.0   \n",
            "2     0.0             0.0                1.0            4.0   \n",
            "3     0.0             1.0                0.0            2.0   \n",
            "4     0.0             0.0                0.0            2.0   \n",
            "\n",
            "   Education_Grouped  Employment_Grouped  Marital_Grouped  \n",
            "0                1.0                 3.0              0.0  \n",
            "1                1.0                 1.0              0.0  \n",
            "2                0.0                 1.0              0.0  \n",
            "3                1.0                 1.0              1.0  \n",
            "4                1.0                 1.0              2.0  \n",
            "\n",
            "[5 rows x 40 columns]\n",
            "\n",
            "================================================================================\n",
            "\n",
            "Original y_train values (first 10):\n",
            "['Very Satisfied' 'Very Dissatisfied' 'Satisfied' 'Very Satisfied'\n",
            " 'Very Dissatisfied' 'Satisfied' 'Satisfied' 'Very Dissatisfied'\n",
            " 'Satisfied' 'Neutral']\n",
            "\n",
            "Encoded y_train values (for XGBoost):\n",
            "[3 2 1 3 2 1 1 2 1 0]\n",
            "\n",
            "================================================================================\n",
            "\n"
          ]
        }
      ],
      "source": [
        "# ---------------------------------------------------------------------------------\n",
        "# @title ✅ Encoding and Preprocessing for Features (X) and and Target (y)\n",
        "# ---------------------------------------------------------------------------------\n",
        "\n",
        "categorical_features = X_train.select_dtypes(include='object').columns.tolist()\n",
        "numerical_features = X_train.select_dtypes(include=np.number).columns.tolist()\n",
        "\n",
        "# Define and Fit Encoders on Training Data ONLY\n",
        "feature_preprocessor = ColumnTransformer(\n",
        "    transformers=[\n",
        "        ('num', StandardScaler(), numerical_features),\n",
        "        ('cat', OrdinalEncoder(handle_unknown='use_encoded_value', unknown_value=-1), categorical_features)\n",
        "    ], remainder='passthrough'\n",
        ")\n",
        "feature_preprocessor.fit(X_train) # Fit the preprocessor on X_train\n",
        "\n",
        "satisfaction_order = [\"Very Dissatisfied\", \"Not Satisfied\", \"Neutral\", \"Satisfied\", \"Very Satisfied\"]\n",
        "target_encoder = OrdinalEncoder(categories=[satisfaction_order])\n",
        "label_encoder = LabelEncoder()\n",
        "\n",
        "# Fit encoders on training data and transform both sets\n",
        "X_train_transformed = feature_preprocessor.transform(X_train)\n",
        "X_test_transformed = feature_preprocessor.transform(X_test)\n",
        "y_train_encoded = label_encoder.fit_transform(y_train)\n",
        "y_test_encoded = label_encoder.transform(y_test)\n",
        "y_train_numeric = target_encoder.fit_transform(y_train.values.reshape(-1, 1))\n",
        "y_test_numeric = target_encoder.transform(y_test.values.reshape(-1, 1))\n",
        "\n",
        "print(\"X_train with encoded categorical features (first 5 rows):\")\n",
        "print(pd.DataFrame(X_train_transformed, columns=numerical_features + categorical_features).head())\n",
        "print(\"\\n\" + \"=\"*80 + \"\\n\")\n",
        "print(\"Original y_train values (first 10):\")\n",
        "print(y_train.values.flatten()[:10])\n",
        "print(\"\\nEncoded y_train values (for XGBoost):\")\n",
        "print(y_train_encoded.flatten()[:10])\n",
        "print(\"\\n\" + \"=\"*80 + \"\\n\")"
      ]
    },
    {
      "cell_type": "code",
      "execution_count": null,
      "metadata": {
        "colab": {
          "base_uri": "https://localhost:8080/"
        },
        "id": "daJ5Qj7ZX5bc",
        "outputId": "e6740a0c-3390-45c7-9175-34aab9d2acd5"
      },
      "outputs": [
        {
          "output_type": "execute_result",
          "data": {
            "text/plain": [
              "array(['Neutral', 'Satisfied', 'Very Satisfied', 'Very Dissatisfied'],\n",
              "      dtype=object)"
            ]
          },
          "metadata": {},
          "execution_count": 34
        }
      ],
      "source": [
        "y.unique()"
      ]
    },
    {
      "cell_type": "code",
      "execution_count": null,
      "metadata": {
        "colab": {
          "base_uri": "https://localhost:8080/"
        },
        "id": "r-GD53vswGeh",
        "outputId": "c09d2a72-0684-4b67-d33a-815e846c8cb5"
      },
      "outputs": [
        {
          "output_type": "stream",
          "name": "stdout",
          "text": [
            "Class weights (as dictionary):\n",
            "Class Weights: {'Neutral': np.float64(0.9958471760797342), 'Satisfied': np.float64(0.9958471760797342), 'Very Dissatisfied': np.float64(1.0058724832214765), 'Very Satisfied': np.float64(1.0025083612040133)}\n",
            "\n",
            "================================================================================\n",
            "\n"
          ]
        }
      ],
      "source": [
        "# --------------------------------------------------------------------\n",
        "# @title ✅ Compute Class Weights\n",
        "# --------------------------------------------------------------------\n",
        "\n",
        "classes = np.unique(y_train)\n",
        "class_weights = compute_class_weight(class_weight='balanced', classes=classes, y=y_train)\n",
        "class_weight_dict = dict(zip(classes, class_weights))\n",
        "print(\"Class weights (as dictionary):\")\n",
        "print(\"Class Weights:\", class_weight_dict)\n",
        "print(\"\\n\" + \"=\"*80 + \"\\n\")"
      ]
    },
    {
      "cell_type": "code",
      "execution_count": null,
      "metadata": {
        "colab": {
          "base_uri": "https://localhost:8080/"
        },
        "id": "OMbNw0XiDnS0",
        "outputId": "52e2ea83-d243-43ab-c8e0-1fe5bb83367e"
      },
      "outputs": [
        {
          "output_type": "stream",
          "name": "stdout",
          "text": [
            "Encoded Class Weights: {np.int64(0): np.float64(0.9958471760797342), np.int64(1): np.float64(0.9958471760797342), np.int64(2): np.float64(1.0058724832214765), np.int64(3): np.float64(1.0025083612040133)}\n",
            "\n",
            "================================================================================\n",
            "\n"
          ]
        }
      ],
      "source": [
        "# 💡 Create a new dictionary with INTEGER keys that match y_train_encoded\n",
        "# Use the label_encoder that was fitted on y_train\n",
        "class_weight_dict_encoded = {\n",
        "    label_encoder.transform([key])[0]: value\n",
        "    for key, value in class_weight_dict.items()\n",
        "}\n",
        "\n",
        "print(\"Encoded Class Weights:\", class_weight_dict_encoded)\n",
        "print(\"\\n\" + \"=\"*80 + \"\\n\")"
      ]
    },
    {
      "cell_type": "markdown",
      "metadata": {
        "id": "6h3jK3YdymE5"
      },
      "source": [
        "### ✅ **Model Training with Class Weights**"
      ]
    },
    {
      "cell_type": "code",
      "execution_count": null,
      "metadata": {
        "id": "XithRhwje1zP"
      },
      "outputs": [],
      "source": [
        "# ---------------------------------------------------------------------------------\n",
        "#@title ✅ Define custom scoring metrics and Stratified K-Fold for cross-validation\n",
        "# ----------------------------------------------------------------------------------\n",
        "\n",
        "# Define custom scoring metrics if needed, as log_loss needs predict_proba\n",
        "scoring = {\n",
        "    'accuracy': make_scorer(accuracy_score),\n",
        "    'f1_macro': make_scorer(f1_score, average='macro'),\n",
        "    'log_loss': make_scorer(log_loss, needs_proba=True, labels=np.unique(y_train))\n",
        "}\n",
        "\n",
        "# Set up Stratified K-Fold for cross-validation: Ensure n_splits is appropriate for your dataset size\n",
        "cv_stratified = StratifiedKFold(n_splits=3, shuffle=True, random_state=42)"
      ]
    },
    {
      "cell_type": "code",
      "execution_count": null,
      "metadata": {
        "id": "8UcU5dnvEWq9"
      },
      "outputs": [],
      "source": [
        "# -----------------------------------------------------------------------\n",
        "#@title ✅ Get feature names from the preprocessor for RF, XGB, and LGBM\n",
        "# This combines the numerical and categorical column names in the correct order\n",
        "# -----------------------------------------------------------------------\n",
        "\n",
        "processed_feature_names = feature_preprocessor.get_feature_names_out()"
      ]
    },
    {
      "cell_type": "code",
      "execution_count": null,
      "metadata": {
        "colab": {
          "base_uri": "https://localhost:8080/"
        },
        "id": "D39mmFLryGOo",
        "outputId": "e79f4d45-5ee6-4262-cb8f-dece0902701a"
      },
      "outputs": [
        {
          "output_type": "stream",
          "name": "stdout",
          "text": [
            "\n",
            "Starting GridSearchCV for RandomForestClassifier...\n",
            "Fitting 3 folds for each of 10 candidates, totalling 30 fits\n"
          ]
        },
        {
          "output_type": "stream",
          "name": "stderr",
          "text": [
            "/usr/local/lib/python3.11/dist-packages/sklearn/model_selection/_search.py:1135: UserWarning: One or more of the test scores are non-finite: [nan nan nan nan nan nan nan nan nan nan]\n",
            "  warnings.warn(\n"
          ]
        },
        {
          "output_type": "stream",
          "name": "stdout",
          "text": [
            "\n",
            "--- Hyperparameter Tuning Results for RandomForestClassifier ---\n",
            "Best parameters found: {'n_estimators': 200, 'min_samples_split': 2, 'min_samples_leaf': 1, 'max_depth': None}\n",
            "Best cross-validation F1-macro score: 0.8636\n",
            "Test Accuracy of best RandomForest model: 0.8900\n",
            "Test F1-macro score of best RandomForest model: 0.8895\n",
            "Test Log Loss of best RandomForest model: 0.5124\n"
          ]
        }
      ],
      "source": [
        "# --------------------------------------------\n",
        "#@title 🔹 Random Forest\n",
        "# -------------------------------------------\n",
        "\n",
        "# Define parameter grid for RandomForest\n",
        "param_grid_rf = {\n",
        "    'n_estimators': [100, 200],\n",
        "    'max_depth': [None, 10],\n",
        "    'min_samples_split': [2, 5],\n",
        "    'min_samples_leaf': [1, 2],\n",
        "}\n",
        "\n",
        "base_rf = RandomForestClassifier(\n",
        "        random_state=42,\n",
        "    class_weight=class_weight_dict_encoded\n",
        ") # Use 'balanced' for imbalanced datasets\n",
        "\n",
        "grid_search_rf = RandomizedSearchCV(\n",
        "    estimator=base_rf,\n",
        "    param_distributions=param_grid_rf,\n",
        "    n_iter=10,  # Try only 10 combinations\n",
        "    scoring=scoring,\n",
        "    refit='f1_macro',\n",
        "    cv=cv_stratified,\n",
        "    n_jobs=-1,\n",
        "    verbose=2,\n",
        "    random_state=42\n",
        ")\n",
        "\n",
        "print(\"\\nStarting GridSearchCV for RandomForestClassifier...\")\n",
        "grid_search_rf.fit(X_train_transformed, y_train_encoded) # Use X_train_processed if you're using pipelines for other models\n",
        "\n",
        "print(\"\\n--- Hyperparameter Tuning Results for RandomForestClassifier ---\")\n",
        "print(f\"Best parameters found: {grid_search_rf.best_params_}\")\n",
        "print(f\"Best cross-validation F1-macro score: {grid_search_rf.best_score_:.4f}\")\n",
        "\n",
        "# Evaluate best_rf_model on test set\n",
        "best_rf_model = grid_search_rf.best_estimator_\n",
        "y_pred_rf = best_rf_model.predict(X_test_transformed)\n",
        "y_proba_rf = best_rf_model.predict_proba(X_test_transformed)\n",
        "print(f\"Test Accuracy of best RandomForest model: {accuracy_score(y_test_encoded, y_pred_rf):.4f}\")\n",
        "print(f\"Test F1-macro score of best RandomForest model: {f1_score(y_test_encoded, y_pred_rf, average='macro'):.4f}\")\n",
        "print(f\"Test Log Loss of best RandomForest model: {log_loss(y_test_encoded, y_proba_rf):.4f}\")"
      ]
    },
    {
      "cell_type": "code",
      "execution_count": null,
      "metadata": {
        "colab": {
          "base_uri": "https://localhost:8080/"
        },
        "id": "-2-tYeSMFGlP",
        "outputId": "5a4cf001-9ee7-43df-8b9a-bb4d5b5b96c2"
      },
      "outputs": [
        {
          "output_type": "stream",
          "name": "stdout",
          "text": [
            "Top 10 Random Forest Features:\n",
            " num__Discuss_NextSteps                    0.068187\n",
            "num__Empathy_DecisionShare_Interaction    0.064231\n",
            "cat__State                                0.061308\n",
            "num__Empathy_Listening_Interaction        0.052147\n",
            "num__Info_Delivery_Score                  0.047329\n",
            "num__Age                                  0.046163\n",
            "num__Facility_Care_Dur_Years              0.043655\n",
            "num__Empathy_Score                        0.042231\n",
            "num__Exam_Explained                       0.041255\n",
            "cat__Education_Grouped                    0.036702\n",
            "dtype: float64\n",
            "\n",
            "==================================================\n",
            "\n"
          ]
        }
      ],
      "source": [
        "# --- Random Forest ---\n",
        "rf_importances = pd.Series(best_rf_model.feature_importances_, index=processed_feature_names)\n",
        "top_10_rf = rf_importances.sort_values(ascending=False).head(10)\n",
        "print(\"Top 10 Random Forest Features:\\n\", top_10_rf)\n",
        "print(\"\\n\" + \"=\"*50 + \"\\n\")"
      ]
    },
    {
      "cell_type": "code",
      "execution_count": null,
      "metadata": {
        "colab": {
          "base_uri": "https://localhost:8080/"
        },
        "id": "TZgxDO4FyxMp",
        "outputId": "14b6cffa-75d5-4350-9b84-5c3b2fe7fbea"
      },
      "outputs": [
        {
          "output_type": "stream",
          "name": "stdout",
          "text": [
            "\n",
            "Starting GridSearchCV for XGBoostClassifier...\n",
            "Fitting 3 folds for each of 8 candidates, totalling 24 fits\n"
          ]
        },
        {
          "output_type": "stream",
          "name": "stderr",
          "text": [
            "/usr/local/lib/python3.11/dist-packages/sklearn/model_selection/_search.py:1135: UserWarning: One or more of the test scores are non-finite: [nan nan nan nan nan nan nan nan]\n",
            "  warnings.warn(\n",
            "/usr/local/lib/python3.11/dist-packages/xgboost/core.py:158: UserWarning: [18:51:58] WARNING: /workspace/src/learner.cc:740: \n",
            "Parameters: { \"use_label_encoder\" } are not used.\n",
            "\n",
            "  warnings.warn(smsg, UserWarning)\n"
          ]
        },
        {
          "output_type": "stream",
          "name": "stdout",
          "text": [
            "\n",
            "--- Hyperparameter Tuning Results for XGBoostClassifier ---\n",
            "Best parameters found: {'colsample_bytree': 0.8, 'gamma': 0, 'learning_rate': 0.1, 'max_depth': 5, 'n_estimators': 100, 'subsample': 0.8}\n",
            "Best cross-validation F1-macro score: 0.8763\n",
            "Test Accuracy of best XGBoost model: 0.8700\n",
            "Test F1-macro score of best XGBoost model: 0.8693\n",
            "Test Log Loss of best XGBoost model: 0.2943\n",
            "                                              params  mean_test_f1_macro  \\\n",
            "6  {'colsample_bytree': 0.8, 'gamma': 0, 'learnin...            0.876258   \n",
            "5  {'colsample_bytree': 0.8, 'gamma': 0, 'learnin...            0.873856   \n",
            "7  {'colsample_bytree': 0.8, 'gamma': 0, 'learnin...            0.873302   \n",
            "1  {'colsample_bytree': 0.8, 'gamma': 0, 'learnin...            0.871273   \n",
            "4  {'colsample_bytree': 0.8, 'gamma': 0, 'learnin...            0.870799   \n",
            "\n",
            "   std_test_f1_macro  mean_test_accuracy  mean_test_log_loss  \n",
            "6           0.007030            0.877513                 NaN  \n",
            "5           0.006472            0.874182                 NaN  \n",
            "7           0.010871            0.874182                 NaN  \n",
            "1           0.001520            0.872482                 NaN  \n",
            "4           0.003136            0.872486                 NaN  \n"
          ]
        }
      ],
      "source": [
        "# --------------------------------------------\n",
        "#@title 🔹 XGBOOST\n",
        "# -------------------------------------------\n",
        "\n",
        "# --- Correctly Create Sample Weights ---\n",
        "# You must map the weights from the ENCODED target variable (y_train_encoded),\n",
        "# not the original string target (y_train).\n",
        "# We convert the numpy array to a pandas Series to use the .map() function.\n",
        "sample_weights = pd.Series(y_train_encoded).map(class_weight_dict_encoded)\n",
        "\n",
        "# Assuming class_weight_dict is already defined.\n",
        "# If not, ensure it's computed before this step.\n",
        "# For XGBoost, you often use `scale_pos_weight` for imbalanced datasets,\n",
        "# which is (number of negative samples) / (number of positive samples)\n",
        "# Or you can use the `class_weights` argument similar to sklearn models if it's supported by the wrapper.\n",
        "\n",
        "# Define the XGBoost model with initial parameters\n",
        "base_xgb = XGBClassifier(\n",
        "    objective='multi:softprob',  # For multi-class classification\n",
        "    eval_metric='mlogloss',      # Evaluation metric for multi-class logloss\n",
        "    use_label_encoder=False,     # Suppress warning for future versions\n",
        "    random_state=42,\n",
        "    n_jobs=-1                    # Use all available cores for parallel processing\n",
        ")\n",
        "\n",
        "# Define the parameter grid for XGBoost\n",
        "# Adjust these parameters based on your data and computational resources\n",
        "param_grid_xgb = {\n",
        "    'n_estimators': [100, 250],       # Number of boosting rounds (trees)\n",
        "    'learning_rate': [0.05, 0.1],    # Step size shrinkage\n",
        "    'max_depth': [3, 5],                # Maximum depth of a tree\n",
        "    'subsample': [0.8],          # Subsample ratio of the training instance\n",
        "    'colsample_bytree': [0.8],   # Subsample ratio of columns when constructing each tree\n",
        "    'gamma': [0]                 # Minimum loss reduction required to make a further partition on a leaf node of the tree\n",
        "}\n",
        "\n",
        "# Initialize GridSearchCV for XGBoost\n",
        "grid_search_xgb = GridSearchCV(\n",
        "    estimator=base_xgb,\n",
        "    param_grid=param_grid_xgb,\n",
        "    scoring=scoring,\n",
        "    refit='f1_macro',\n",
        "    cv=cv_stratified,\n",
        "    n_jobs=-1,\n",
        "    verbose=2\n",
        ")\n",
        "\n",
        "\n",
        "\n",
        "print(\"\\nStarting GridSearchCV for XGBoostClassifier...\")\n",
        "# Ensure X_train and X_test are preprocessed (e.g., one-hot encoded for categoricals\n",
        "# if not handled by your ColumnTransformer in a way XGBoost expects numerical features).\n",
        "# If your ColumnTransformer outputs numerical features directly suitable for XGBoost,\n",
        "# then X_train_processed and X_test_processed (if applicable) are ready.\n",
        "# Use X_train after your ColumnTransformer if it applies to all data\n",
        "#grid_search_xgb.fit(X_train_transformed, y_train_encoded, sample_weight=sample_weights)\n",
        "grid_search_xgb.fit(\n",
        "    X_train_transformed, y_train_encoded,\n",
        "    sample_weight=sample_weights,\n",
        "    verbose=False\n",
        ")\n",
        "\n",
        "print(\"\\n--- Hyperparameter Tuning Results for XGBoostClassifier ---\")\n",
        "print(f\"Best parameters found: {grid_search_xgb.best_params_}\")\n",
        "print(f\"Best cross-validation F1-macro score: {grid_search_xgb.best_score_:.4f}\")\n",
        "\n",
        "# Access the best estimator directly\n",
        "best_xgb_model = grid_search_xgb.best_estimator_\n",
        "\n",
        "# Evaluate the best model on the test set\n",
        "y_pred_xgb = best_xgb_model.predict(X_test_transformed)\n",
        "y_proba_xgb = best_xgb_model.predict_proba(X_test_transformed)\n",
        "\n",
        "print(f\"Test Accuracy of best XGBoost model: {accuracy_score(y_test_encoded, y_pred_xgb):.4f}\")\n",
        "print(f\"Test F1-macro score of best XGBoost model: {f1_score(y_test_encoded, y_pred_xgb, average='macro'):.4f}\")\n",
        "print(f\"Test Log Loss of best XGBoost model: {log_loss(y_test_encoded, y_proba_xgb):.4f}\")\n",
        "\n",
        "# To view all results\n",
        "results_df_xgb = pd.DataFrame(grid_search_xgb.cv_results_)\n",
        "print(results_df_xgb[['params', 'mean_test_f1_macro',\n",
        "                      'std_test_f1_macro', 'mean_test_accuracy',\n",
        "                      'mean_test_log_loss']].sort_values(by='mean_test_f1_macro', ascending=False).head())\n",
        "\n",
        "# # --- Class Mapping (remains the same) ---\n",
        "# This is for interpreting predictions later and is correct.\n",
        "# class_mapping = dict(zip(label_encoder.transform(label_encoder.classes_), label_encoder.classes_))\n",
        "\n",
        "# print(\"XGBoost model fitted successfully!\")"
      ]
    },
    {
      "cell_type": "code",
      "execution_count": null,
      "metadata": {
        "colab": {
          "base_uri": "https://localhost:8080/"
        },
        "id": "snGvgYzpM2F8",
        "outputId": "75a0fb18-5819-4926-f0e0-286f79d42a4f"
      },
      "outputs": [
        {
          "output_type": "stream",
          "name": "stdout",
          "text": [
            "Top 10 XGBoost Features:\n",
            " num__Discuss_NextSteps                    0.096144\n",
            "cat__State                                0.090776\n",
            "num__Checked_Understanding                0.071539\n",
            "num__Empathy_Listening_Interaction        0.066334\n",
            "num__Exam_Explained                       0.060743\n",
            "num__Empathy_Score                        0.036408\n",
            "num__Empathy_DecisionShare_Interaction    0.036068\n",
            "num__Info_Delivery_Score                  0.031845\n",
            "num__Age                                  0.029860\n",
            "num__Encourage_Thoughts                   0.029051\n",
            "dtype: float32\n",
            "\n",
            "==================================================\n",
            "\n"
          ]
        }
      ],
      "source": [
        "# --- XGBoost ---\n",
        "xgb_importances = pd.Series(best_xgb_model.feature_importances_, index=processed_feature_names)\n",
        "top_10_xgb = xgb_importances.sort_values(ascending=False).head(10)\n",
        "print(\"Top 10 XGBoost Features:\\n\", top_10_xgb)\n",
        "print(\"\\n\" + \"=\"*50 + \"\\n\")"
      ]
    },
    {
      "cell_type": "code",
      "execution_count": null,
      "metadata": {
        "colab": {
          "base_uri": "https://localhost:8080/"
        },
        "id": "IhBQQE_Ky_du",
        "outputId": "871ae96a-c431-425a-cec7-aa223bddc97a"
      },
      "outputs": [
        {
          "output_type": "stream",
          "name": "stdout",
          "text": [
            "\n",
            "Starting GridSearchCV for LGBMClassifier...\n",
            "Fitting 3 folds for each of 16 candidates, totalling 48 fits\n"
          ]
        },
        {
          "output_type": "stream",
          "name": "stderr",
          "text": [
            "/usr/local/lib/python3.11/dist-packages/sklearn/model_selection/_search.py:1135: UserWarning: One or more of the test scores are non-finite: [nan nan nan nan nan nan nan nan nan nan nan nan nan nan nan nan]\n",
            "  warnings.warn(\n"
          ]
        },
        {
          "output_type": "stream",
          "name": "stdout",
          "text": [
            "\n",
            "--- Hyperparameter Tuning Results for LGBMClassifier ---\n",
            "Best parameters found: {'learning_rate': 0.1, 'max_depth': 5, 'n_estimators': 100, 'num_leaves': 20, 'reg_alpha': 0, 'reg_lambda': 0}\n",
            "Best cross-validation F1-macro score: 0.8746\n",
            "Test Accuracy of best LightGBM model: 0.8800\n",
            "Test F1-macro score of best LightGBM model: 0.8802\n",
            "Test Log Loss of best LightGBM model: 0.2993\n",
            "                                               params  mean_test_f1_macro  \\\n",
            "8   {'learning_rate': 0.1, 'max_depth': 5, 'n_esti...            0.874641   \n",
            "1   {'learning_rate': 0.05, 'max_depth': 5, 'n_est...            0.872450   \n",
            "7   {'learning_rate': 0.05, 'max_depth': -1, 'n_es...            0.872132   \n",
            "13  {'learning_rate': 0.1, 'max_depth': -1, 'n_est...            0.871932   \n",
            "0   {'learning_rate': 0.05, 'max_depth': 5, 'n_est...            0.871607   \n",
            "\n",
            "    std_test_f1_macro  mean_test_accuracy  mean_test_log_loss  \n",
            "8            0.006962            0.874893                 NaN  \n",
            "1            0.002812            0.873227                 NaN  \n",
            "7            0.013858            0.872385                 NaN  \n",
            "13           0.005619            0.872391                 NaN  \n",
            "0            0.003583            0.872398                 NaN  \n"
          ]
        }
      ],
      "source": [
        "# --------------------------------------------\n",
        "#@title 🔹 LightGBM\n",
        "# -------------------------------------------\n",
        "\n",
        "# class_weight_dict is already defined. LightGBM, `class_weight=class_weight_dict_encoded`.\n",
        "# For multi-class, using `class_weight` parameter directly in the estimator is often sufficient.\n",
        "\n",
        "# Define the LightGBM model with initial parameters\n",
        "base_lgbm = LGBMClassifier(\n",
        "    objective='multiclass',  # For multi-class classification\n",
        "    metric='multi_logloss',  # Evaluation metric\n",
        "    random_state=42,\n",
        "    n_jobs=-1,               # Use all available cores\n",
        "    class_weight=class_weight_dict_encoded,  # To handle imbalanced datasets for multi-class\n",
        "    verbose=-1               # Suppress verbose output\n",
        ")\n",
        "\n",
        "\n",
        "# Define the parameter grid for LightGBM\n",
        "# Adjust these parameters based on your data and computational resources\n",
        "param_grid_lgbm = {\n",
        "    'n_estimators': [100, 250],      # Number of boosting rounds (trees)\n",
        "    'learning_rate': [0.05, 0.1],   # Step size shrinkage\n",
        "    'num_leaves': [20, 31],           # Maximum tree leaves for base learners\n",
        "    'max_depth': [5, -1],              # Maximum tree depth (-1 means no limit)\n",
        "    'reg_alpha': [0],           # L1 regularization\n",
        "    'reg_lambda': [0]           # L2 regularization\n",
        "}\n",
        "\n",
        "# Initialize GridSearchCV for LightGBM\n",
        "grid_search_lgbm = GridSearchCV(\n",
        "    estimator=base_lgbm,\n",
        "    param_grid=param_grid_lgbm,\n",
        "    scoring=scoring,\n",
        "    refit='f1_macro',\n",
        "    cv=cv_stratified,\n",
        "    n_jobs=-1,\n",
        "    verbose=2\n",
        ")\n",
        "\n",
        "print(\"\\nStarting GridSearchCV for LGBMClassifier...\")\n",
        "# LightGBM can handle categorical features directly if you specify them\n",
        "# by column name or integer indices (if they are already label encoded).-p\n",
        "# If your ColumnTransformer outputs numerical values, ensure they are correctly interpreted.\n",
        "# You might need to cast categorical columns to 'category' dtype if you want LGBM to handle them natively.\n",
        "# Example: X_train[categorical_cols] = X_train[categorical_cols].astype('category')\n",
        "# grid_search_lgbm.fit(X_train_transformed, y_train_encoded) # Use X_train after your ColumnTransformer\n",
        "grid_search_lgbm.fit(\n",
        "    X_train_transformed, y_train_encoded\n",
        ")\n",
        "\n",
        "print(\"\\n--- Hyperparameter Tuning Results for LGBMClassifier ---\")\n",
        "print(f\"Best parameters found: {grid_search_lgbm.best_params_}\")\n",
        "print(f\"Best cross-validation F1-macro score: {grid_search_lgbm.best_score_:.4f}\")\n",
        "\n",
        "# Access the best estimator directly\n",
        "best_lgbm_model = grid_search_lgbm.best_estimator_\n",
        "\n",
        "# Evaluate the best model on the test set\n",
        "y_pred_lgbm = best_lgbm_model.predict(X_test_transformed)\n",
        "y_proba_lgbm = best_lgbm_model.predict_proba(X_test_transformed)\n",
        "\n",
        "print(f\"Test Accuracy of best LightGBM model: {accuracy_score(y_test_encoded, y_pred_lgbm):.4f}\")\n",
        "print(f\"Test F1-macro score of best LightGBM model: {f1_score(y_test_encoded, y_pred_lgbm, average='macro'):.4f}\")\n",
        "print(f\"Test Log Loss of best LightGBM model: {log_loss(y_test_encoded, y_proba_lgbm):.4f}\")\n",
        "\n",
        "# To view all results\n",
        "results_df_lgbm = pd.DataFrame(grid_search_lgbm.cv_results_)\n",
        "print(results_df_lgbm[['params', 'mean_test_f1_macro',\n",
        "                       'std_test_f1_macro', 'mean_test_accuracy',\n",
        "                       'mean_test_log_loss']].sort_values(by='mean_test_f1_macro', ascending=False).head())"
      ]
    },
    {
      "cell_type": "code",
      "execution_count": null,
      "metadata": {
        "id": "z--EqW7DNZ3-",
        "colab": {
          "base_uri": "https://localhost:8080/"
        },
        "outputId": "240bca58-75d9-479f-f15d-f63c238e3f83"
      },
      "outputs": [
        {
          "output_type": "stream",
          "name": "stdout",
          "text": [
            "Top 10 LightGBM Features:\n",
            " num__Empathy_Listening_Interaction        417\n",
            "num__Empathy_DecisionShare_Interaction    412\n",
            "num__Info_Delivery_Score                  403\n",
            "num__Facility_Care_Dur_Years              337\n",
            "num__Age                                  332\n",
            "num__Age_x_HIV_Duration                   305\n",
            "num__HIV_Care_Duration_Ratio              261\n",
            "num__Exam_Explained                       250\n",
            "cat__Education_Grouped                    232\n",
            "cat__State                                227\n",
            "dtype: int32\n",
            "\n",
            "==================================================\n",
            "\n"
          ]
        }
      ],
      "source": [
        "# --- LightGBM ---\n",
        "lgbm_importances = pd.Series(best_lgbm_model.feature_importances_, index=processed_feature_names)\n",
        "top_10_lgbm = lgbm_importances.sort_values(ascending=False).head(10)\n",
        "print(\"Top 10 LightGBM Features:\\n\", top_10_lgbm)\n",
        "print(\"\\n\" + \"=\"*50 + \"\\n\")"
      ]
    },
    {
      "cell_type": "code",
      "execution_count": null,
      "metadata": {
        "id": "PjjmMWsCzMUQ",
        "colab": {
          "base_uri": "https://localhost:8080/"
        },
        "outputId": "fb50466b-4db1-4e7b-e56d-0826366d0acc"
      },
      "outputs": [
        {
          "output_type": "stream",
          "name": "stdout",
          "text": [
            "Starting GridSearchCV for CatBoostClassifier...\n",
            "Fitting 3 folds for each of 8 candidates, totalling 24 fits\n"
          ]
        },
        {
          "output_type": "stream",
          "name": "stderr",
          "text": [
            "/usr/local/lib/python3.11/dist-packages/joblib/externals/loky/process_executor.py:782: UserWarning: A worker stopped while some jobs were given to the executor. This can be caused by a too short worker timeout or by a memory leak.\n",
            "  warnings.warn(\n",
            "/usr/local/lib/python3.11/dist-packages/sklearn/model_selection/_search.py:1135: UserWarning: One or more of the test scores are non-finite: [nan nan nan nan nan nan nan nan]\n",
            "  warnings.warn(\n"
          ]
        },
        {
          "output_type": "stream",
          "name": "stdout",
          "text": [
            "\n",
            "--- Hyperparameter Tuning Results for CatBoostClassifier ---\n",
            "Best parameters found: {'border_count': 32, 'depth': 4, 'iterations': 250, 'l2_leaf_reg': 1, 'learning_rate': 0.1}\n",
            "Best cross-validation F1-macro score: 0.8839\n",
            "Test Accuracy of best CatBoost model: 0.8800\n",
            "Test F1-macro score of best CatBoost model: 0.8796\n",
            "Test Log Loss of best CatBoost model: 0.2886\n",
            "                                              params  mean_test_f1_macro  \\\n",
            "3  {'border_count': 32, 'depth': 4, 'iterations':...            0.883945   \n",
            "7  {'border_count': 32, 'depth': 6, 'iterations':...            0.875716   \n",
            "1  {'border_count': 32, 'depth': 4, 'iterations':...            0.864620   \n",
            "6  {'border_count': 32, 'depth': 6, 'iterations':...            0.864259   \n",
            "5  {'border_count': 32, 'depth': 6, 'iterations':...            0.863460   \n",
            "\n",
            "   std_test_f1_macro  mean_test_accuracy  mean_test_log_loss  \n",
            "3           0.007653            0.884896                 NaN  \n",
            "7           0.009043            0.876558                 NaN  \n",
            "1           0.004975            0.867387                 NaN  \n",
            "6           0.011616            0.865716                 NaN  \n",
            "5           0.012487            0.865718                 NaN  \n"
          ]
        }
      ],
      "source": [
        "# --------------------------------------------\n",
        "#@title 🔹 CATBOOST\n",
        "# -------------------------------------------\n",
        "\n",
        "# Categorical Encoding\n",
        "categorical_cols = ['State', 'Gender', 'Family Setting', 'Treatment Regimen', 'HIV_Diag_Type',\n",
        "                     'Education_Grouped', 'Employment_Grouped','Marital_Grouped', ]\n",
        "\n",
        "X_test_encoded = X_test.copy()\n",
        "encoder = OrdinalEncoder(handle_unknown='use_encoded_value', unknown_value=-1)\n",
        "X_test_encoded[categorical_cols] = encoder.fit_transform(X_test_encoded[categorical_cols])\n",
        "\n",
        "X_test_catboost = X_test.copy()\n",
        "X_test_catboost[categorical_cols] = X_test_catboost[categorical_cols].astype(str)\n",
        "X_train[categorical_cols] = X_train[categorical_cols].astype(str)\n",
        "\n",
        "# Define the CatBoost model with initial parameters\n",
        "# It's good practice to set verbose to False for GridSearchCV to avoid excessive output\n",
        "base_cat = CatBoostClassifier(\n",
        "    class_weights=list(class_weight_dict.values()),\n",
        "    random_state=42,\n",
        "    verbose=0,\n",
        "    early_stopping_rounds=50 # Add early stopping for faster tuning and to prevent overfitting\n",
        ")\n",
        "\n",
        "# Define the parameter grid for CatBoost: these parameters can be adjusted/add more based on your needs\n",
        "param_grid_catboost = {\n",
        "    'iterations': [100, 250], # Number of boosting iterations (trees)\n",
        "    'learning_rate': [0.05, 0.1], # Step size shrinkage\n",
        "    'depth': [4, 6], # Depth of the trees\n",
        "    'l2_leaf_reg': [1], # L2 regularization coefficient\n",
        "    'border_count': [32], # Number of splits for numerical features\n",
        "}\n",
        "\n",
        "# Initialize GridSearchCV\n",
        "grid_search_catboost = GridSearchCV(\n",
        "    estimator=base_cat,\n",
        "    param_grid=param_grid_catboost,\n",
        "    scoring=scoring, # Use the defined scoring dictionary\n",
        "    refit='f1_macro', # Refit the estimator on the whole dataset using the best 'f1_macro' score\n",
        "    cv=cv_stratified,\n",
        "    n_jobs=-1, # Use all available CPU cores\n",
        "    verbose=2 # Higher verbosity shows more details during the search\n",
        ")\n",
        "\n",
        "print(\"Starting GridSearchCV for CatBoostClassifier...\")\n",
        "\n",
        "# Fit GridSearchCV to the training data\n",
        "# Ensure that categorical_features are correctly identified and passed if necessary\n",
        "# For CatBoost, it's efficient to pass categorical features explicitly\n",
        "# categorical_cols should be defined from your preprocessing steps\n",
        "# Example: categorical_cols = ['State', 'Gender', 'Family Setting', ...]\n",
        "# It's important to pass the categorical_features argument to the fit method\n",
        "# CatBoost handles categorical features internally without one-hot encoding if specified\n",
        "# Ensure X_train and y_train are correctly prepared (e.g., categorical columns as strings if CatBoost needs them that way)\n",
        "# Based on your notebook, X_train[categorical_cols] are converted to str for CatBoost\n",
        "\n",
        "grid_search_catboost.fit(X_train, y_train, cat_features=categorical_cols)\n",
        "print(\"\\n--- Hyperparameter Tuning Results for CatBoostClassifier ---\")\n",
        "print(f\"Best parameters found: {grid_search_catboost.best_params_}\")\n",
        "print(f\"Best cross-validation F1-macro score: {grid_search_catboost.best_score_:.4f}\")\n",
        "\n",
        "# You can also access the best estimator directly\n",
        "best_catboost_model = grid_search_catboost.best_estimator_\n",
        "\n",
        "# Evaluate the best model on the test set\n",
        "y_pred_catboost = best_catboost_model.predict(X_test)\n",
        "y_proba_catboost = best_catboost_model.predict_proba(X_test)\n",
        "print(f\"Test Accuracy of best CatBoost model: {accuracy_score(y_test, y_pred_catboost):.4f}\")\n",
        "print(f\"Test F1-macro score of best CatBoost model: {f1_score(y_test, y_pred_catboost, average='macro'):.4f}\")\n",
        "print(f\"Test Log Loss of best CatBoost model: {log_loss(y_test, y_proba_catboost):.4f}\")\n",
        "\n",
        "# To view all results\n",
        "results_df_catboost = pd.DataFrame(grid_search_catboost.cv_results_)\n",
        "print(results_df_catboost[['params', 'mean_test_f1_macro',\n",
        "                           'std_test_f1_macro', 'mean_test_accuracy',\n",
        "                           'mean_test_log_loss']].sort_values(by='mean_test_f1_macro', ascending=False).head())"
      ]
    },
    {
      "cell_type": "code",
      "execution_count": null,
      "metadata": {
        "id": "vWzMi7LkOMvv",
        "colab": {
          "base_uri": "https://localhost:8080/"
        },
        "outputId": "39b64239-f25b-4a46-a29c-96db0e42d117"
      },
      "outputs": [
        {
          "output_type": "stream",
          "name": "stdout",
          "text": [
            "Top 10 CatBoost Features:\n",
            " Discuss_NextSteps                    10.569818\n",
            "Education_Grouped                     8.282258\n",
            "State                                 6.361917\n",
            "Facility_Care_Dur_Years               5.961610\n",
            "Employment_Grouped                    5.743181\n",
            "Empathy_DecisionShare_Interaction     5.660106\n",
            "Exam_Explained                        5.219938\n",
            "HIV_Care_Duration_Ratio               4.831104\n",
            "Empathy_Listening_Interaction         4.715073\n",
            "Age                                   4.688301\n",
            "dtype: float64\n"
          ]
        }
      ],
      "source": [
        "# --- CatBoost ---\n",
        "# CatBoost was trained on raw data, so we use the original column names\n",
        "cat_importances = pd.Series(best_catboost_model.feature_importances_, index=X_train.columns)\n",
        "top_10_cat = cat_importances.sort_values(ascending=False).head(10)\n",
        "print(\"Top 10 CatBoost Features:\\n\", top_10_cat)"
      ]
    },
    {
      "cell_type": "code",
      "execution_count": null,
      "metadata": {
        "id": "5U39GsLHGj23",
        "colab": {
          "base_uri": "https://localhost:8080/",
          "height": 1000
        },
        "outputId": "950e7741-8148-46ca-c534-f7b2b3c7e232"
      },
      "outputs": [
        {
          "output_type": "display_data",
          "data": {
            "text/plain": [
              "<Figure size 1800x1200 with 4 Axes>"
            ],
            "image/png": "[encoded data removed]"
          },
          "metadata": {}
        }
      ],
      "source": [
        "# --------------------------------------------\n",
        "#@title ✅ Plotting all feature importances\n",
        "# -------------------------------------------\n",
        "\n",
        "fig, axes = plt.subplots(2, 2, figsize=(18, 12))\n",
        "fig.suptitle('Top 10 Feature Importances by Model', fontsize=20)\n",
        "\n",
        "# Random Forest\n",
        "top_10_rf.plot(kind='bar', ax=axes[0, 0], color='green')\n",
        "axes[0, 0].set_title('Random Forest')\n",
        "axes[0, 0].set_ylabel('Importance')\n",
        "axes[0, 0].tick_params(axis='x', rotation=45)\n",
        "\n",
        "# XGBoost\n",
        "top_10_xgb.plot(kind='bar', ax=axes[0, 1], color='orange')\n",
        "axes[0, 1].set_title('XGBoost')\n",
        "axes[0, 1].tick_params(axis='x', rotation=45)\n",
        "\n",
        "# LightGBM\n",
        "top_10_lgbm.plot(kind='bar', ax=axes[1, 0], color='blue')\n",
        "axes[1, 0].set_title('LightGBM')\n",
        "axes[1, 0].set_ylabel('Importance')\n",
        "axes[1, 0].tick_params(axis='x', rotation=45)\n",
        "\n",
        "# CatBoost\n",
        "top_10_cat.plot(kind='bar', ax=axes[1, 1], color='purple')\n",
        "axes[1, 1].set_title('CatBoost')\n",
        "axes[1, 1].tick_params(axis='x', rotation=45)\n",
        "\n",
        "plt.tight_layout(rect=[0, 0.03, 1, 0.95])\n",
        "plt.show()"
      ]
    },
    {
      "cell_type": "code",
      "execution_count": null,
      "metadata": {
        "id": "8MLkinOGHILB",
        "colab": {
          "base_uri": "https://localhost:8080/"
        },
        "outputId": "61d7cb5c-9532-473d-8972-eba819c3bbef"
      },
      "outputs": [
        {
          "output_type": "stream",
          "name": "stdout",
          "text": [
            "\n",
            "📊 Model Evaluation Summary (F1_weighted | Log Loss | Weighted Score):\n",
            "RandomForest: F1=0.8895, LogLoss=0.5124, CombinedScore=0.6091\n",
            "XGBoost: F1=0.8693, LogLoss=0.2943, CombinedScore=0.6366\n",
            "LightGBM: F1=0.8802, LogLoss=0.2993, CombinedScore=0.6443\n",
            "CatBoost: F1=0.8796, LogLoss=0.2886, CombinedScore=0.6459\n",
            "\n",
            "🏆 Best Model: CatBoost (Saved to trained_models/CatBoost_best_tuned_model.joblib)\n"
          ]
        }
      ],
      "source": [
        "# ------------------------------------------------------------------------------\n",
        "#@title ✅ Select and save the best model with multiple-metric weighted scoring\n",
        "# ------------------------------------------------------------------------------\n",
        "\n",
        "\n",
        "# Define weights for your metrics\n",
        "# e.g., prioritize F1 more than Log Loss\n",
        "weight_f1 = 0.8\n",
        "weight_logloss = 0.2\n",
        "\n",
        "# Compute scores on test set for each model\n",
        "model_scores = {}\n",
        "\n",
        "# Random Forest\n",
        "f1_rf = f1_score(y_test_encoded, y_pred_rf, average='weighted')\n",
        "logloss_rf = log_loss(y_test_encoded, y_proba_rf)\n",
        "model_scores['RandomForest'] = {'f1': f1_rf, 'logloss': logloss_rf}\n",
        "\n",
        "# XGBoost\n",
        "f1_xgb = f1_score(y_test_encoded, y_pred_xgb, average='weighted')\n",
        "logloss_xgb = log_loss(y_test_encoded, y_proba_xgb)\n",
        "model_scores['XGBoost'] = {'f1': f1_xgb, 'logloss': logloss_xgb}\n",
        "\n",
        "# LightGBM\n",
        "f1_lgbm = f1_score(y_test_encoded, y_pred_lgbm, average='weighted')\n",
        "logloss_lgbm = log_loss(y_test_encoded, y_proba_lgbm)\n",
        "model_scores['LightGBM'] = {'f1': f1_lgbm, 'logloss': logloss_lgbm}\n",
        "\n",
        "# CatBoost (uses raw X_test and y_test)\n",
        "f1_cat = f1_score(y_test, y_pred_catboost, average='weighted')\n",
        "logloss_cat = log_loss(y_test, y_proba_catboost)\n",
        "model_scores['CatBoost'] = {'f1': f1_cat, 'logloss': logloss_cat}\n",
        "\n",
        "# Compute final weighted scores\n",
        "final_scores = {}\n",
        "for model_name, metrics in model_scores.items():\n",
        "    final_score = (weight_f1 * metrics['f1']) - (weight_logloss * metrics['logloss'])\n",
        "    final_scores[model_name] = final_score\n",
        "\n",
        "# Select best model\n",
        "best_model_name = max(final_scores, key=final_scores.get)\n",
        "best_model_instance = {\n",
        "    'RandomForest': best_rf_model,\n",
        "    'XGBoost': best_xgb_model,\n",
        "    'LightGBM': best_lgbm_model,\n",
        "    'CatBoost': best_catboost_model\n",
        "}[best_model_name]\n",
        "\n",
        "# Save the best model\n",
        "models_dir = 'trained_models'\n",
        "os.makedirs(models_dir, exist_ok=True)\n",
        "filename = os.path.join(models_dir, f'{best_model_name}_best_tuned_model.joblib')\n",
        "joblib.dump(best_model_instance, filename)\n",
        "\n",
        "# Display results\n",
        "print(\"\\n📊 Model Evaluation Summary (F1_weighted | Log Loss | Weighted Score):\")\n",
        "for model, scores in model_scores.items():\n",
        "    final_score = final_scores[model]\n",
        "    print(f\"{model}: F1={scores['f1']:.4f}, LogLoss={scores['logloss']:.4f}, CombinedScore={final_score:.4f}\")\n",
        "\n",
        "print(f\"\\n🏆 Best Model: {best_model_name} (Saved to {filename})\")"
      ]
    },
    {
      "cell_type": "code",
      "source": [
        "# --------------------------------------------\n",
        "#@title ✅ SHAP + EXPLANATION PIPELINE (CATBOOST ONLY)\n",
        "# --------------------------------------------\n",
        "\n",
        "try:\n",
        "    # Attempt to retrieve the API key from Colab secrets\n",
        "    openrouter_api_key = userdata.get('SATISFACTION_APP_KEY')\n",
        "    if not openrouter_api_key:\n",
        "        raise ValueError(\"SATISFACTION_APP_KEY not found in Colab secrets or is empty.\")\n",
        "except Exception as e:\n",
        "    print(f\"Error retrieving API key from Colab secrets: {e}\")\n",
        "    print(\"Please ensure you have added 'SATISFACTION_APP_KEY' to Colab secrets and enabled notebook access.\")\n",
        "    # Fallback for local testing or if Colab secrets are not used,\n",
        "    # though for production, environment variables are preferred.\n",
        "    # For demonstration, you might temporarily hardcode a valid key IF you understand the security implications.\n",
        "    openrouter_api_key = 'YOUR_ACTUAL_OPENROUTER_API_KEY_HERE_IF_NOT_USING_COLAB_SECRETS' # Replace with your actual key if not using Colab secrets\n",
        "\n",
        "label_map = {\n",
        "    0: 'Very Dissatisfied',\n",
        "    1: 'Dissatisfied',\n",
        "    2: 'Neutral',\n",
        "    3: 'Satisfied',\n",
        "    4: 'Very Satisfied'\n",
        "}\n",
        "\n",
        "logs_df = pd.DataFrame(columns=[\n",
        "    'instance_idx', 'prediction', 'confidence', 'top_features',\n",
        "    'reason', 'suggestions', 'genai_explanation'\n",
        "])\n",
        "\n",
        "# New rule function for Overall Client Satisfaction\n",
        "def rule_overall_client_satisfaction(shap_scores, instance_data):\n",
        "    # Factors Positively Influencing Client Satisfaction:\n",
        "    # Provider Attitude and Communication (implied by Empathy_Score, Listening_Score)\n",
        "    # Differentiated Service Delivery (DSD) - assuming this is reflected in other features like wait times (if available) or service efficiency\n",
        "    # Socio-Economic Factors: Employment_Grouped, Monthly Income_log\n",
        "    # Treatment Complexity: Treatment Regimen (second or third-line ART)\n",
        "\n",
        "    # Factors Negatively Influencing Client Satisfaction:\n",
        "    # Lack of Participatory Care: Decision_Share_Score\n",
        "    # Poor Provider Attitude: (implied by Empathy_Score, Listening_Score)\n",
        "    # Family and Treatment Duration: Family_Setting (polygamous), Treatment_Duration_Years (if available)\n",
        "    # Structural and Financial Barriers: Fears of ART stockouts, fragmented services (these might need more direct features or be inferred)\n",
        "\n",
        "    # Thresholds for 'low' and 'high' might need to be adjusted based on data distribution\n",
        "    # This rule will return True if there's a significant positive or negative influence\n",
        "\n",
        "    reasons = []\n",
        "    suggestions = []\n",
        "\n",
        "    # Positive factors (checking for their presence or high scores)\n",
        "    if shap_scores.get('Empathy_Score', 3) >= 3.5:\n",
        "        reasons.append(\"High Empathy Score contributing to satisfaction.\")\n",
        "        suggestions.append(\"Maintain strong empathetic communication.\")\n",
        "    if shap_scores.get('Listening_Score', 3) >= 3.5:\n",
        "        reasons.append(\"High Listening Score indicating good provider listening.\")\n",
        "        suggestions.append(\"Continue active listening techniques.\")\n",
        "\n",
        "    # Check for DSD-related positive influences (if DSD features exist in instance_data)\n",
        "    # if instance_data.get('Reduced_Wait_Times', False):\n",
        "    #     reasons.append(\"Presence of Differentiated Service Delivery (e.g., reduced wait times) enhanced satisfaction.\")\n",
        "    #     suggestions.append(\"Expand DSD models where applicable.\")\n",
        "    # if instance_data.get('Monthly_Income_Grouped') in ['Moderate', 'High']:\n",
        "    #     reasons.append(\"Moderate to high monthly income positively impacted satisfaction.\")\n",
        "    #     suggestions.append(\"Consider socio-economic factors in care planning.\")\n",
        "    # if instance_data.get('Treatment_Regimen') in ['Second-line ART', 'Third-line ART']:\n",
        "    #     reasons.append(\"More complex ART regimen (second/third-line) associated with higher satisfaction, likely due to tailored support.\")\n",
        "    #     suggestions.append(\"Ensure robust support systems for clients on complex regimens.\")\n",
        "\n",
        "    # Negative factors (checking for their presence or low scores)\n",
        "    if shap_scores.get('Decision_Share_Score', 3) < 2.5:\n",
        "        reasons.append(\"Lack of participatory care (low decision sharing) negatively impacted satisfaction.\")\n",
        "        suggestions.append(\"Improve patient engagement in healthcare decisions.\")\n",
        "\n",
        "    if shap_scores.get('Empathy_Score', 3) < 2.5:\n",
        "        reasons.append(\"Poor provider attitude (low empathy) negatively impacted satisfaction.\")\n",
        "        suggestions.append(\"Enhance provider's empathetic communication and attitude training.\")\n",
        "    if shap_scores.get('Listening_Score', 3) < 2.5:\n",
        "        reasons.append(\"Poor provider listening negatively impacted satisfaction.\")\n",
        "        suggestions.append(\"Train providers on active listening techniques.\")\n",
        "\n",
        "    if instance_data.get('Family_Setting') == 'Polygamous':\n",
        "        reasons.append(\"Client from a polygamous family setting associated with lower satisfaction.\")\n",
        "        suggestions.append(\"Provide targeted support for clients from polygamous families.\")\n",
        "    # if instance_data.get('Treatment_Duration_Years', 0) >= 4 and instance_data.get('Treatment_Duration_Years', 0) <= 7:\n",
        "    #     reasons.append(\"Longer treatment duration (4-7 years) associated with reduced satisfaction, possibly due to burnout.\")\n",
        "    #     suggestions.append(\"Implement strategies to mitigate burnout for long-term clients.\")\n",
        "    # if instance_data.get('Fear_ART_Stockouts', False):\n",
        "    #     reasons.append(\"Fear of ART stockouts caused anxiety and lowered satisfaction.\")\n",
        "    #     suggestions.append(\"Address concerns about medication supply chain stability.\")\n",
        "    # if instance_data.get('Fragmented_Services_Issue', False):\n",
        "    #     reasons.append(\"Inconvenience of fragmented services negatively impacted satisfaction.\")\n",
        "    #     suggestions.append(\"Streamline service delivery processes for client convenience.\")\n",
        "\n",
        "    return len(reasons) > 0, reasons, suggestions # Return True if any reason is found, along with reasons and suggestions\n",
        "\n",
        "RULES = [\n",
        "    # General rules that only depend on shap_scores.\n",
        "    # The third element is now a tuple: (rule_function, expects_instance_data_bool)\n",
        "    # expects_instance_data_bool is True for rule_overall_client_satisfaction\n",
        "    # and False for the other rules.\n",
        "    ('Empathy was a key factor', \"Focus on cultivating supportive and warm provider relationships.\", (lambda s: s.get('Empathy_Score', 3) < 2.5 or s.get('Empathy_Score', 3) >= 3.5, False)),\n",
        "    ('Decision-sharing was a key factor', \"Improve client involvement in healthcare decisions.\", (lambda s: s.get('Decision_Share_Score', 3) < 2.5, False)),\n",
        "    ('Listening was a key factor', \"Enhance provider active listening techniques.\", (lambda s: s.get('Listening_Score', 3) < 2.5 or s.get('Listening_Score', 3) >= 3.5, False)),\n",
        "    # New rule for overall client satisfaction, which requires instance_data\n",
        "    ('Overall Client Satisfaction influenced by multiple factors',\n",
        "     \"Address a combination of provider communication, service delivery, socio-economic factors, treatment complexity, participatory care, family dynamics, treatment duration, and structural/financial barriers.\",\n",
        "     (rule_overall_client_satisfaction, True))\n",
        "]\n",
        "\n",
        "def enforce_categorical_dtypes(df, categorical_cols):\n",
        "    for col in categorical_cols:\n",
        "        df[col] = df[col].astype('category')\n",
        "    return df\n",
        "\n",
        "def get_shap_explainer(model, background_data):\n",
        "    return shap.TreeExplainer(model)\n",
        "\n",
        "def deepseek_generate_explanation(prediction, confidence, top_features, reasons, suggestions, openrouter_api_key):\n",
        "    prompt = f\"\"\"\n",
        "    You are an AI assistant helping a healthcare team understand why a specific HIV client was predicted to be '{prediction}' with {confidence}% confidence.\n",
        "\n",
        "    Top contributing factors:\n",
        "    {json.dumps(top_features, indent=2)}\n",
        "\n",
        "    Rule-based issues/influences:\n",
        "    {reasons}\n",
        "\n",
        "    Suggestions for improvement/reinforcement:\n",
        "    {suggestions}\n",
        "\n",
        "    Based on the article summary \"Journey to Sustainability: Enhancing HIV Person Centered Client Care and Life-saving Programming,\" consider the following factors when generating the explanation:\n",
        "    - **Positive Influences:** Respectful provider interactions (empathy, communication in preferred language), Differentiated Service Delivery (reduced wait times, multi-month dispensing, fast-track refill), socio-economic factors (unemployed/part-time/self-employed, moderate to high income), and clients on more complex second or third-line ART regimens.\n",
        "    - **Negative Influences:** Lack of participatory care, poor provider attitude, polygamous family settings, longer treatment duration (4-7 years), anxiety/emotional distress due to fears of ART stockouts, and inconvenience of fragmented services.\n",
        "\n",
        "    Write a concise and actionable explanation for clinical quality improvement, clearly articulating what led to the predicted satisfaction level and providing specific recommendations.\n",
        "    \"\"\"\n",
        "    headers = {\n",
        "        \"Authorization\": f\"Bearer {openrouter_api_key}\",\n",
        "        \"Content-Type\": \"application/json\",\n",
        "        #\"HTTP-Referer\": \"https://your-site.com\",\n",
        "        #\"X-Title\": \"HIV Satisfaction Model\"\n",
        "    }\n",
        "    body = {\n",
        "        \"model\": \"tngtech/deepseek-r1t2-chimera:free\",\n",
        "        \"messages\": [{\"role\": \"user\", \"content\": prompt}]\n",
        "    }\n",
        "    try:\n",
        "        response = requests.post(\"https://openrouter.ai/api/v1/chat/completions\",\n",
        "                                headers=headers, data=json.dumps(body))\n",
        "        if response.status_code == 200:\n",
        "            return response.json()['choices'][0]['message']['content']\n",
        "        else:\n",
        "            return \"LLM error: \" + response.text\n",
        "    except Exception as e:\n",
        "        return f\"Exception: {e}\"\n",
        "\n",
        "def explain_catboost_prediction(instance_idx, model, X_test, background_data, categorical_cols, openrouter_api_key):\n",
        "    global logs_df\n",
        "\n",
        "    X_test = enforce_categorical_dtypes(X_test.copy(), categorical_cols)\n",
        "    background_data = enforce_categorical_dtypes(background_data.copy(), categorical_cols)\n",
        "    explainer = get_shap_explainer(model, background_data)\n",
        "    instance = X_test.iloc[instance_idx:instance_idx+1]\n",
        "    shap_vals = explainer.shap_values(instance)\n",
        "    preds = model.predict_proba(instance)[0]\n",
        "    pred_class = model.predict(instance) # This returns a numpy array, e.g., array([4])\n",
        "\n",
        "    confidence_val = round(float(np.max(preds)) * 100, 1)\n",
        "    confidence = f\"{confidence_val}%\" # now a clean string\n",
        "\n",
        "\n",
        "    shap_vals_row = shap_vals[np.argmax(preds)][0] if isinstance(shap_vals, list) else shap_vals[0]\n",
        "    shap_dict = dict(zip(X_test.columns, shap_vals_row.flatten()))\n",
        "    top_features = dict(sorted(shap_dict.items(), key=lambda x: abs(x[1]), reverse=True)[:3])\n",
        "    top_features = {k: round(float(v), 1) for k, v in top_features.items()} # format nicely\n",
        "\n",
        "\n",
        "    shap_scores = {\n",
        "        'Empathy_Score': instance['Empathy_Score'].iloc[0],\n",
        "        'Decision_Share_Score': instance['Decision_Share_Score'].iloc[0],\n",
        "        'Listening_Score': instance['Listening_Score'].iloc[0],\n",
        "        # Add other relevant scores if they exist and are numeric\n",
        "    }\n",
        "\n",
        "    # Extract the actual instance data for the rule, especially for categorical features\n",
        "    instance_data = instance.iloc[0].to_dict()\n",
        "\n",
        "    reasons, suggestions = [], []\n",
        "    for reason_text, suggestion_text, rule_tuple in RULES:\n",
        "        rule_fn, expects_instance_data = rule_tuple # Unpack the tuple\n",
        "\n",
        "        if expects_instance_data: # If the rule expects both shap_scores and instance_data\n",
        "            is_triggered, rule_reasons, rule_suggestions = rule_fn(shap_scores, instance_data)\n",
        "            if is_triggered:\n",
        "                reasons.extend(rule_reasons)\n",
        "                suggestions.extend(rule_suggestions)\n",
        "        else: # For rules that only need shap_scores\n",
        "            if rule_fn(shap_scores):\n",
        "                reasons.append(reason_text)\n",
        "                suggestions.append(suggestion_text)\n",
        "\n",
        "    # FIX IS HERE: Convert the numpy array to a single integer\n",
        "    mapped_pred = pred_class # Use label_map for the prediction output\n",
        "    # or simply: mapped_pred = label_map[pred_class.item()] if you are sure it's a scalar array\n",
        "\n",
        "\n",
        "    explanation_text = deepseek_generate_explanation(\n",
        "        mapped_pred, confidence, top_features, reasons, suggestions,\n",
        "        openrouter_api_key=openrouter_api_key\n",
        "    )\n",
        "\n",
        "    log_entry = {\n",
        "        'instance_idx': instance_idx,\n",
        "        'prediction': mapped_pred,\n",
        "        'confidence': confidence,\n",
        "        'top_features': top_features,\n",
        "        'reason': \"; \".join(reasons),\n",
        "        'suggestions': \"; \".join(suggestions),\n",
        "        'genai_explanation': explanation_text\n",
        "    }\n",
        "\n",
        "    logs_df = pd.concat([logs_df, pd.DataFrame([log_entry])], ignore_index=True)\n",
        "    return log_entry\n",
        "\n",
        "def run_explanations_for_catboost(model, X_test_catboost, categorical_cols, max_instances=5):\n",
        "    print(f\"\\n🔎 Explaining top {max_instances} instances with SHAP + DeepSeek...\")\n",
        "    background_data = X_test_catboost.sample(n=min(100, len(X_test_catboost)), random_state=42)\n",
        "    for idx in range(min(max_instances, len(X_test_catboost))):\n",
        "        log_entry = explain_catboost_prediction(idx, model, X_test_catboost, background_data, categorical_cols, openrouter_api_key=openrouter_api_key)\n",
        "        print(f\"\\n🧾 Instance {idx} explanation:\")\n",
        "        print(log_entry)\n",
        "    print(\"\\n✅ Completed explanation batch.\")\n",
        "    print(\"\\n📋 Explanation Logs (Top 5):\")\n",
        "    print(logs_df.head())\n",
        "\n",
        "# --------------------------------------------\n",
        "# ✅ CALL FUNCTION TO GENERATE OUTPUT\n",
        "# --------------------------------------------\n",
        "\n",
        "cat_features = [\n",
        "     'Education_Grouped',\n",
        "    'State', 'Employment_Grouped'\n",
        "]\n",
        "\n",
        "run_explanations_for_catboost(\n",
        "    model=best_catboost_model,\n",
        "    X_test_catboost=X_test_catboost,\n",
        "    categorical_cols=cat_features,\n",
        "    max_instances=2\n",
        ")"
      ],
      "metadata": {
        "colab": {
          "base_uri": "https://localhost:8080/"
        },
        "id": "x47k9j56njg7",
        "outputId": "06738601-d234-467c-eaac-d43d54f82218"
      },
      "execution_count": null,
      "outputs": [
        {
          "output_type": "stream",
          "name": "stdout",
          "text": [
            "\n",
            "🔎 Explaining top 2 instances with SHAP + DeepSeek...\n",
            "\n",
            "🧾 Instance 0 explanation:\n",
            "{'instance_idx': 0, 'prediction': array([['Satisfied']], dtype=object), 'confidence': '91.8%', 'top_features': {'Empathy_Score': -0.5, 'Num of Children': 0.4, 'HIV_Care_Duration_Ratio': 0.4}, 'reason': 'Empathy was a key factor; Listening was a key factor; High Empathy Score contributing to satisfaction.; High Listening Score indicating good provider listening.', 'suggestions': 'Focus on cultivating supportive and warm provider relationships.; Enhance provider active listening techniques.; Maintain strong empathetic communication.; Continue active listening techniques.', 'genai_explanation': '\\n\\n### **Predicted Satisfaction Explanation & Actionable Recommendations**  \\n**Confidence:** 91.8% (\"Satisfied\")  \\n**Key Drivers of Satisfaction:**  \\n1. **Empathetic Provider Interactions** (Top Influence): Despite the negative coefficient (-0.5), the rule-based analysis confirms high empathy and active listening were critical contributors. This aligns with *respectful communication* and *participatory care* highlighted in the sustainability framework.  \\n2. **Stable Care Engagement** (HIV_Care_Duration_Ratio = 0.4): Longer continuity in care suggests trust in services and reduced anxiety about treatment disruptions, consistent with *Differentiated Service Delivery* benefits (e.g., fast-track refills).  \\n3. **Household Simplicity** (Num of Children = 0.4): Fewer dependents may correlate with logistical ease in accessing care (e.g., reduced scheduling conflicts).  \\n\\n---\\n\\n### **Recommendations for Quality Improvement**  \\n#### **Reinforce Strengths:**  \\n- **Maintain Empathy & Listening Standards:**  \\n  - Regularly train providers on trauma-informed communication (e.g., validating emotions, avoiding jargon).  \\n  - Monitor patient feedback on empathy via surveys or focus groups.  \\n- **Optimize Care Continuity:**  \\n  - Expand *multi-month dispensing* and *fast-track refills* to further reduce clinic visits for stable clients.  \\n\\n#### **Address Potential Risks:**  \\n- **Preempt Stockout Anxiety:**  \\n  - Proactively communicate ART supply status via SMS/community alerts to mitigate emotional distress.  \\n- **Simplify Care Navigation:**  \\n  - Streamline referrals for clients with complex regimens to avoid fragmented service experiences.  \\n\\n#### **Explore Socioeconomic Context:**  \\n- Screen for income stability or employment status (a positive sustainability factor) to identify clients needing additional support (e.g., transport subsidies).  \\n\\n---\\n\\n### **Action Summary**  \\nLeverage the client’s satisfaction with *empathetic communication* and *reliable care access* as a model. Strengthen systems to sustain trust (e.g., transparent supply chains, provider empathy training) and address latent risks like socioeconomic strain or service fragmentation.'}\n",
            "\n",
            "🧾 Instance 1 explanation:\n",
            "{'instance_idx': 1, 'prediction': array([['Satisfied']], dtype=object), 'confidence': '62.5%', 'top_features': {'Gender': -0.5, 'Age': 0.4, 'HIV_Care_Duration_Ratio': 0.3}, 'reason': 'Empathy was a key factor; Listening was a key factor; High Empathy Score contributing to satisfaction.; High Listening Score indicating good provider listening.', 'suggestions': 'Focus on cultivating supportive and warm provider relationships.; Enhance provider active listening techniques.; Maintain strong empathetic communication.; Continue active listening techniques.', 'genai_explanation': '\\n\\n### Explanation of Predicted Satisfaction (62.5% Confidence)  \\nThe client was predicted as **\"Satisfied\"** primarily due to **strong empathetic communication and active listening** demonstrated by their provider, coupled with their **longer engagement in HIV care** and **older age**. However, the moderate confidence score suggests room to further strengthen satisfaction drivers while addressing potential gender-specific needs.  \\n\\n#### Key Contributing Factors:  \\n1. **Positive Influences:**  \\n   - **High Empathy & Listening Scores**: Aligns with *respectful provider interactions*, fostering trust and participatory care.  \\n   - **Age (40+ likely)**: Older clients often value consistency in care and established provider relationships.  \\n   - **Stable Care Duration**: Longer engagement (reflected in *HIV_Care_Duration_Ratio*) suggests successful adaptation to treatment.  \\n\\n2. **Potential Limitations**:  \\n   - **Gender Impact (-0.5)**: Indicates dissatisfaction risks tied to gender (e.g., unique psychosocial needs, stigma experiences).  \\n   - **Moderate Confidence**: Suggests unmeasured factors (e.g., socio-economic stability, service convenience) may influence outcomes.  \\n\\n---\\n\\n### Actionable Recommendations for Improvement  \\n1. **Reinforce Strengths**:  \\n   - **Sustain empathetic communication**: Regularly train providers on trauma-informed, non-judgmental communication (e.g., reflective listening, validating emotions).  \\n   - **Leverage Differentiated Service Delivery (DSD)**: Offer fast-track refills or multi-month dispensing to **reduce visit frequency**, reinforcing satisfaction from streamlined care.  \\n\\n2. **Address Gender-Specific Needs**:  \\n   - Conduct gender-sensitive check-ins to identify barriers (e.g., stigma, family dynamics) and tailor support (e.g., peer groups for male/non-binary clients).  \\n\\n3. **Prevent Complacency**:  \\n   - Monitor for anxiety about ART stockouts or care fragmentation through routine client feedback surveys.  \\n   - **Optimize interdisciplinary care**: Integrate mental health or socioeconomic support for clients with longer treatment durations to mitigate burnout.  \\n\\n---\\n\\n**Final Note**: Capitalize on the client’s positive care experience by institutionalizing empathy and listening as clinic-wide standards while proactively addressing gender equity in service delivery.'}\n",
            "\n",
            "✅ Completed explanation batch.\n",
            "\n",
            "📋 Explanation Logs (Top 5):\n",
            "  instance_idx     prediction confidence  \\\n",
            "0            0  [[Satisfied]]      91.8%   \n",
            "1            1  [[Satisfied]]      62.5%   \n",
            "\n",
            "                                        top_features  \\\n",
            "0  {'Empathy_Score': -0.5, 'Num of Children': 0.4...   \n",
            "1  {'Gender': -0.5, 'Age': 0.4, 'HIV_Care_Duratio...   \n",
            "\n",
            "                                              reason  \\\n",
            "0  Empathy was a key factor; Listening was a key ...   \n",
            "1  Empathy was a key factor; Listening was a key ...   \n",
            "\n",
            "                                         suggestions  \\\n",
            "0  Focus on cultivating supportive and warm provi...   \n",
            "1  Focus on cultivating supportive and warm provi...   \n",
            "\n",
            "                                   genai_explanation  \n",
            "0  \\n\\n### **Predicted Satisfaction Explanation &...  \n",
            "1  \\n\\n### Explanation of Predicted Satisfaction ...  \n"
          ]
        }
      ]
    }
  ],
  "metadata": {
    "colab": {
      "provenance": []
    },
    "kernelspec": {
      "display_name": "Python 3",
      "name": "python3"
    },
    "language_info": {
      "name": "python"
    }
  },
  "nbformat": 4,
  "nbformat_minor": 0
}